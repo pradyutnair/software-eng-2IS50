{
 "cells": [
  {
   "cell_type": "code",
   "execution_count": 1,
   "metadata": {
    "collapsed": true,
    "ExecuteTime": {
     "end_time": "2023-06-18T08:08:05.093313400Z",
     "start_time": "2023-06-18T08:08:05.079668600Z"
    }
   },
   "outputs": [],
   "source": [
    "from typing import Iterator, Tuple"
   ]
  },
  {
   "cell_type": "code",
   "execution_count": 34,
   "outputs": [],
   "source": [
    "BIT = range(2)\n",
    "def binary_numbers_(n: int, indent='') -> Iterator[Tuple[int, ...]]:\n",
    "    \"\"\"Yield all n-bit binary tuples in lexicographic order.\n",
    "    Assumptions: n >= 0\n",
    "    \"\"\"\n",
    "    print(indent, f\"binary_numbers_({n})\", sep='')\n",
    "    if n == 0:\n",
    "        # base case\n",
    "        yield ()\n",
    "        print(\"yielding ()\", sep='')\n",
    "    else:\n",
    "        # inductive step\n",
    "        for b in BIT:\n",
    "            print(f\"{indent}b={b}\")\n",
    "            for t in binary_numbers_(n - 1, indent + 4 * ' '):\n",
    "                print(f\"{indent}t={t}\")\n",
    "                print(f\"{indent}yielding ({(b, ) + t})\")\n",
    "                yield (b, ) + t"
   ],
   "metadata": {
    "collapsed": false,
    "ExecuteTime": {
     "end_time": "2023-06-18T08:22:11.679956800Z",
     "start_time": "2023-06-18T08:22:11.668942700Z"
    }
   }
  },
  {
   "cell_type": "code",
   "execution_count": 36,
   "outputs": [
    {
     "name": "stdout",
     "output_type": "stream",
     "text": [
      "binary_numbers_(4)\n",
      "b=0\n",
      "    binary_numbers_(3)\n",
      "    b=0\n",
      "        binary_numbers_(2)\n",
      "        b=0\n",
      "            binary_numbers_(1)\n",
      "            b=0\n",
      "                binary_numbers_(0)\n",
      "            t=()\n",
      "            yielding ((0,))\n",
      "        t=(0,)\n",
      "        yielding ((0, 0))\n",
      "    t=(0, 0)\n",
      "    yielding ((0, 0, 0))\n",
      "t=(0, 0, 0)\n",
      "yielding ((0, 0, 0, 0))\n",
      "yielding ()\n",
      "            b=1\n",
      "                binary_numbers_(0)\n",
      "            t=()\n",
      "            yielding ((1,))\n",
      "        t=(1,)\n",
      "        yielding ((0, 1))\n",
      "    t=(0, 1)\n",
      "    yielding ((0, 0, 1))\n",
      "t=(0, 0, 1)\n",
      "yielding ((0, 0, 0, 1))\n",
      "yielding ()\n",
      "        b=1\n",
      "            binary_numbers_(1)\n",
      "            b=0\n",
      "                binary_numbers_(0)\n",
      "            t=()\n",
      "            yielding ((0,))\n",
      "        t=(0,)\n",
      "        yielding ((1, 0))\n",
      "    t=(1, 0)\n",
      "    yielding ((0, 1, 0))\n",
      "t=(0, 1, 0)\n",
      "yielding ((0, 0, 1, 0))\n",
      "yielding ()\n",
      "            b=1\n",
      "                binary_numbers_(0)\n",
      "            t=()\n",
      "            yielding ((1,))\n",
      "        t=(1,)\n",
      "        yielding ((1, 1))\n",
      "    t=(1, 1)\n",
      "    yielding ((0, 1, 1))\n",
      "t=(0, 1, 1)\n",
      "yielding ((0, 0, 1, 1))\n",
      "yielding ()\n",
      "    b=1\n",
      "        binary_numbers_(2)\n",
      "        b=0\n",
      "            binary_numbers_(1)\n",
      "            b=0\n",
      "                binary_numbers_(0)\n",
      "            t=()\n",
      "            yielding ((0,))\n",
      "        t=(0,)\n",
      "        yielding ((0, 0))\n",
      "    t=(0, 0)\n",
      "    yielding ((1, 0, 0))\n",
      "t=(1, 0, 0)\n",
      "yielding ((0, 1, 0, 0))\n",
      "yielding ()\n",
      "            b=1\n",
      "                binary_numbers_(0)\n",
      "            t=()\n",
      "            yielding ((1,))\n",
      "        t=(1,)\n",
      "        yielding ((0, 1))\n",
      "    t=(0, 1)\n",
      "    yielding ((1, 0, 1))\n",
      "t=(1, 0, 1)\n",
      "yielding ((0, 1, 0, 1))\n",
      "yielding ()\n",
      "        b=1\n",
      "            binary_numbers_(1)\n",
      "            b=0\n",
      "                binary_numbers_(0)\n",
      "            t=()\n",
      "            yielding ((0,))\n",
      "        t=(0,)\n",
      "        yielding ((1, 0))\n",
      "    t=(1, 0)\n",
      "    yielding ((1, 1, 0))\n",
      "t=(1, 1, 0)\n",
      "yielding ((0, 1, 1, 0))\n",
      "yielding ()\n",
      "            b=1\n",
      "                binary_numbers_(0)\n",
      "            t=()\n",
      "            yielding ((1,))\n",
      "        t=(1,)\n",
      "        yielding ((1, 1))\n",
      "    t=(1, 1)\n",
      "    yielding ((1, 1, 1))\n",
      "t=(1, 1, 1)\n",
      "yielding ((0, 1, 1, 1))\n",
      "yielding ()\n",
      "b=1\n",
      "    binary_numbers_(3)\n",
      "    b=0\n",
      "        binary_numbers_(2)\n",
      "        b=0\n",
      "            binary_numbers_(1)\n",
      "            b=0\n",
      "                binary_numbers_(0)\n",
      "            t=()\n",
      "            yielding ((0,))\n",
      "        t=(0,)\n",
      "        yielding ((0, 0))\n",
      "    t=(0, 0)\n",
      "    yielding ((0, 0, 0))\n",
      "t=(0, 0, 0)\n",
      "yielding ((1, 0, 0, 0))\n",
      "yielding ()\n",
      "            b=1\n",
      "                binary_numbers_(0)\n",
      "            t=()\n",
      "            yielding ((1,))\n",
      "        t=(1,)\n",
      "        yielding ((0, 1))\n",
      "    t=(0, 1)\n",
      "    yielding ((0, 0, 1))\n",
      "t=(0, 0, 1)\n",
      "yielding ((1, 0, 0, 1))\n",
      "yielding ()\n",
      "        b=1\n",
      "            binary_numbers_(1)\n",
      "            b=0\n",
      "                binary_numbers_(0)\n",
      "            t=()\n",
      "            yielding ((0,))\n",
      "        t=(0,)\n",
      "        yielding ((1, 0))\n",
      "    t=(1, 0)\n",
      "    yielding ((0, 1, 0))\n",
      "t=(0, 1, 0)\n",
      "yielding ((1, 0, 1, 0))\n",
      "yielding ()\n",
      "            b=1\n",
      "                binary_numbers_(0)\n",
      "            t=()\n",
      "            yielding ((1,))\n",
      "        t=(1,)\n",
      "        yielding ((1, 1))\n",
      "    t=(1, 1)\n",
      "    yielding ((0, 1, 1))\n",
      "t=(0, 1, 1)\n",
      "yielding ((1, 0, 1, 1))\n",
      "yielding ()\n",
      "    b=1\n",
      "        binary_numbers_(2)\n",
      "        b=0\n",
      "            binary_numbers_(1)\n",
      "            b=0\n",
      "                binary_numbers_(0)\n",
      "            t=()\n",
      "            yielding ((0,))\n",
      "        t=(0,)\n",
      "        yielding ((0, 0))\n",
      "    t=(0, 0)\n",
      "    yielding ((1, 0, 0))\n",
      "t=(1, 0, 0)\n",
      "yielding ((1, 1, 0, 0))\n",
      "yielding ()\n",
      "            b=1\n",
      "                binary_numbers_(0)\n",
      "            t=()\n",
      "            yielding ((1,))\n",
      "        t=(1,)\n",
      "        yielding ((0, 1))\n",
      "    t=(0, 1)\n",
      "    yielding ((1, 0, 1))\n",
      "t=(1, 0, 1)\n",
      "yielding ((1, 1, 0, 1))\n",
      "yielding ()\n",
      "        b=1\n",
      "            binary_numbers_(1)\n",
      "            b=0\n",
      "                binary_numbers_(0)\n",
      "            t=()\n",
      "            yielding ((0,))\n",
      "        t=(0,)\n",
      "        yielding ((1, 0))\n",
      "    t=(1, 0)\n",
      "    yielding ((1, 1, 0))\n",
      "t=(1, 1, 0)\n",
      "yielding ((1, 1, 1, 0))\n",
      "yielding ()\n",
      "            b=1\n",
      "                binary_numbers_(0)\n",
      "            t=()\n",
      "            yielding ((1,))\n",
      "        t=(1,)\n",
      "        yielding ((1, 1))\n",
      "    t=(1, 1)\n",
      "    yielding ((1, 1, 1))\n",
      "t=(1, 1, 1)\n",
      "yielding ((1, 1, 1, 1))\n",
      "yielding ()\n"
     ]
    },
    {
     "data": {
      "text/plain": "[(0, 0, 0, 0),\n (0, 0, 0, 1),\n (0, 0, 1, 0),\n (0, 0, 1, 1),\n (0, 1, 0, 0),\n (0, 1, 0, 1),\n (0, 1, 1, 0),\n (0, 1, 1, 1),\n (1, 0, 0, 0),\n (1, 0, 0, 1),\n (1, 0, 1, 0),\n (1, 0, 1, 1),\n (1, 1, 0, 0),\n (1, 1, 0, 1),\n (1, 1, 1, 0),\n (1, 1, 1, 1)]"
     },
     "execution_count": 36,
     "metadata": {},
     "output_type": "execute_result"
    }
   ],
   "source": [
    "list(binary_numbers_(4))"
   ],
   "metadata": {
    "collapsed": false,
    "ExecuteTime": {
     "end_time": "2023-06-18T08:22:42.882601300Z",
     "start_time": "2023-06-18T08:22:42.856850700Z"
    }
   }
  },
  {
   "cell_type": "markdown",
   "source": [
    "# Find grid paths\n",
    "Find the number of unique ways to traverse from the top left corner of a nxm grid to the bottom right corner of the grid. You can only move down or right one step at a time."
   ],
   "metadata": {
    "collapsed": false
   }
  },
  {
   "cell_type": "code",
   "execution_count": 39,
   "outputs": [],
   "source": [
    "def grid_paths(n: int, m: int):\n",
    "    \"\"\"\n",
    "    Find grid path\n",
    "\n",
    "    :param n:\n",
    "    :param m:\n",
    "    :return:\n",
    "    \"\"\"\n",
    "    if n == 1 or m == 1:\n",
    "        return 1\n",
    "    return grid_paths(n - 1, m) + grid_paths(n, m - 1)"
   ],
   "metadata": {
    "collapsed": false,
    "ExecuteTime": {
     "end_time": "2023-06-18T08:45:00.727921600Z",
     "start_time": "2023-06-18T08:45:00.709385200Z"
    }
   }
  },
  {
   "cell_type": "code",
   "execution_count": 40,
   "outputs": [
    {
     "data": {
      "text/plain": "10"
     },
     "execution_count": 40,
     "metadata": {},
     "output_type": "execute_result"
    }
   ],
   "source": [
    "grid_paths(3, 4)"
   ],
   "metadata": {
    "collapsed": false,
    "ExecuteTime": {
     "end_time": "2023-06-18T08:45:01.889064100Z",
     "start_time": "2023-06-18T08:45:01.867395300Z"
    }
   }
  }
 ],
 "metadata": {
  "kernelspec": {
   "display_name": "Python 3",
   "language": "python",
   "name": "python3"
  },
  "language_info": {
   "codemirror_mode": {
    "name": "ipython",
    "version": 2
   },
   "file_extension": ".py",
   "mimetype": "text/x-python",
   "name": "python",
   "nbconvert_exporter": "python",
   "pygments_lexer": "ipython2",
   "version": "2.7.6"
  }
 },
 "nbformat": 4,
 "nbformat_minor": 0
}
