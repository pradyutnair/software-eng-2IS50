{
 "cells": [
  {
   "attachments": {},
   "cell_type": "markdown",
   "metadata": {},
   "source": [
    "# 2IS50 Final Test - Example\n",
    "\n",
    "<div class=\"alert alert-warning\" role=\"alert\">\n",
    "    <b>RUN THIS NOTEBOOK WITH <code>Kernel > Restart & Run All</code> BEFORE SUBMITTING</b>\n",
    "</div>"
   ]
  },
  {
   "attachments": {},
   "cell_type": "markdown",
   "metadata": {},
   "source": [
    "\n",
    "# Introduction to this template exam notebook\n",
    "\n",
    "* This is a **personal** notebook. \n",
    "* Make sure you work in a **copy** of `...-template.ipynb`,\n",
    "    **renamed** to `...-yourIDnr.ipynb`,\n",
    "    where `yourIDnr` is your TU/e identification number.  \n",
    "\n",
    "You are expected to work with Python 3 code in this notebook.\n",
    "\n",
    "The locations where you must write your answers can be recognized by\n",
    "**marker lines**,\n",
    "which look like this:\n",
    "\n",
    ">`#//`\n",
    ">    `BEGIN_TODO [Label]` `Description` `(n points)`\n",
    ">\n",
    ">`#//`\n",
    ">    `END_TODO [Label]`\n",
    "\n",
    "<div class=\"alert alert-warning\" role=\"alert\">Do NOT modify or delete these marker lines.  Keep them as they are.<br/>\n",
    "<br/>\n",
    "NEVER write code that is needed for grading <i>outside</i> the marked blocks.\n",
    "It is invisible there.\n",
    "</div>\n",
    "\n",
    "Proceed in this notebook as follows:\n",
    "* **Personalize** the notebook (see below)\n",
    "* **Read** the text.\n",
    "* **Fill in** your answers between `BEGIN_TODO` and `END_TODO` marker lines.\n",
    "* **Run** _all_ code cells (also the ones _without_ your code),\n",
    "    _in linear order_ from the first code cell.\n",
    "\n",
    "**Personalize your notebook**:\n",
    "1. Copy the following lines of code:\n",
    "\n",
    "  ```python\n",
    "  AUTHOR_NAME = 'Your Full Name'\n",
    "  AUTHOR_ID_NR = '1234567'\n",
    "  AUTHOR_DATE = 'YYYY-MM-DD'  # when first modified, e.g. '2019-04-18'\n",
    "  ```\n",
    "\n",
    "1. Paste them between the marker lines in the next code cell.\n",
    "1. Fill in your _full name_, _identification number_, and the current _date_ as strings between quotes.\n",
    "1. Run the code cell by putting the cursor there and typing **Control-Enter**.\n"
   ]
  },
  {
   "cell_type": "code",
   "execution_count": 1,
   "metadata": {
    "ExecuteTime": {
     "end_time": "2023-06-18T08:47:18.351827600Z",
     "start_time": "2023-06-18T08:47:18.330554900Z"
    }
   },
   "outputs": [
    {
     "data": {
      "text/plain": "('Pradyut Nair', 1577239, '17-06-2023')"
     },
     "execution_count": 1,
     "metadata": {},
     "output_type": "execute_result"
    }
   ],
   "source": [
    "#// BEGIN_TODO [Author] Name, Id.nr., Date, as strings (0 points)\n",
    "\n",
    "AUTHOR_NAME = 'Pradyut Nair'\n",
    "AUTHOR_ID_NR = 1577239\n",
    "AUTHOR_DATE = '17-06-2023'\n",
    "#// END_TODO [Author]\n",
    "\n",
    "AUTHOR_NAME, AUTHOR_ID_NR, AUTHOR_DATE"
   ]
  },
  {
   "attachments": {},
   "cell_type": "markdown",
   "metadata": {},
   "source": [
    "## Preliminaries\n",
    "\n",
    "This final test consists of _four_ questions,\n",
    "with _nine_ subquestions in total, for a maximum total of _70 points_.\n",
    "\n",
    "**Notes** state requirements.\n",
    "It is obligatory to follow these for the maximum score.\n",
    "\n",
    "**Hints** are helpful suggestions and reminders.\n",
    "\n",
    "**Notes**:\n",
    "\n",
    "For all functions and methods that you are asked to define:\n",
    "* Include **type hints**.\n",
    "* Include documentation in the form of a **docstring**, with **assumptions**.\n",
    "* Unless otherwise stated, include **adequate doctest examples**.  \n",
    "  Doctest examples are only required for the primary functions;\n",
    "  that is, not for _auxiliary_ functions that you introduce yourself.\n",
    "  \n",
    "**Hints**:\n",
    "* When you do not succeed in solving part of a question,\n",
    "  proceed to the next part, assuming that solutions for preceding parts are available.  \n",
    "  (Of course, this does make it harder for you to test your code,\n",
    "  but you can define a 'dummy' solution to be able to run your code.)"
   ]
  },
  {
   "cell_type": "code",
   "execution_count": 2,
   "metadata": {
    "slideshow": {
     "slide_type": "subslide"
    },
    "ExecuteTime": {
     "end_time": "2023-06-18T08:47:18.406367400Z",
     "start_time": "2023-06-18T08:47:18.351334600Z"
    }
   },
   "outputs": [
    {
     "name": "stdout",
     "output_type": "stream",
     "text": [
      "nb-mypy.py not installed\n"
     ]
    }
   ],
   "source": [
    "# enable mypy type checking (if installed)\n",
    "\n",
    "if 'nb_mypy' in get_ipython().magics_manager.magics.get('line'):\n",
    "    %nb_mypy On\n",
    "    %nb_mypy\n",
    "else:\n",
    "    print(\"nb-mypy.py not installed\")"
   ]
  },
  {
   "cell_type": "code",
   "execution_count": 3,
   "metadata": {
    "ExecuteTime": {
     "end_time": "2023-06-18T08:47:18.425430400Z",
     "start_time": "2023-06-18T08:47:18.367927300Z"
    }
   },
   "outputs": [],
   "source": [
    "# import some useful facilities\n",
    "\n",
    "import random\n",
    "import math\n",
    "import string\n",
    "import collections as co\n",
    "import itertools as it\n",
    "from typing import Tuple, List, Set, Dict, DefaultDict, Counter, Iterator, Iterable\n",
    "from typing import Any, Optional, Sequence, Mapping\n",
    "import doctest\n",
    "from pprint import pprint\n"
   ]
  },
  {
   "attachments": {},
   "cell_type": "markdown",
   "metadata": {},
   "source": [
    "## 0. Online Exam Specials"
   ]
  },
  {
   "attachments": {},
   "cell_type": "markdown",
   "metadata": {},
   "source": [
    "### 0.a. Badge number and address\n",
    "\n",
    "1. Copy the following lines of code:\n",
    "\n",
    "  ```python\n",
    "  AUTHOR_BADGE_NR = '7654321'  # printed sideways on campus card\n",
    "  AUTHOR_ADDRESS = 'Street + number, postal code + city, country code (e.g. NL)'\n",
    "  ```\n",
    "\n",
    "1. Paste them between the marker lines in the next code cell.\n",
    "1. Fill in the _badge number_ of your TU/e campus card (printed sideways)\n",
    "   and the _address_ where you take this exam, as strings between quotes.\n",
    "1. Run the code cell by putting the cursor there and typing **Control-Enter**."
   ]
  },
  {
   "cell_type": "code",
   "execution_count": 4,
   "metadata": {
    "ExecuteTime": {
     "end_time": "2023-06-18T08:47:18.425430400Z",
     "start_time": "2023-06-18T08:47:18.398234900Z"
    }
   },
   "outputs": [
    {
     "data": {
      "text/plain": "('1577239', 'Eindhoven + number, postal code + city, country code (e.g. NL)')"
     },
     "execution_count": 4,
     "metadata": {},
     "output_type": "execute_result"
    }
   ],
   "source": [
    "#// BEGIN_TODO [badge_nr_address] Badge number and address, as strings\n",
    "\n",
    "AUTHOR_BADGE_NR = '1577239'  # printed sideways on campus card\n",
    "AUTHOR_ADDRESS = 'Eindhoven + number, postal code + city, country code (e.g. NL)'\n",
    "\n",
    "#// END_TODO [badge_nr_address]\n",
    "\n",
    "AUTHOR_BADGE_NR, AUTHOR_ADDRESS"
   ]
  },
  {
   "attachments": {},
   "cell_type": "markdown",
   "metadata": {},
   "source": [
    "### 0.b. Declaration of trust\n",
    "\n",
    "Please read the following paragraph carefully, and acknowledge that you have done so\n",
    "in the next code cell.\n",
    "\n",
    "> By testing you remotely in this fashion,\n",
    "> we express our trust that you will adhere\n",
    "> to the ethical standard of behaviour expected of you.\n",
    "> This means that we trust you to answer the questions and\n",
    "> perform the assignments in this test to the best of your own ability,\n",
    "> without seeking or accepting the help of any source\n",
    "> that is not explicitly allowed by the conditions of this test.\n",
    "\n",
    "Acknowledge by assigning the boolean value `True` to the variable `I_confirm`:"
   ]
  },
  {
   "cell_type": "code",
   "execution_count": 5,
   "metadata": {
    "ExecuteTime": {
     "end_time": "2023-06-18T08:47:18.426434200Z",
     "start_time": "2023-06-18T08:47:18.413373100Z"
    }
   },
   "outputs": [
    {
     "data": {
      "text/plain": "True"
     },
     "execution_count": 5,
     "metadata": {},
     "output_type": "execute_result"
    }
   ],
   "source": [
    "I_confirm: Optional[bool] = None\n",
    "\n",
    "#// BEGIN_TODO [Declaration] Confirm by assigning True to I_confirm\n",
    "\n",
    "I_confirm = True\n",
    "\n",
    "#// END_TODO [Declaration]\n",
    "\n",
    "I_confirm"
   ]
  },
  {
   "attachments": {},
   "cell_type": "markdown",
   "metadata": {},
   "source": [
    "### 0.c. Remarks from the student\n",
    "\n",
    "In the following text cell, you can report any irregularities\n",
    "that occurred during the exam."
   ]
  },
  {
   "attachments": {},
   "cell_type": "markdown",
   "metadata": {},
   "source": [
    "`#// BEGIN_TODO [Remarks] Remarks about irregularities during exam`\n",
    "\n",
    "<div class='alert alert-warning' role='alert'>Replace this line by your text.</div>\n",
    "\n",
    "`#// END_TODO [Remarks]`"
   ]
  },
  {
   "attachments": {},
   "cell_type": "markdown",
   "metadata": {},
   "source": [
    "---"
   ]
  },
  {
   "attachments": {},
   "cell_type": "markdown",
   "metadata": {},
   "source": [
    "## 1. No-rep Numbers and Functional Decomposition\n",
    "\n",
    "A _no-rep_ number is a non-negative integer whose (decimal) digits satisfy:\n",
    "* no two adjacent digits are equal. ['adjacent' means 'next to each other']\n",
    "\n",
    "We use the customary notation for numbers, without leading zeroes.\n",
    "Note that Python does not accept `007` as an integer.\n",
    "\n",
    "For example,\n",
    "* 0 is a no-rep number\n",
    "* 101010 is a no-rep number\n",
    "* 909909 is not a no-rep number"
   ]
  },
  {
   "attachments": {},
   "cell_type": "markdown",
   "metadata": {},
   "source": [
    "Consider the following given code that counts how many no-rep numbers there are\n",
    "among the first one hundred natural numbers."
   ]
  },
  {
   "cell_type": "code",
   "execution_count": 6,
   "metadata": {
    "ExecuteTime": {
     "end_time": "2023-06-18T08:47:18.560774700Z",
     "start_time": "2023-06-18T08:47:18.430447200Z"
    }
   },
   "outputs": [
    {
     "name": "stdout",
     "output_type": "stream",
     "text": [
      "91\n"
     ]
    }
   ],
   "source": [
    "BASE = 10  # the base for decimal notation of numbers\n",
    "count = 0  # number of no-rep numbers encountered so far\n",
    "\n",
    "for number in range(100):\n",
    "    prev = -1  # previous digit, chosen to differ from all digits in number\n",
    "    \n",
    "    while number > 0:\n",
    "        digit = number % BASE  # last digit of number\n",
    "        if digit == prev:\n",
    "            break\n",
    "        number = number // BASE  # drop last digit from number\n",
    "        prev = digit\n",
    "    else:\n",
    "        count += 1\n",
    "\n",
    "print(count)"
   ]
  },
  {
   "attachments": {},
   "cell_type": "markdown",
   "metadata": {},
   "source": [
    "That count seems plausible, since only the nine number 11, 22, ..., 99 are skipped."
   ]
  },
  {
   "attachments": {},
   "cell_type": "markdown",
   "metadata": {},
   "source": [
    "### 1.a. Check whether a number is a no-rep number\n",
    "\n",
    "Define function `is_no_rep` that\n",
    "determines whether a given *non-negative* number is a no-rep number\n",
    "in a given base (*at least 2*).\n",
    "\n",
    "For example,\n",
    "* `is_no_rep(101010, 10)` returns `True`\n",
    "* `is_no_rep(909909, 10)` returns `False`\n",
    "* `is_no_rep(10922, 2)` returns `True` (10922 in binary is 10101010101010)\n",
    "\n",
    "**Notes**:\n",
    "* Use the given code."
   ]
  },
  {
   "cell_type": "code",
   "execution_count": 7,
   "metadata": {
    "ExecuteTime": {
     "end_time": "2023-06-18T08:47:18.583498600Z",
     "start_time": "2023-06-18T08:47:18.447042700Z"
    }
   },
   "outputs": [],
   "source": [
    "#// BEGIN_TODO [is_no_rep] Is number a no-rep number (10 points)\n",
    "\n",
    "def is_no_rep(N: int, base: int):\n",
    "    \"\"\"\n",
    "    Returns whether a number is no-rep or not\n",
    "\n",
    "    :param N: number to check\n",
    "    :param base: base to use to determine repetition\n",
    "    :return: bool indicating whether it is a no-rep\n",
    "\n",
    "    examples:\n",
    "\n",
    "    >>> is_no_rep(101010, 10)\n",
    "    True\n",
    "    >>> is_no_rep(909909, 10)\n",
    "    False\n",
    "    >>> is_no_rep(10922, 2)\n",
    "    True\n",
    "    \"\"\"\n",
    "    assert N >= 0, \"Value must be greater or equal to 0\"\n",
    "    assert base >= 2, \"Value must be greater or equal to 2\"\n",
    "\n",
    "    prev = -1  # previous digit, chosen to differ from all digits in number\n",
    "\n",
    "    while N > 0:\n",
    "        digit = N % base  # last digit of number\n",
    "        if digit == prev:\n",
    "            return False\n",
    "        N = N // base  # drop last digit from number\n",
    "        prev = digit\n",
    "    else:\n",
    "        return True\n",
    "\n",
    "\n",
    "#// END_TODO [is_no_rep]"
   ]
  },
  {
   "cell_type": "code",
   "execution_count": 8,
   "metadata": {
    "ExecuteTime": {
     "end_time": "2023-06-18T08:47:18.584502300Z",
     "start_time": "2023-06-18T08:47:18.460639900Z"
    }
   },
   "outputs": [
    {
     "name": "stdout",
     "output_type": "stream",
     "text": [
      "Finding tests in is_no_rep\n",
      "Trying:\n",
      "    is_no_rep(101010, 10)\n",
      "Expecting:\n",
      "    True\n",
      "ok\n",
      "Trying:\n",
      "    is_no_rep(909909, 10)\n",
      "Expecting:\n",
      "    False\n",
      "ok\n",
      "Trying:\n",
      "    is_no_rep(10922, 2)\n",
      "Expecting:\n",
      "    True\n",
      "ok\n"
     ]
    }
   ],
   "source": [
    "doctest.run_docstring_examples(is_no_rep, globals(), verbose=True, name='is_no_rep')"
   ]
  },
  {
   "attachments": {},
   "cell_type": "markdown",
   "metadata": {},
   "source": [
    "### 1.b. Count no-rep numbers\n",
    "\n",
    "Define function `count_no_rep` that\n",
    "counts the number of no-rep numbers in a given iterable for a given base (at least 2).\n",
    "\n",
    "**Hints**:\n",
    "* Use function `is_no_rep`.\n",
    "* Aim for a solution using built-in function `sum` and a _generator expression_.\n",
    "\n",
    "  (You can also write an explicit loop.)"
   ]
  },
  {
   "cell_type": "code",
   "execution_count": 9,
   "metadata": {
    "ExecuteTime": {
     "end_time": "2023-06-18T08:47:18.584998400Z",
     "start_time": "2023-06-18T08:47:18.475167200Z"
    }
   },
   "outputs": [],
   "source": [
    "def count_no_rep(iterable: Iterable[int], base: int) -> int:\n",
    "    \"\"\"Count no-rep numbers in given iterable for given base.\n",
    "    \n",
    "    Assumptions:\n",
    "    * all(number >= 0 for number in iterable)\n",
    "    * base >= 2\n",
    "    \n",
    "    >>> count_no_rep(range(100), 10)\n",
    "    91\n",
    "    >>> count_no_rep(range(1000), 2)\n",
    "    11\n",
    "    \"\"\"\n",
    "\n",
    "#// BEGIN_TODO [count_no_rep] Count no-rep numbers (5 points)\n",
    "\n",
    "    return sum(is_no_rep(n, base) for n in iterable)\n",
    "\n",
    "#// END_TODO [count_no_rep]"
   ]
  },
  {
   "cell_type": "code",
   "execution_count": 10,
   "metadata": {
    "ExecuteTime": {
     "end_time": "2023-06-18T08:47:18.585501500Z",
     "start_time": "2023-06-18T08:47:18.491496500Z"
    }
   },
   "outputs": [
    {
     "name": "stdout",
     "output_type": "stream",
     "text": [
      "Finding tests in count_no_rep\n",
      "Trying:\n",
      "    count_no_rep(range(100), 10)\n",
      "Expecting:\n",
      "    91\n",
      "ok\n",
      "Trying:\n",
      "    count_no_rep(range(1000), 2)\n",
      "Expecting:\n",
      "    11\n",
      "ok\n"
     ]
    }
   ],
   "source": [
    "doctest.run_docstring_examples(count_no_rep, globals(), verbose=True, name='count_no_rep')"
   ]
  },
  {
   "attachments": {},
   "cell_type": "markdown",
   "metadata": {},
   "source": [
    "### 1.c. Dictionary of counts\n",
    "\n",
    "Write code to define variable `counts` as a dictionary\n",
    "with as _keys_ the numbers 2 through `K` (inclusive),\n",
    "and as associated _values_ the number of no-rep numbers in `range(N)` with base equal to the key.\n",
    "\n",
    "**Notes**:\n",
    "* `K` and `N` is given constants.  Your code must use these constants.\n",
    "\n",
    "**Hints**:\n",
    "* Aim for a _dictionary comprehension_.\n",
    "\n",
    "  (You can also write an explicit loop.)"
   ]
  },
  {
   "cell_type": "code",
   "execution_count": 11,
   "metadata": {
    "ExecuteTime": {
     "end_time": "2023-06-18T08:47:18.586510400Z",
     "start_time": "2023-06-18T08:47:18.505011800Z"
    }
   },
   "outputs": [
    {
     "data": {
      "text/plain": "{2: 11, 3: 159, 4: 364, 5: 469, 6: 625, 7: 672, 8: 729, 9: 737, 10: 820}"
     },
     "execution_count": 11,
     "metadata": {},
     "output_type": "execute_result"
    }
   ],
   "source": [
    "K, N = 10, 1000\n",
    "\n",
    "#// BEGIN_TODO [counts] Dictionary with no-rep counts (5 points)\n",
    "\n",
    "counts = {k: count_no_rep(iterable=range(N), base=k) for k in range(2, K+1)}\n",
    "\n",
    "#// END_TODO [counts]\n",
    "\n",
    "counts"
   ]
  },
  {
   "attachments": {},
   "cell_type": "markdown",
   "metadata": {},
   "source": [
    "## 2. Word Play\n",
    "\n",
    "_Jumbling_ a word means rearranging the letters randomly\n",
    "such that the first and the last letter stay in place.\n",
    "For example, `trap` and `tarp` are jumbles of each other, but not of `part`.\n",
    "\n",
    "An experiment has shown that if you jumble each word in a text,\n",
    "then the text is still readible without loss of understandability\n",
    "(unless the text was specifically crafted).\n",
    "\n",
    "> Aoccdrnig to a rsecheearr at an Elingsh uinervtisy\n",
    "> it deosn't mttaer in waht oredr the ltteers in a wrod are,\n",
    "> the olny iprmoatnt tihng is that the frist and lsat ltteer be at the rghit pclae.\n",
    "> The rset can be a toatl mses and you can sitll raed it wouthit a porbelm.\n",
    "> Tihs is bcuseae we do not raed ervey lteter by itslef but the wrod as a wlohe. \n",
    "\n",
    "Let's redo that experiment."
   ]
  },
  {
   "attachments": {},
   "cell_type": "markdown",
   "metadata": {},
   "source": [
    "### 2.a. Jumble a word\n",
    "\n",
    "Define function `jumble_word`\n",
    "that takes a word (a _non-empty_ `str`) as argument and\n",
    "returns a jumbled version of that word.\n",
    "\n",
    "For example,\n",
    "* `jumble_word('The')` returns `'The'`\n",
    "* `jumble_word('Test')` can return `'Test'` or `'Tset'`\n",
    "\n",
    "**Notes**:\n",
    "* Provide type hints and a docstring, including assumptions and doctest examples.\n",
    "* Raise an `AssertionError` if the argumment is empty,\n",
    "  with message `\"word must not be empty\"`.\n",
    "* Use `random.shuffle` to shuffle items in a list\n",
    "  (it modifies the list)."
   ]
  },
  {
   "cell_type": "code",
   "execution_count": 12,
   "metadata": {
    "ExecuteTime": {
     "end_time": "2023-06-18T08:47:18.616770400Z",
     "start_time": "2023-06-18T08:47:18.538722600Z"
    }
   },
   "outputs": [],
   "source": [
    "#// BEGIN_TODO [jumble_word] Jumble a word (10 points)\n",
    "\n",
    "def jumble_word(word: str) -> str:\n",
    "    \"\"\"\n",
    "    Jumbles the leters between first and last letter\n",
    "\n",
    "    :param word: string to be jumbled\n",
    "    :return: jumbled string\n",
    "\n",
    "    Assumptions:\n",
    "    - Word should be a string\n",
    "\n",
    "    >>> jumble_word('The')\n",
    "    'The'\n",
    "    >>> jumble_word('Test') in ['Tset', 'Test']\n",
    "    True\n",
    "    >>> jumble_word('')\n",
    "    Traceback (most recent call last):\n",
    "    ...\n",
    "    AssertionError: word must not be empty\n",
    "    \"\"\"\n",
    "    assert type(word) == str, 'Enter a string'\n",
    "    assert word, 'word must not be empty'\n",
    "\n",
    "    if len(word) == 1:\n",
    "        return word\n",
    "\n",
    "    word_lst = [letter for letter in word[1:-1]]\n",
    "    # Modifies list in place\n",
    "    random.shuffle(word_lst)\n",
    "    # Join letters\n",
    "    shuffled_letters = ''.join(word_lst)\n",
    "    return word[0] + shuffled_letters + word[-1]\n",
    "\n",
    "#// END_TODO [jumble_word]"
   ]
  },
  {
   "cell_type": "code",
   "execution_count": 13,
   "metadata": {
    "ExecuteTime": {
     "end_time": "2023-06-18T08:47:18.617784400Z",
     "start_time": "2023-06-18T08:47:18.561292100Z"
    }
   },
   "outputs": [
    {
     "name": "stdout",
     "output_type": "stream",
     "text": [
      "Finding tests in jumble_word\n",
      "Trying:\n",
      "    jumble_word('The')\n",
      "Expecting:\n",
      "    'The'\n",
      "ok\n",
      "Trying:\n",
      "    jumble_word('Test') in ['Tset', 'Test']\n",
      "Expecting:\n",
      "    True\n",
      "ok\n",
      "Trying:\n",
      "    jumble_word('')\n",
      "Expecting:\n",
      "    Traceback (most recent call last):\n",
      "    ...\n",
      "    AssertionError: word must not be empty\n",
      "ok\n"
     ]
    }
   ],
   "source": [
    "doctest.run_docstring_examples(jumble_word, globals(), verbose=True, name=\"jumble_word\")"
   ]
  },
  {
   "attachments": {},
   "cell_type": "markdown",
   "metadata": {},
   "source": [
    "### 2.b. Jumble a line\n",
    "\n",
    "Define function `jumble_line` that jumbles all words in a line (`str`).\n",
    "\n",
    "* A word is a _non-empty_ string consisting of (alphabetic) _letters_\n",
    "  (`'a'` through `'z'` and `'A'` through `'Z'`).  \n",
    "* Words in a line are separated by one or more _non-alphabetic_ characters.\n",
    "\n",
    "**Examples**:\n",
    "* The line `'A ... test.'` contains two words: `'A'` and `'test'`.\n",
    "* `jumble_line('A ... test.')` can return `'A ... tset.'`.\n",
    "\n",
    "**Notes**:\n",
    "* Use `string.ascii_letters` to recognize characters that are alphabetic letters.\n",
    "  Also see the next code cell.\n",
    "* Avoid repeatedly appending a character to a string (inefficient due to copying).  \n",
    "  Rather, collect them in a list, and at the end convert that list to a string.\n",
    "\n",
    "**Hints**:\n",
    "* Process the characters in the line one by one,\n",
    "  accumulating the result.\n",
    "  Collect letters in a word when alphabetic (not appending them to the result yet),\n",
    "  and jumble that word when encountering a non-alphabetic character or the end."
   ]
  },
  {
   "cell_type": "code",
   "execution_count": 14,
   "metadata": {
    "ExecuteTime": {
     "end_time": "2023-06-18T08:47:18.617784400Z",
     "start_time": "2023-06-18T08:47:18.572818600Z"
    }
   },
   "outputs": [
    {
     "data": {
      "text/plain": "'abcdefghijklmnopqrstuvwxyzABCDEFGHIJKLMNOPQRSTUVWXYZ'"
     },
     "execution_count": 14,
     "metadata": {},
     "output_type": "execute_result"
    }
   ],
   "source": [
    "string.ascii_letters"
   ]
  },
  {
   "cell_type": "code",
   "execution_count": 15,
   "metadata": {
    "ExecuteTime": {
     "end_time": "2023-06-18T08:47:18.761000300Z",
     "start_time": "2023-06-18T08:47:18.588022800Z"
    }
   },
   "outputs": [],
   "source": [
    "def jumble_line(line: str) -> str:\n",
    "    \"\"\"Jumble the words in the line.\n",
    "    \n",
    "    A word is a non-empty string of _alphabetic_ characters.\n",
    "    Words are separated by non-alphabetic characters.\n",
    "    \n",
    "    >>> jumble_line('')\n",
    "    ''\n",
    "    >>> jumble_line('.')\n",
    "    '.'\n",
    "    >>> jumble_line('A ... test') in ('A ... test', 'A ... tset')\n",
    "    True\n",
    "    \"\"\"\n",
    "    \n",
    "#// BEGIN_TODO [jumble_line] Jumble all words in a line (10 points)\n",
    "\n",
    "    ascii_strings = [l for l in string.ascii_letters]\n",
    "\n",
    "    word_lst = []\n",
    "    for i in range(len(line)):\n",
    "        if line[i] in ascii_strings:\n",
    "            word_lst.append(line[i])\n",
    "        else:\n",
    "            if word_lst:\n",
    "                word = ''.join(word_lst)\n",
    "                jumbled_word = jumble_word(word)\n",
    "                line = line.replace(word, jumbled_word)\n",
    "                word_lst = []\n",
    "\n",
    "    return line\n",
    "#// END_TODO [jumble_line]"
   ]
  },
  {
   "cell_type": "code",
   "execution_count": 16,
   "metadata": {
    "ExecuteTime": {
     "end_time": "2023-06-18T08:47:18.776624800Z",
     "start_time": "2023-06-18T08:47:18.599562600Z"
    }
   },
   "outputs": [
    {
     "name": "stdout",
     "output_type": "stream",
     "text": [
      "Finding tests in jumble_line\n",
      "Trying:\n",
      "    jumble_line('')\n",
      "Expecting:\n",
      "    ''\n",
      "ok\n",
      "Trying:\n",
      "    jumble_line('.')\n",
      "Expecting:\n",
      "    '.'\n",
      "ok\n",
      "Trying:\n",
      "    jumble_line('A ... test') in ('A ... test', 'A ... tset')\n",
      "Expecting:\n",
      "    True\n",
      "ok\n"
     ]
    }
   ],
   "source": [
    "doctest.run_docstring_examples(jumble_line, globals(), verbose=True, name='jumble_line')"
   ]
  },
  {
   "attachments": {},
   "cell_type": "markdown",
   "metadata": {},
   "source": [
    "### 2.c. Jumble a file"
   ]
  },
  {
   "attachments": {},
   "cell_type": "markdown",
   "metadata": {},
   "source": [
    "We give the definition of function `jumble_text`\n",
    "to jumble all words in a multi-line text:"
   ]
  },
  {
   "cell_type": "code",
   "execution_count": 17,
   "metadata": {
    "ExecuteTime": {
     "end_time": "2023-06-18T08:47:18.777134400Z",
     "start_time": "2023-06-18T08:47:18.612073100Z"
    }
   },
   "outputs": [],
   "source": [
    "def jumble_text(lines: Iterable[str]) -> Iterator[str]:\n",
    "    \"\"\"Jumble all lines and yield them one by one.\n",
    "    \n",
    "    Assumptions: none\n",
    "    \n",
    "    >>> list(jumble_text([]))\n",
    "    []\n",
    "    >>> list(jumble_text(['The fox,', 'the dog, and', 'the cat.']))\n",
    "    ['The fox,', 'the dog, and', 'the cat.']\n",
    "    \"\"\"    \n",
    "    for line in lines:\n",
    "        yield jumble_line(line)"
   ]
  },
  {
   "cell_type": "code",
   "execution_count": 18,
   "metadata": {
    "ExecuteTime": {
     "end_time": "2023-06-18T08:47:18.778129600Z",
     "start_time": "2023-06-18T08:47:18.629343600Z"
    }
   },
   "outputs": [
    {
     "name": "stdout",
     "output_type": "stream",
     "text": [
      "Finding tests in jumble_text\n",
      "Trying:\n",
      "    list(jumble_text([]))\n",
      "Expecting:\n",
      "    []\n",
      "ok\n",
      "Trying:\n",
      "    list(jumble_text(['The fox,', 'the dog, and', 'the cat.']))\n",
      "Expecting:\n",
      "    ['The fox,', 'the dog, and', 'the cat.']\n",
      "ok\n"
     ]
    }
   ],
   "source": [
    "doctest.run_docstring_examples(jumble_text, globals(), verbose=True, name='jumble_text')"
   ]
  },
  {
   "attachments": {},
   "cell_type": "markdown",
   "metadata": {},
   "source": [
    "Provide the code to jumble the lines in the file named `'test-text.txt'`,\n",
    "and print them.\n",
    "\n",
    "**Notes**:\n",
    "* Use given constant `FILE_NAME`.\n",
    "* Lines read from a text file retain any newline character that is present in the file.\n",
    "  Do not print additional newline characters."
   ]
  },
  {
   "cell_type": "code",
   "execution_count": 19,
   "metadata": {
    "ExecuteTime": {
     "end_time": "2023-06-18T08:47:18.778631400Z",
     "start_time": "2023-06-18T08:47:18.644413500Z"
    }
   },
   "outputs": [
    {
     "name": "stdout",
     "output_type": "stream",
     "text": [
      "Aodrnccig to a rheeercsar at an Ensiglh unrisevity\n",
      "it deson't matter in waht odrer the ltteers in a wrod are;\n",
      "the only ianpomrtt tnihg is that the fsirt and lsat lteetr be at the rghit pclae.\n",
      "The rset can be a tatol mses and you can still raed it wiuhott a prlbeom.\n",
      "Tihs is buscaee we do not raed eervy lteetr by iteslf but the wrod as a whloe."
     ]
    }
   ],
   "source": [
    "FILE_NAME = 'test-text.txt'\n",
    "\n",
    "#// BEGIN_TODO [jumble_file] Jumble a file (5 points)\n",
    "\n",
    "with open(FILE_NAME, 'r') as file:\n",
    "    lines = file.readlines()\n",
    "    for line in jumble_text(lines):\n",
    "        print(line, end='')\n",
    "\n",
    "#// END_TODO [jumble_file]"
   ]
  },
  {
   "attachments": {},
   "cell_type": "markdown",
   "metadata": {},
   "source": [
    "Re-run the code cell above a couple of times,\n",
    "and check whether you can read the output."
   ]
  },
  {
   "attachments": {},
   "cell_type": "markdown",
   "metadata": {},
   "source": [
    "---"
   ]
  },
  {
   "attachments": {},
   "cell_type": "markdown",
   "metadata": {},
   "source": [
    "## 3. Reporting with Class\n",
    "\n",
    "Suppose we need to print reports that all have a common structure:\n",
    "* A header line\n",
    "* For a bunch of numbers, a line based on that number\n",
    "* Each line preceded by the same prefix\n",
    "\n",
    "Rather than programming one function that\n",
    "takes all these things as parameter,\n",
    "we introduce a class `Reporter`\n",
    "that stores the header and line prefix\n",
    "in instance variables."
   ]
  },
  {
   "attachments": {},
   "cell_type": "markdown",
   "metadata": {},
   "source": [
    "### 3.a. The base class `Reporter`\n",
    "\n",
    "* Define special method `__init__` that takes string parameters\n",
    "  for the header and the line prefix.\n",
    "* Define void method `report` that takes an iterable of integers as parameter\n",
    "  and prints\n",
    "  * the header\n",
    "  * one line for each integer `i` in the iterable, containing:\n",
    "    first, the prefix, then `i`, and finally `line(i)`, separated by one space.  \n",
    "    It prints `i` in a field of width 4.\n",
    "    \n",
    "**Notes**:\n",
    "* Use `Iterable[int]` as type hint for the given 'bunch of numbers' in method `report`.\n",
    "* You don't need to implement the special method `__repr__` in this exam.\n",
    "* The definition of method `line` is given.\n",
    "* You don't need to provide doctest examples for the methods.\n",
    "* See the given doctest examples for further details."
   ]
  },
  {
   "cell_type": "code",
   "execution_count": 20,
   "metadata": {
    "ExecuteTime": {
     "end_time": "2023-06-18T08:47:18.778631400Z",
     "start_time": "2023-06-18T08:47:18.663926400Z"
    }
   },
   "outputs": [],
   "source": [
    "class Reporter:\n",
    "    \"\"\"Abstract base class for reporter objects.\n",
    "    \n",
    "    >>> reporter = Reporter(\"Test header\", \"Test prefix:\")\n",
    "    >>> reporter.line(0)\n",
    "    'Subclasses must override this method (i == 0)'\n",
    "    >>> reporter.report([])\n",
    "    Test header\n",
    "    >>> reporter.report(range(3))\n",
    "    Test header\n",
    "    Test prefix:    0 Subclasses must override this method (i == 0)\n",
    "    Test prefix:    1 Subclasses must override this method (i == 1)\n",
    "    Test prefix:    2 Subclasses must override this method (i == 2)\n",
    "    \"\"\"\n",
    "    \n",
    "#// BEGIN_TODO [Reporter] Base class Reporter (10 points)\n",
    "\n",
    "    def __init__(self, header: str, prefix: str):\n",
    "        self.header = header\n",
    "        self.prefix = prefix\n",
    "\n",
    "    def report(self, numbers: Iterable[int]) -> str:\n",
    "        print(self.header)\n",
    "        for i in numbers:\n",
    "            print(f\"{self.prefix:{len(self.prefix)+3}} {i} {self.line(i)}\")\n",
    "\n",
    "\n",
    "\n",
    "#// END_TODO [Reporter]\n",
    "            \n",
    "    def line(self, i: int) -> str:\n",
    "        \"\"\"Return trailing part of report line for number i, without newline.\n",
    "        \"\"\"\n",
    "        return f\"Subclasses must override this method (i == {i})\""
   ]
  },
  {
   "cell_type": "code",
   "execution_count": 21,
   "metadata": {
    "ExecuteTime": {
     "end_time": "2023-06-18T08:47:18.779629300Z",
     "start_time": "2023-06-18T08:47:18.674964600Z"
    }
   },
   "outputs": [
    {
     "name": "stdout",
     "output_type": "stream",
     "text": [
      "Finding tests in Reporter\n",
      "Trying:\n",
      "    reporter = Reporter(\"Test header\", \"Test prefix:\")\n",
      "Expecting nothing\n",
      "ok\n",
      "Trying:\n",
      "    reporter.line(0)\n",
      "Expecting:\n",
      "    'Subclasses must override this method (i == 0)'\n",
      "ok\n",
      "Trying:\n",
      "    reporter.report([])\n",
      "Expecting:\n",
      "    Test header\n",
      "ok\n",
      "Trying:\n",
      "    reporter.report(range(3))\n",
      "Expecting:\n",
      "    Test header\n",
      "    Test prefix:    0 Subclasses must override this method (i == 0)\n",
      "    Test prefix:    1 Subclasses must override this method (i == 1)\n",
      "    Test prefix:    2 Subclasses must override this method (i == 2)\n",
      "ok\n"
     ]
    }
   ],
   "source": [
    "doctest.run_docstring_examples(Reporter, globals(), verbose=True, name='Reporter')"
   ]
  },
  {
   "attachments": {},
   "cell_type": "markdown",
   "metadata": {},
   "source": [
    "The following code shows a subclass to print tables of cubes."
   ]
  },
  {
   "cell_type": "code",
   "execution_count": 22,
   "metadata": {
    "ExecuteTime": {
     "end_time": "2023-06-18T08:47:18.780130700Z",
     "start_time": "2023-06-18T08:47:18.691172400Z"
    }
   },
   "outputs": [],
   "source": [
    "class CubesTable(Reporter):\n",
    "    \"\"\"A reporter to produce tables of cubes.\n",
    "    \"\"\"\n",
    "    def __init__(self) -> None:\n",
    "        \"\"\"Initialize for cube reporter.\n",
    "        \"\"\"\n",
    "        super().__init__(\"Table of cubes\", \"Cube of\")\n",
    "        \n",
    "    # Override (docstring is inherited)\n",
    "    def line(self, i: int) -> str:\n",
    "        cube = i * i * i\n",
    "        return f\"= {cube:>12}\""
   ]
  },
  {
   "cell_type": "code",
   "execution_count": 23,
   "metadata": {
    "ExecuteTime": {
     "end_time": "2023-06-18T08:47:18.780630200Z",
     "start_time": "2023-06-18T08:47:18.704764300Z"
    }
   },
   "outputs": [
    {
     "name": "stdout",
     "output_type": "stream",
     "text": [
      "Table of cubes\n",
      "Cube of    1 =            1\n",
      "Cube of    2 =            8\n",
      "Cube of    3 =           27\n",
      "Cube of    4 =           64\n",
      "Cube of    5 =          125\n",
      "Table of cubes\n",
      "Cube of    9999 = 999700029999\n"
     ]
    }
   ],
   "source": [
    "reporter = CubesTable()\n",
    "reporter.report(range(1, 5+1))\n",
    "reporter.report([9999])"
   ]
  },
  {
   "attachments": {},
   "cell_type": "markdown",
   "metadata": {},
   "source": [
    "### 3.b. Tables of multiplication\n",
    "\n",
    "Define method `__init__` and override method `line`\n",
    "for the subclass `MultiplicationTable` of `Reporter`\n",
    "that can print tables of multiplication.\n",
    "\n",
    "**Notes**:\n",
    "* See the given doctest examples for details.\n",
    "* You don't need to provide doctest examples for the methods."
   ]
  },
  {
   "cell_type": "code",
   "execution_count": 66,
   "metadata": {
    "ExecuteTime": {
     "end_time": "2023-06-18T08:55:15.907425100Z",
     "start_time": "2023-06-18T08:55:15.902301500Z"
    }
   },
   "outputs": [],
   "source": [
    "class MultiplicationTable(Reporter):\n",
    "    \"\"\"A reporter to produce tables of multiplication for a given factor.\n",
    "\n",
    "    >>> mt7 = MultiplicationTable(7)\n",
    "    >>> mt7.report(range(1, 5+1))\n",
    "        7 Times Table\n",
    "      |    1 x 7 =     7 |\n",
    "      |    2 x 7 =    14 |\n",
    "      |    3 x 7 =    21 |\n",
    "      |    4 x 7 =    28 |\n",
    "      |    5 x 7 =    35 |\n",
    "    >>> mt7.report([999, 1000])\n",
    "        7 Times Table\n",
    "      |  999 x 7 =  6993 |\n",
    "      | 1000 x 7 =  7000 |\n",
    "    >>> mt13 = MultiplicationTable(13)\n",
    "    >>> mt13.report([9, 10])\n",
    "        13 Times Table\n",
    "      |    9 x 13 =   117 |\n",
    "      |   10 x 13 =   130 |\n",
    "    \"\"\"\n",
    "\n",
    "    def __init__(self, factor: int) -> None:\n",
    "        super().__init__(f\"    {factor} Times Table\", \"  |\")\n",
    "        self.factor = factor\n",
    "\n",
    "    def line(self, i: int) -> str:\n",
    "        return f\"x {self.factor} = {i * self.factor:>5} |\"\n",
    "\n",
    "#// END_TODO [MultiplicationTable]"
   ]
  },
  {
   "cell_type": "code",
   "execution_count": 67,
   "metadata": {
    "ExecuteTime": {
     "end_time": "2023-06-18T08:55:16.793263Z",
     "start_time": "2023-06-18T08:55:16.758348300Z"
    }
   },
   "outputs": [
    {
     "name": "stdout",
     "output_type": "stream",
     "text": [
      "Finding tests in MultiplicationTable\n",
      "Trying:\n",
      "    mt7 = MultiplicationTable(7)\n",
      "Expecting nothing\n",
      "ok\n",
      "Trying:\n",
      "    mt7.report(range(1, 5+1))\n",
      "Expecting:\n",
      "        7 Times Table\n",
      "      |    1 x 7 =     7 |\n",
      "      |    2 x 7 =    14 |\n",
      "      |    3 x 7 =    21 |\n",
      "      |    4 x 7 =    28 |\n",
      "      |    5 x 7 =    35 |\n",
      "ok\n",
      "Trying:\n",
      "    mt7.report([999, 1000])\n",
      "Expecting:\n",
      "        7 Times Table\n",
      "      |  999 x 7 =  6993 |\n",
      "      | 1000 x 7 =  7000 |\n",
      "**********************************************************************\n",
      "File \"__main__\", line ?, in MultiplicationTable\n",
      "Failed example:\n",
      "    mt7.report([999, 1000])\n",
      "Expected:\n",
      "        7 Times Table\n",
      "      |  999 x 7 =  6993 |\n",
      "      | 1000 x 7 =  7000 |\n",
      "Got:\n",
      "        7 Times Table\n",
      "      |    999 x 7 =  6993 |\n",
      "      |    1000 x 7 =  7000 |\n",
      "Trying:\n",
      "    mt13 = MultiplicationTable(13)\n",
      "Expecting nothing\n",
      "ok\n",
      "Trying:\n",
      "    mt13.report([9, 10])\n",
      "Expecting:\n",
      "        13 Times Table\n",
      "      |    9 x 13 =   117 |\n",
      "      |   10 x 13 =   130 |\n",
      "**********************************************************************\n",
      "File \"__main__\", line ?, in MultiplicationTable\n",
      "Failed example:\n",
      "    mt13.report([9, 10])\n",
      "Expected:\n",
      "        13 Times Table\n",
      "      |    9 x 13 =   117 |\n",
      "      |   10 x 13 =   130 |\n",
      "Got:\n",
      "        13 Times Table\n",
      "      |    9 x 13 =   117 |\n",
      "      |    10 x 13 =   130 |\n"
     ]
    }
   ],
   "source": [
    "doctest.run_docstring_examples(MultiplicationTable, globals(), verbose=True, name='MultiplicationTable')"
   ]
  },
  {
   "attachments": {},
   "cell_type": "markdown",
   "metadata": {},
   "source": [
    "---"
   ]
  },
  {
   "attachments": {},
   "cell_type": "markdown",
   "metadata": {},
   "source": [
    "## 4. Software Engineering"
   ]
  },
  {
   "attachments": {},
   "cell_type": "markdown",
   "metadata": {},
   "source": [
    "### 4.a. Test-Driven Development\n",
    "\n",
    "Explain in your own words what the ideas are behind Test-Driven Development (TDD)\n",
    "when applied to defining a single function.\n",
    "Cover how TDD works and why it is useful.\n",
    "\n",
    "**Notes**:\n",
    "* Write complete sentences (not just some phrases and catchwords).\n",
    "* There is no Momotor feedback for this question."
   ]
  },
  {
   "attachments": {},
   "cell_type": "markdown",
   "metadata": {},
   "source": [
    "`#// BEGIN_TODO [TDD] Explain Test-Driven Development (10 points)`\n",
    "\n",
    "<div class='alert alert-warning' role='alert'>Replace this line by your text.</div>\n",
    "\n",
    "`#// END_TODO [TDD]`"
   ]
  },
  {
   "attachments": {},
   "cell_type": "markdown",
   "metadata": {},
   "source": [
    "---"
   ]
  },
  {
   "attachments": {},
   "cell_type": "markdown",
   "metadata": {},
   "source": [
    "## Final business"
   ]
  },
  {
   "cell_type": "code",
   "execution_count": 26,
   "metadata": {
    "ExecuteTime": {
     "end_time": "2023-06-18T08:47:18.792149700Z",
     "start_time": "2023-06-18T08:47:18.752988100Z"
    }
   },
   "outputs": [
    {
     "name": "stdout",
     "output_type": "stream",
     "text": [
      "**********************************************************************\n",
      "File \"__main__\", line ?, in __main__.MultiplicationTable\n",
      "Failed example:\n",
      "    mt7.report(range(1, 5+1))\n",
      "Expected:\n",
      "        7 Times Table\n",
      "      |    1 x 7 =     7 |\n",
      "      |    2 x 7 =    14 |\n",
      "      |    3 x 7 =    21 |\n",
      "      |    4 x 7 =    28 |\n",
      "      |    5 x 7 =    35 |\n",
      "Got:\n",
      "    7 Times Table\n",
      "    7 x     1 =     7\n",
      "    7 x     2 =    14\n",
      "    7 x     3 =    21\n",
      "    7 x     4 =    28\n",
      "    7 x     5 =    35\n",
      "**********************************************************************\n",
      "File \"__main__\", line ?, in __main__.MultiplicationTable\n",
      "Failed example:\n",
      "    mt7.report([999, 1000])\n",
      "Expected:\n",
      "        7 Times Table\n",
      "      |  999 x 7 =  6993 |\n",
      "      | 1000 x 7 =  7000 |\n",
      "Got:\n",
      "    7 Times Table\n",
      "    7 x     999 =  6993\n",
      "    7 x     1000 =  7000\n",
      "**********************************************************************\n",
      "File \"__main__\", line ?, in __main__.MultiplicationTable\n",
      "Failed example:\n",
      "    mt13.report([9, 10])\n",
      "Expected:\n",
      "        13 Times Table\n",
      "      |    9 x 13 =   117 |\n",
      "      |   10 x 13 =   130 |\n",
      "Got:\n",
      "    13 Times Table\n",
      "    13 x     9 =     9\n",
      "    13 x     10 =    10\n",
      "**********************************************************************\n",
      "1 items had failures:\n",
      "   3 of   5 in __main__.MultiplicationTable\n",
      "***Test Failed*** 3 failures.\n"
     ]
    },
    {
     "data": {
      "text/plain": "TestResults(failed=3, attempted=22)"
     },
     "execution_count": 26,
     "metadata": {},
     "output_type": "execute_result"
    }
   ],
   "source": [
    "doctest.testmod(verbose=False)  # with details"
   ]
  },
  {
   "cell_type": "code",
   "execution_count": 27,
   "metadata": {
    "ExecuteTime": {
     "end_time": "2023-06-18T08:47:19.038660300Z",
     "start_time": "2023-06-18T08:47:18.782630200Z"
    }
   },
   "outputs": [
    {
     "name": "stdout",
     "output_type": "stream",
     "text": [
      "Variable              Type                    Data/Info\n",
      "-------------------------------------------------------\n",
      "AUTHOR_ADDRESS        str                     Eindhoven + number, posta<...>y, country code (e.g. NL)\n",
      "AUTHOR_BADGE_NR       str                     1577239\n",
      "AUTHOR_DATE           str                     17-06-2023\n",
      "AUTHOR_ID_NR          int                     1577239\n",
      "AUTHOR_NAME           str                     Pradyut Nair\n",
      "Any                   _SpecialForm            typing.Any\n",
      "BASE                  int                     10\n",
      "Counter               _SpecialGenericAlias    typing.Counter\n",
      "CubesTable            type                    <class '__main__.CubesTable'>\n",
      "DefaultDict           _SpecialGenericAlias    typing.DefaultDict\n",
      "Dict                  _SpecialGenericAlias    typing.Dict\n",
      "FILE_NAME             str                     test-text.txt\n",
      "I_confirm             bool                    True\n",
      "Iterable              _SpecialGenericAlias    typing.Iterable\n",
      "Iterator              _SpecialGenericAlias    typing.Iterator\n",
      "K                     int                     10\n",
      "List                  _SpecialGenericAlias    typing.List\n",
      "Mapping               _SpecialGenericAlias    typing.Mapping\n",
      "MultiplicationTable   type                    <class '__main__.MultiplicationTable'>\n",
      "N                     int                     1000\n",
      "Optional              _SpecialForm            typing.Optional\n",
      "Reporter              type                    <class '__main__.Reporter'>\n",
      "Sequence              _SpecialGenericAlias    typing.Sequence\n",
      "Set                   _SpecialGenericAlias    typing.Set\n",
      "Tuple                 _TupleType              typing.Tuple\n",
      "co                    module                  <module 'collections' fro<...>ollections\\\\__init__.py'>\n",
      "count                 int                     91\n",
      "count_no_rep          function                <function count_no_rep at 0x000001D3B42FF940>\n",
      "counts                dict                    n=9\n",
      "digit                 int                     9\n",
      "doctest               module                  <module 'doctest' from 'C<...>eering\\\\lib\\\\doctest.py'>\n",
      "file                  TextIOWrapper           <_io.TextIOWrapper name='<...>de='r' encoding='cp1252'>\n",
      "is_no_rep             function                <function is_no_rep at 0x000001D3B42F3EE0>\n",
      "it                    module                  <module 'itertools' (built-in)>\n",
      "jumble_line           function                <function jumble_line at 0x000001D3B42F3C10>\n",
      "jumble_text           function                <function jumble_text at 0x000001D3B4309EE0>\n",
      "jumble_word           function                <function jumble_word at 0x000001D3B43095E0>\n",
      "line                  str                     Tihs is buscaee we do not<...> but the wrod as a whloe.\n",
      "lines                 list                    n=5\n",
      "math                  module                  <module 'math' (built-in)>\n",
      "number                int                     9\n",
      "pprint                function                <function pprint at 0x000001D3B1C143A0>\n",
      "prev                  int                     9\n",
      "random                module                  <module 'random' from 'C:<...>neering\\\\lib\\\\random.py'>\n",
      "reporter              CubesTable              <__main__.CubesTable obje<...>ct at 0x000001D3B43554F0>\n",
      "string                module                  <module 'string' from 'C:<...>neering\\\\lib\\\\string.py'>\n"
     ]
    }
   ],
   "source": [
    "%whos"
   ]
  },
  {
   "attachments": {},
   "cell_type": "markdown",
   "metadata": {},
   "source": [
    "---\n",
    "\n",
    "## (End of Notebook)\n",
    "\n",
    "&copy; 2020 - **TU/e** - Eindhoven University of Technology"
   ]
  }
 ],
 "metadata": {
  "kernelspec": {
   "display_name": "Python 3",
   "language": "python",
   "name": "python3"
  },
  "language_info": {
   "codemirror_mode": {
    "name": "ipython",
    "version": 3
   },
   "file_extension": ".py",
   "mimetype": "text/x-python",
   "name": "python",
   "nbconvert_exporter": "python",
   "pygments_lexer": "ipython3",
   "version": "3.10.9"
  },
  "toc": {
   "base_numbering": 1,
   "nav_menu": {},
   "number_sections": false,
   "sideBar": true,
   "skip_h1_title": true,
   "title_cell": "Table of Contents",
   "title_sidebar": "Contents",
   "toc_cell": false,
   "toc_position": {},
   "toc_section_display": true,
   "toc_window_display": true
  }
 },
 "nbformat": 4,
 "nbformat_minor": 2
}
