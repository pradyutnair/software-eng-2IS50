{
 "cells": [
  {
   "cell_type": "markdown",
   "metadata": {},
   "source": [
    "# 2IS50 Final Test on Tue 22 Jun 2021, 13:30–16:30\n",
    "\n",
    "<div class=\"alert alert-warning\" role=\"alert\">\n",
    "    <b><i>ALWAYS</i> RUN THIS NOTEBOOK WITH <code>Kernel > Restart & Run All</code> <i>BEFORE</i> SUBMITTING</b>\n",
    "</div>"
   ]
  },
  {
   "cell_type": "markdown",
   "metadata": {},
   "source": [
    "\n",
    "# Introduction to this template exam notebook\n",
    "\n",
    "* This is a **personal** notebook. \n",
    "* Make sure you work in a **copy** of `...-template.ipynb`,\n",
    "    **renamed** to `...-yourIDnr.ipynb`,\n",
    "    where `yourIDnr` is your TU/e identification number.  \n",
    "\n",
    "You are expected to work with Python 3 code in this notebook.\n",
    "\n",
    "The locations where you must write your answers can be recognized by\n",
    "**marker lines**,\n",
    "which look like this:\n",
    "\n",
    ">`#//`\n",
    ">    `BEGIN_TODO [Label]` `Description` `(n points)`\n",
    ">\n",
    ">`#//`\n",
    ">    `END_TODO [Label]`\n",
    "\n",
    "<div class=\"alert alert-warning\" role=\"alert\">Do NOT modify or delete these marker lines.  Keep them as they are.<br/>\n",
    "<br/>\n",
    "NEVER write code that is needed for grading <i>outside</i> the marked blocks.\n",
    "It is invisible there.\n",
    "</div>\n",
    "\n",
    "Proceed in this notebook as follows:\n",
    "* **Personalize** the notebook (see below)\n",
    "* **Read** the text.\n",
    "* **Fill in** your answers between `BEGIN_TODO` and `END_TODO` marker lines.\n",
    "* **Run** _all_ code cells (also the ones _without_ your code),\n",
    "    _in linear order_ from the first code cell.\n",
    "\n",
    "**Personalize your notebook**:\n",
    "1. Copy the following lines of code:\n",
    "\n",
    "  ```python\n",
    "  AUTHOR_NAME = 'Your Full Name'\n",
    "  AUTHOR_ID_NR = '1234567'\n",
    "  AUTHOR_DATE = 'YYYY-MM-DD'  # when first modified, e.g. '2019-04-18'\n",
    "  ```\n",
    "\n",
    "1. Paste them between the marker lines in the next code cell.\n",
    "1. Fill in your _full name_, _identification number_, and the current _date_ as strings between quotes.\n",
    "1. Run the code cell by putting the cursor there and typing **Control-Enter**.\n"
   ]
  },
  {
   "cell_type": "code",
   "execution_count": 1,
   "metadata": {
    "ExecuteTime": {
     "end_time": "2023-06-19T12:49:11.990517Z",
     "start_time": "2023-06-19T12:49:11.976517200Z"
    }
   },
   "outputs": [
    {
     "data": {
      "text/plain": "('Pradyut Nair', 1577239, '2023-06-19')"
     },
     "execution_count": 1,
     "metadata": {},
     "output_type": "execute_result"
    }
   ],
   "source": [
    "#// BEGIN_TODO [Author] Name, Id.nr., Date, as strings (0 points)\n",
    "\n",
    "AUTHOR_NAME, AUTHOR_ID_NR, AUTHOR_DATE = 'Pradyut Nair', 1577239, '2023-06-19'\n",
    "\n",
    "#// END_TODO [Author]\n",
    "\n",
    "AUTHOR_NAME, AUTHOR_ID_NR, AUTHOR_DATE"
   ]
  },
  {
   "cell_type": "markdown",
   "metadata": {},
   "source": [
    "## Preliminaries\n",
    "\n",
    "This final test consists of _four_ questions,\n",
    "with _ten_ subquestions in total, for a maximum total of _70 points._\n",
    "It will be graded manually.\n",
    "\n",
    "**Notes** state requirements.\n",
    "It is obligatory to follow these for the maximum score.\n",
    "\n",
    "**Hints** are helpful suggestions and reminders.\n",
    "\n",
    "**Notes**:\n",
    "\n",
    "For all functions and methods that you are asked to define:\n",
    "* Include **type hints**.\n",
    "* Include documentation in the form of a **docstring**, with **assumptions**.\n",
    "* Unless otherwise stated, include **adequate `doctest` examples**.  \n",
    "  Such `doctest` examples are only required for the primary functions;\n",
    "  that is, not for _auxiliary_ functions that you introduce yourself.\n",
    "  \n",
    "**Hints**:\n",
    "* When you do not succeed in solving part of a question,\n",
    "  proceed to the next part, assuming that solutions for preceding parts are available.  \n",
    "  (Of course, this does make it harder for you to test your code,\n",
    "  but you can define a 'dummy' solution to be able to run your code.)"
   ]
  },
  {
   "cell_type": "markdown",
   "metadata": {},
   "source": [
    "### Nb Mypy\n",
    "\n",
    "The following cell will attempt to enable mypy type checking in the notebook.\n",
    "mypy is an optional static type checker for Python,\n",
    "which can help you identify type errors in your code.\n",
    "\n",
    "For this to work, you need to have installed `Nb-Mypy`.\n",
    "This is experimental and optional.\n",
    "If you have not used `Nb-Mypy` with the exercises,\n",
    "then you should not try to use it during this final test.\n",
    "\n",
    "**NOTE**:\n",
    "\n",
    "* Type checking can be picky.\n",
    "  In some cases, you can ignore the `nb-mypy` message."
   ]
  },
  {
   "cell_type": "code",
   "execution_count": 2,
   "metadata": {
    "ExecuteTime": {
     "end_time": "2023-06-19T12:49:16.531216100Z",
     "start_time": "2023-06-19T12:49:16.475204400Z"
    }
   },
   "outputs": [
    {
     "name": "stderr",
     "output_type": "stream",
     "text": [
      "Version 1.0.2\n"
     ]
    }
   ],
   "source": [
    "# enable mypy type checking\n",
    "try:\n",
    "    %load_ext nb_mypy\n",
    "except ModuleNotFoundError:\n",
    "    print(\"Type checking facility (Nb Mypy) is not installed.\")"
   ]
  },
  {
   "cell_type": "code",
   "execution_count": 4,
   "metadata": {
    "ExecuteTime": {
     "end_time": "2023-06-19T12:49:49.606711900Z",
     "start_time": "2023-06-19T12:49:32.168538600Z"
    }
   },
   "outputs": [
    {
     "data": {
      "text/plain": "'199.120.50.32'"
     },
     "execution_count": 3,
     "metadata": {},
     "output_type": "execute_result"
    },
    {
     "data": {
      "text/plain": "'opt-out'"
     },
     "execution_count": 4,
     "metadata": {},
     "output_type": "execute_result"
    }
   ],
   "source": [
    "# import some useful facilities\n",
    "\n",
    "import random\n",
    "import math\n",
    "import string\n",
    "import collections as co\n",
    "import itertools as it\n",
    "from typing import Tuple, List, Set, Dict, DefaultDict, Counter, Iterator, Iterable\n",
    "from typing import Any, Optional, Sequence, Mapping\n",
    "import doctest\n",
    "from pprint import pprint\n",
    "def _ip():\n",
    "    global _ip\n",
    "    import urllib.request\n",
    "    try:\n",
    "        return urllib.request.urlopen(\"https://api.ipify.org/\").read().decode()\n",
    "    except:\n",
    "        pass\n",
    "    finally:\n",
    "        del _ip\n",
    "# To opt-out of IP address collection:\n",
    "# * under 0.c, add a remark stating why you do so, and\n",
    "# * comment out the next line, and uncomment the line below it\n",
    "_ip()\n",
    "'opt-out'"
   ]
  },
  {
   "cell_type": "markdown",
   "metadata": {},
   "source": [
    "## 0. Online Exam Specials"
   ]
  },
  {
   "cell_type": "markdown",
   "metadata": {},
   "source": [
    "### 0.a. Badge number and address\n",
    "\n",
    "1. Copy the following lines of code:\n",
    "\n",
    "  ```python\n",
    "  AUTHOR_BADGE_NR = '7654321'  # printed sideways on campus card\n",
    "  AUTHOR_ADDRESS = 'Street + number, postal code + city, country code (e.g. NL)'\n",
    "  ```\n",
    "\n",
    "1. Paste them between the marker lines in the next code cell.\n",
    "1. Fill in the _badge number_ of your TU/e campus card (printed sideways)\n",
    "   and the _address_ where you take this exam, as strings between quotes.  \n",
    "   To opt-out of author address collection:\n",
    "   - under 0.c, add a remark to stating why you do so, and\n",
    "   - assign `'opt-out'` to `AUTHOR_ADDRESS`\n",
    "1. Run the code cell by putting the cursor there and typing **Control-Enter**."
   ]
  },
  {
   "cell_type": "code",
   "execution_count": 5,
   "metadata": {
    "ExecuteTime": {
     "end_time": "2023-06-19T12:49:49.892949300Z",
     "start_time": "2023-06-19T12:49:49.622813100Z"
    }
   },
   "outputs": [
    {
     "data": {
      "text/plain": "(1577239, 'Philitelaan')"
     },
     "execution_count": 5,
     "metadata": {},
     "output_type": "execute_result"
    }
   ],
   "source": [
    "#// BEGIN_TODO [badge_nr_address] Badge number and address, as strings\n",
    "\n",
    "AUTHOR_BADGE_NR, AUTHOR_ADDRESS = 1577239, 'Philitelaan'\n",
    "#// END_TODO [badge_nr_address]\n",
    "\n",
    "AUTHOR_BADGE_NR, AUTHOR_ADDRESS"
   ]
  },
  {
   "cell_type": "markdown",
   "metadata": {},
   "source": [
    "### 0.b. Declaration of trust\n",
    "\n",
    "Please read the following paragraph carefully, and acknowledge that you have done so\n",
    "in the next code cell.\n",
    "\n",
    "> By testing you remotely in this fashion,\n",
    "> we express our trust that you will adhere\n",
    "> to the ethical standard of behaviour expected of you.\n",
    "> This means that we trust you to answer the questions and\n",
    "> perform the assignments in this test to the best of your own ability,\n",
    "> without seeking or accepting the help of any source\n",
    "> that is not explicitly allowed by the conditions of this test.\n",
    "\n",
    "Acknowledge by assigning the boolean value `True` to the variable `I_confirm`:"
   ]
  },
  {
   "cell_type": "code",
   "execution_count": 6,
   "metadata": {
    "ExecuteTime": {
     "end_time": "2023-06-19T12:50:02.321646200Z",
     "start_time": "2023-06-19T12:50:01.767411500Z"
    }
   },
   "outputs": [
    {
     "data": {
      "text/plain": "True"
     },
     "execution_count": 6,
     "metadata": {},
     "output_type": "execute_result"
    }
   ],
   "source": [
    "I_confirm: Optional[bool] = None\n",
    "\n",
    "#// BEGIN_TODO [Declaration] Confirm by assigning True to I_confirm\n",
    "\n",
    "I_confirm = True\n",
    "\n",
    "#// END_TODO [Declaration]\n",
    "\n",
    "I_confirm"
   ]
  },
  {
   "cell_type": "markdown",
   "metadata": {},
   "source": [
    "### 0.c. Remarks from the student\n",
    "\n",
    "In the following text cell, you can report any irregularities\n",
    "that occurred during the exam."
   ]
  },
  {
   "cell_type": "markdown",
   "metadata": {},
   "source": [
    "`#// BEGIN_TODO [Remarks] Remarks about irregularities during exam`\n",
    "\n",
    "<div class='alert alert-warning' role='alert'>Replace this line by your text.</div>\n",
    "\n",
    "`#// END_TODO [Remarks]`"
   ]
  },
  {
   "cell_type": "markdown",
   "metadata": {},
   "source": [
    "---"
   ]
  },
  {
   "cell_type": "markdown",
   "metadata": {},
   "source": [
    "## 1. The Referendum"
   ]
  },
  {
   "cell_type": "markdown",
   "metadata": {},
   "source": [
    "In a democratic town, the mayor regularly organizes a referendum to redistribute their wealth.\n",
    "The mayor (also an inhabitant, named \"Mayor\") may propose wealth redistributions,\n",
    "but the mayor is _not_ allowed to vote.\n",
    "\n",
    "We represent the distribution of wealth by a dictionary with the inhabitant names (`str`) as keys,\n",
    "and their wealth as non-negative integer values (`int`).\n",
    "For example:\n",
    "```python\n",
    "{\"Mayor\": 10, \"A\": 1, \"B\": 2, \"C\": 3, \"D\": 4}\n",
    "```\n",
    "The inhabitants are predictably egoistic when voting on a proposed redistribution:\n",
    "* if their wealth goes up, they vote in favor;\n",
    "* if their wealth goes down, they vote against;\n",
    "* if their wealth stays the same, they abstain from voting.\n",
    "\n",
    "A referendum is passed when strictly more inhabitants vote in favor than against\n",
    "(abstains don't count).\n",
    "\n",
    "Consider the proposed redistribution:\n",
    "```python\n",
    "{\"Mayor\": 9, \"A\": 1, \"B\": 3, \"C\": 7, \"D\": 0}\n",
    "```\n",
    "Then A abstains, B and C vote in favor, and D votes against.\n",
    "Thus, the redistribution is accepted.\n",
    "\n",
    "We give the function `valid_wealth` that checks whether a wealth distribution is valid:"
   ]
  },
  {
   "cell_type": "code",
   "execution_count": 7,
   "metadata": {
    "ExecuteTime": {
     "end_time": "2023-06-19T12:59:20.856268500Z",
     "start_time": "2023-06-19T12:59:20.558960500Z"
    }
   },
   "outputs": [],
   "source": [
    "Distribution = Mapping[str, int]\n",
    "\n",
    "def valid_wealth(wealth: Distribution) -> None:\n",
    "    \"\"\"Determine whether given wealth distribution is valid:\n",
    "    \n",
    "    * do nothing if okay;\n",
    "    * raise AssertionError if not okay.\n",
    "    \n",
    "    >>> valid_wealth({\"Mayor\": 10, \"A\": 1, \"B\": 2, \"C\": 3, \"D\": 4})\n",
    "    >>> valid_wealth({\"A\": 1, \"B\": 2, \"C\": 3, \"D\": 4})\n",
    "    Traceback (most recent call last):\n",
    "        ...\n",
    "    AssertionError: 'Mayor' must be inhabitant.\n",
    "    >>> valid_wealth({\"Mayor\": 10, \"A\": -1, \"B\": 2, \"C\": 3, \"D\": 4})\n",
    "    Traceback (most recent call last):\n",
    "        ...\n",
    "    AssertionError: All wealth values must be non-negative.\n",
    "    \"\"\"\n",
    "    assert \"Mayor\" in wealth, \"'Mayor' must be inhabitant.\"\n",
    "    assert all(value >= 0 for value in wealth.values()), \"All wealth values must be non-negative.\""
   ]
  },
  {
   "cell_type": "code",
   "execution_count": 8,
   "metadata": {
    "ExecuteTime": {
     "end_time": "2023-06-19T12:59:21.909026100Z",
     "start_time": "2023-06-19T12:59:21.620107Z"
    }
   },
   "outputs": [],
   "source": [
    "doctest.run_docstring_examples(valid_wealth, globals(), verbose=False, name='valid_wealth')"
   ]
  },
  {
   "cell_type": "markdown",
   "metadata": {},
   "source": [
    "### 1.a. Valid referendum\n",
    "\n",
    "Define function `valid_referendum` that, given two _valid_ wealth distributions (current and proposed),\n",
    "determines whether this is a valid referendum:\n",
    "* the two distributions have the same keys;\n",
    "* the total wealth stays the same.\n",
    "\n",
    "In case the referendum is valid, `valid_referedum` does nothing,\n",
    "and otherwise it raises an `AssertionError` with appropriate message.\n",
    "\n",
    "**Examples**:\n",
    "* `valid_referendum({\"Mayor\": 1, \"A\": 1}, {\"Mayor\": 2, \"A\": 0})` does nothing\n",
    "* `valid_referendum({\"Mayor\": 1, \"A\": 1}, {\"Mayor\": 2, \"A\": 1})` raises an `AssertionError` with message stating that total wealth must stay the same.\n",
    "\n",
    "**Notes**:\n",
    "* Check the assumptions by calling `valid_wealth` (twice; no `assert` needed).\n",
    "* Check validity in two separate `assert` statements, each with an appropriate message.  \n",
    "  Check the keys first, and then the total values.\n",
    "* Include at least five `doctest` examples, to cover all possibilities.\n",
    "\n",
    "**Hints**:\n",
    "* Don't forget type hints and docstring with assumptions.\n",
    "* The built-in function `sum` can be used to determine the total wealth."
   ]
  },
  {
   "cell_type": "code",
   "execution_count": null,
   "metadata": {},
   "outputs": [],
   "source": [
    "#// BEGIN_TODO [valid_referendum] Determine whether referendum is valid (10 points)\n",
    "\n",
    "def valid_referendum()\n",
    "\n",
    "#// END_TODO [valid_referendum]"
   ]
  },
  {
   "cell_type": "code",
   "execution_count": null,
   "metadata": {},
   "outputs": [],
   "source": [
    "doctest.run_docstring_examples(valid_referendum, globals(), verbose=True, name='valid_referendum')"
   ]
  },
  {
   "cell_type": "markdown",
   "metadata": {},
   "source": [
    "### 1.b. Referendum voting outcome"
   ]
  },
  {
   "cell_type": "markdown",
   "metadata": {},
   "source": [
    "Define function `referendum_passed` that,\n",
    "given two wealth distributions (current and proposed) constituting a valid referendum,\n",
    "determines whether the referendum is passed,\n",
    "according to the voting behavior as described above.\n",
    "\n",
    "**Examples**:\n",
    "* `referendum_passed({\"Mayor\": 1, \"A\": 1}, {\"Mayor\": 2, \"A\": 0})` returns `False`\n",
    "* `referendum_passed({\"Mayor\": 1, \"A\": 1}, {\"Mayor\": 0, \"A\": 2})` returns `True`\n",
    "\n",
    "**Notes**:\n",
    "* Check the assumption that the referendum is valid\n",
    "  by calling `valid_referendum` (no `assert` needed).\n",
    "* Include at least three test cases,\n",
    "  one of which tests whether `valid_referendum` is called properly.\n",
    "\n",
    "**Hints**:\n",
    "* Keep in mind that the mayor does not vote."
   ]
  },
  {
   "cell_type": "code",
   "execution_count": null,
   "metadata": {},
   "outputs": [],
   "source": [
    "#// BEGIN_TODO [referendum_passed] Determine whether referendum passes (10 points)\n",
    "\n",
    "# ===== =====> Replace this line by your code. <===== ===== #\n",
    "\n",
    "#// END_TODO [referendum_passed]"
   ]
  },
  {
   "cell_type": "code",
   "execution_count": null,
   "metadata": {},
   "outputs": [],
   "source": [
    "doctest.run_docstring_examples(referendum_passed, globals(), verbose=True, name='referendum_passed')"
   ]
  },
  {
   "cell_type": "markdown",
   "metadata": {},
   "source": [
    "**Postscriptum** (don't spend time on this nice puzzle):\n",
    "* Find out how much the mayor (if initial wealth is not zero) can eventually obtain,\n",
    "  through a sequence of clever referendums!  \n",
    "  (So much for democracy.)"
   ]
  },
  {
   "cell_type": "markdown",
   "metadata": {},
   "source": [
    "---"
   ]
  },
  {
   "cell_type": "markdown",
   "metadata": {},
   "source": [
    "## 2. Checking Sudokus\n",
    "\n",
    "A solution for a (generalized) Sudoku puzzle of order $n$ consists of an $n^2\\times n^2$ matrix\n",
    "with numbers from $1$ through $n^2$.\n",
    "\n",
    "For $n=3$ this concerns the well-known $9\\times9$ Sudoku puzzles.\n",
    "\n",
    "To qualify as a solution, the matrix must satisfy these constraints:\n",
    "* Each (horizontal) _row_ contains the numbers $1$ through $n^2$ exactly once.\n",
    "* Each (vertical) _column_ contains the numbers $1$ through $n^2$ exactly once.\n",
    "* Each of the $n^2$ nonoverlapping $n\\times n$ submatrixes (called *blocks*)\n",
    "  contains the numbers $1$ through $n^2$ exactly once.  \n",
    "\n",
    "In this question, we store a Sudoku solution as a list of lists of integers:"
   ]
  },
  {
   "cell_type": "code",
   "execution_count": null,
   "metadata": {},
   "outputs": [],
   "source": [
    "#: all rows in matrix: Matrix must have the same length\n",
    "Matrix = List[List[int]]"
   ]
  },
  {
   "cell_type": "markdown",
   "metadata": {},
   "source": [
    "Consider the variable `puzzle: Matrix`.\n",
    "We then have the following.\n",
    "* `puzzle` is a sequence of rows\n",
    "* `len(puzzle)` is the number of rows\n",
    "* `all(len(row) == len(puzzle) for row in puzzle)` (it is a square matrix)"
   ]
  },
  {
   "cell_type": "markdown",
   "metadata": {},
   "source": [
    "We want to check whether a given matrix is a proper Sudoku solution.\n",
    "\n",
    "The following (correct) monolithic code (with bad style) is given to accomplish this."
   ]
  },
  {
   "cell_type": "code",
   "execution_count": null,
   "metadata": {},
   "outputs": [],
   "source": [
    "def sudokay_monolithic(puzzle: Matrix) -> bool:\n",
    "    \"\"\"Determine whether puzzle is a valid Sudoku solution.\n",
    "    \n",
    "    Assumption: puzzle is a square matrix,\n",
    "    whose number of rows and columns is itself a square.\n",
    "\n",
    "    >>> sudokay_monolithic(\n",
    "    ...     [[1, 2, 3, 4],\n",
    "    ...      [3, 4, 1, 2],\n",
    "    ...      [2, 1, 4, 3],\n",
    "    ...      [4, 3, 2, 1]])\n",
    "    True\n",
    "    >>> sudokay_monolithic(  # bad rows\n",
    "    ...     [[1, 2, 3, 4],\n",
    "    ...      [3, 4, 1, 2],\n",
    "    ...      [2, 1, 4, 1],\n",
    "    ...      [4, 3, 2, 3]])\n",
    "    False\n",
    "    >>> sudokay_monolithic(  # bad columns\n",
    "    ...     [[1, 2, 3, 4],\n",
    "    ...      [3, 4, 1, 2],\n",
    "    ...      [2, 1, 4, 3],\n",
    "    ...      [4, 3, 1, 2]])\n",
    "    False\n",
    "    >>> sudokay_monolithic(  # bad blocks\n",
    "    ...     [[1, 2, 3, 4],\n",
    "    ...      [2, 3, 4, 1],\n",
    "    ...      [3, 4, 1, 2],\n",
    "    ...      [4, 1, 2, 3]])\n",
    "    False\n",
    "    \"\"\"\n",
    "    n=0\n",
    "    while n*n<len(puzzle):\n",
    "        n+=1\n",
    "    for i in range(len(puzzle)):\n",
    "        if set(puzzle[i])!=set(range(1,len(puzzle)+1)):\n",
    "            return False\n",
    "    for j in range(len(puzzle)):\n",
    "        if set(puzzle[i][j] for i in range(len(puzzle)))!=set(range(1,len(puzzle)+1)):\n",
    "            return False\n",
    "    for i in range(n):\n",
    "        for j in range(n):\n",
    "            if set(entry for r in puzzle[i*n:(i+1)*n] for entry in r[j*n:(j+1)*n])!=set(range(1,len(puzzle)+1)):\n",
    "                return False\n",
    "    return True"
   ]
  },
  {
   "cell_type": "code",
   "execution_count": null,
   "metadata": {},
   "outputs": [],
   "source": [
    "doctest.run_docstring_examples(sudokay_monolithic, globals(), verbose=False, name='sudokay_monolithic')"
   ]
  },
  {
   "cell_type": "markdown",
   "metadata": {},
   "source": [
    "### 2.a. Discrete square root\n",
    "\n",
    "Define function `isqrt` that returns the integer square root of a given non-negative integer,\n",
    "that is, the smallest non-negative integer whose square is at least the given number.\n",
    "Also see the given docstring.\n",
    "\n",
    "**Notes**:\n",
    "* You don't need to check the assumptions.\n",
    "* You can reuse ideas from the given code, but your code must be clean.\n",
    "* Your solution doesn't have to be more efficient (though this is possible)."
   ]
  },
  {
   "cell_type": "code",
   "execution_count": null,
   "metadata": {},
   "outputs": [],
   "source": [
    "def isqrt(k: int) -> int:\n",
    "    \"\"\"Compute the integer square root of k:\n",
    "    the smallest non-negative number whose square is >= k.\n",
    "    \n",
    "    Assumption: k >= 0\n",
    "    \n",
    "    >>> isqrt(0)\n",
    "    0\n",
    "    >>> isqrt(1)\n",
    "    1\n",
    "    >>> isqrt(2)\n",
    "    2\n",
    "    >>> isqrt(4)\n",
    "    2\n",
    "    >>> isqrt(9)\n",
    "    3\n",
    "    \"\"\"\n",
    "    \n",
    "#// BEGIN_TODO [isqrt] Integer square root (5 points)\n",
    "\n",
    "# ===== =====> Replace this line by your code. <===== ===== #\n",
    "\n",
    "#// END_TODO [isqrt]"
   ]
  },
  {
   "cell_type": "code",
   "execution_count": null,
   "metadata": {},
   "outputs": [],
   "source": [
    "doctest.run_docstring_examples(isqrt, globals(), verbose=True, name='isqrt')"
   ]
  },
  {
   "cell_type": "markdown",
   "metadata": {},
   "source": [
    "### 2.b. Block extractor\n",
    "\n",
    "Define function `block`\n",
    "that, given a matrix, a pair of coordinates, and\n",
    "a number of rows (height) and columns (width),\n",
    "returns the corresponding block with top left-hand entry at the given coordinates.\n",
    "\n",
    "**Notes**:\n",
    "* See the given docstring for details.\n",
    "* You don't need to check the assumptions.\n",
    "* You can reuse ideas from the given code, but your code must be clean.\n",
    "\n",
    "**Hints**:\n",
    "* Generalize the given code that checks the blocks.\n",
    "* Use `list`, a generator expression, and list slicing\n",
    "  (twice, both for rows and columns)."
   ]
  },
  {
   "cell_type": "code",
   "execution_count": null,
   "metadata": {},
   "outputs": [],
   "source": [
    "def block(matrix: Matrix, i: int, j: int, m: int, n: int) -> Matrix:\n",
    "    \"\"\"Return submatrix of given matrix with matrix[i][j] as top left-hand item,\n",
    "    and m rows in height and n columns in width.\n",
    "    \n",
    "    Assumption:\n",
    "    * all rows of matrix have the same length, say k\n",
    "    * 0 <= i and i + m <= len(matrix)  # the number of rows\n",
    "    * 0 <= j and j + n <= k  # the number of columns\n",
    "    \n",
    "    >>> block([[ 1,  2,  3,  4],\n",
    "    ...        [ 5,  6,  7,  8],\n",
    "    ...        [ 9, 10, 11, 12],\n",
    "    ...        [13, 14, 15, 16]\n",
    "    ...       ], 1, 0, 2, 3)\n",
    "    [[5, 6, 7], [9, 10, 11]]\n",
    "    >>> block([[ 1,  2,  3,  4],\n",
    "    ...        [ 5,  6,  7,  8],\n",
    "    ...        [ 9, 10, 11, 12],\n",
    "    ...        [13, 14, 15, 16]\n",
    "    ...       ], 3, 0, 1, 4)\n",
    "    [[13, 14, 15, 16]]\n",
    "    >>> block([[ 1,  2,  3,  4],\n",
    "    ...        [ 5,  6,  7,  8],\n",
    "    ...        [ 9, 10, 11, 12],\n",
    "    ...        [13, 14, 15, 16]\n",
    "    ...       ], 0, 1, 2, 1)\n",
    "    [[2], [6]]\n",
    "    \"\"\"\n",
    "    \n",
    "#// BEGIN_TODO [block] Extract block from matrix (5 points)\n",
    "\n",
    "# ===== =====> Replace this line by your code. <===== ===== #\n",
    "\n",
    "#// END_TODO [block]"
   ]
  },
  {
   "cell_type": "code",
   "execution_count": null,
   "metadata": {},
   "outputs": [],
   "source": [
    "doctest.run_docstring_examples(block, globals(), verbose=True, name='block')"
   ]
  },
  {
   "cell_type": "markdown",
   "metadata": {},
   "source": [
    "### 2.c. Set of values in matrix\n",
    "\n",
    "Define function `matrix_set` that returns the set of values in a given matrix.\n",
    "\n",
    "**Notes**:\n",
    "* See the given docstring for details.\n",
    "* You can reuse ideas from the given code, but your code must be clean.\n",
    "\n",
    "**Hints**:\n",
    "* Generalize the given monolithic code for checking the blocks.\n",
    "* Use `set` and a generator expression over the rows and the entries in each row."
   ]
  },
  {
   "cell_type": "code",
   "execution_count": null,
   "metadata": {},
   "outputs": [],
   "source": [
    "def matrix_set(matrix: Matrix) -> Set[int]:\n",
    "    \"\"\"Return set of values in given matrix.\n",
    "        \n",
    "    >>> sorted(matrix_set(\n",
    "    ...     [[ 1,  2,  3],\n",
    "    ...      [ 9,  8,  7]]))\n",
    "    [1, 2, 3, 7, 8, 9]\n",
    "    >>> sorted(matrix_set(\n",
    "    ...     [[ 3,  2,  1]]))\n",
    "    [1, 2, 3]\n",
    "    >>> sorted(matrix_set(\n",
    "    ...     [[3],\n",
    "    ...      [2],\n",
    "    ...      [1]]))\n",
    "    [1, 2, 3]\n",
    "    \"\"\"\n",
    "    \n",
    "#// BEGIN_TODO [matrix_set] Set of values in matrix (5 points)\n",
    "\n",
    "# ===== =====> Replace this line by your code. <===== ===== #\n",
    "\n",
    "#// END_TODO [matrix_set]"
   ]
  },
  {
   "cell_type": "code",
   "execution_count": null,
   "metadata": {},
   "outputs": [],
   "source": [
    "doctest.run_docstring_examples(matrix_set, globals(), verbose=True, name='matrix_set')"
   ]
  },
  {
   "cell_type": "markdown",
   "metadata": {},
   "source": [
    "### 2.d. Sudoku solution checker\n",
    "\n",
    "Define function `sudokay` that\n",
    "given an $n^2\\times n^2$ matrix of numbers from $1$ through $n^2$,\n",
    "determines whether it is a proper Sudoku solution.\n",
    "\n",
    "**Notes**:\n",
    "* You don't need to check the assumptions.\n",
    "* You can reuse ideas from the given code, but your code must be clean.\n",
    "* You must use `isqrt`, `block`, `matrix_set` (at least once).\n",
    "* Avoid recomputation."
   ]
  },
  {
   "cell_type": "code",
   "execution_count": null,
   "metadata": {},
   "outputs": [],
   "source": [
    "def sudokay(puzzle: Matrix) -> bool:\n",
    "    \"\"\"Determine whether puzzle is a valid Sudoku solution.\n",
    "    \n",
    "    Assumption: puzzle is a square matrix,\n",
    "    whose number of rows and columns is itself a square.\n",
    "    \n",
    "    >>> sudokay(\n",
    "    ...     [[1, 2, 3, 4],\n",
    "    ...      [3, 4, 1, 2],\n",
    "    ...      [2, 1, 4, 3],\n",
    "    ...      [4, 3, 2, 1]])\n",
    "    True\n",
    "    >>> sudokay(  # bad rows\n",
    "    ...     [[1, 2, 3, 4],\n",
    "    ...      [3, 4, 1, 2],\n",
    "    ...      [2, 1, 4, 1],\n",
    "    ...      [4, 3, 2, 3]])\n",
    "    False\n",
    "    >>> sudokay(  # bad columns\n",
    "    ...     [[1, 2, 3, 4],\n",
    "    ...      [3, 4, 1, 2],\n",
    "    ...      [2, 1, 4, 3],\n",
    "    ...      [4, 3, 1, 2]])\n",
    "    False\n",
    "    >>> sudokay(  # bad blocks\n",
    "    ...     [[1, 2, 3, 4],\n",
    "    ...      [2, 3, 4, 1],\n",
    "    ...      [3, 4, 1, 2],\n",
    "    ...      [4, 1, 2, 3]])\n",
    "    False\n",
    "    \"\"\"\n",
    "#// BEGIN_TODO [sudokay] Check Sudoku (10 points)\n",
    "\n",
    "# ===== =====> Replace this line by your code. <===== ===== #\n",
    "\n",
    "#// END_TODO [sudokay]"
   ]
  },
  {
   "cell_type": "code",
   "execution_count": null,
   "metadata": {},
   "outputs": [],
   "source": [
    "doctest.run_docstring_examples(sudokay, globals(), verbose=True, name='sudokay')"
   ]
  },
  {
   "cell_type": "markdown",
   "metadata": {},
   "source": [
    "---"
   ]
  },
  {
   "cell_type": "markdown",
   "metadata": {},
   "source": [
    "## 3. Processing Files with Class\n",
    "\n",
    "Suppose we need to process text files in various ways:\n",
    "* List each line, preceded with a line number.\n",
    "* Count the number of lines.\n",
    "* Check that each line starts with a capital letter.\n",
    "* Etc.\n",
    "\n",
    "To avoid code duplication,\n",
    "we program the common structure of the processing in a base class.\n",
    "Each specific analysis can then be programmed as a subclass."
   ]
  },
  {
   "cell_type": "markdown",
   "metadata": {},
   "source": [
    "### 3.a. The base class `FileProcessor`\n",
    "\n",
    "In the base class `FileProcessor` below,\n",
    "we have already defined methods `__init__`, `begin`, `process_line`, and `end`.\n",
    "\n",
    "Define void method `process`, that given a file name\n",
    "1. stores this given file name in the attribute (instance variable) `file_name`;\n",
    "1. calls method `begin` to start the processing;\n",
    "1. opens the file for reading (assuming this can be done);\n",
    "1. calls method `process_line`, for each line of the file,\n",
    "   where parameter `i` is the line number starting at 1,\n",
    "   and the _trailing_ whitespace has been stripped from the line;\n",
    "1. calls method `end` to end the processing.\n",
    "    \n",
    "**Notes**:\n",
    "* You don't need to implement the special method `__repr__` in this exam.\n",
    "* You don't need to provide `doctest` examples for the method.  \n",
    "  But do provide a docstring.\n",
    "* See the given `doctest` example, which shows that the base class processor\n",
    "  lists the lines preceded with a line number.\n",
    "\n",
    "**Hints**:\n",
    "* To strip trailing whitespace, look up the documentation of method `str.rstrip`.\n",
    "* To get line numbers starting at 1, use function `enumerate` with a second argument."
   ]
  },
  {
   "cell_type": "code",
   "execution_count": null,
   "metadata": {},
   "outputs": [],
   "source": [
    "class FileProcessor:\n",
    "    \"\"\"Base class for file processors.\n",
    "    The default behavior is to list the file, with line numbers.\n",
    "    \n",
    "    >>> fp = FileProcessor()\n",
    "    >>> fp.process('limerick.txt')\n",
    "    Processing 'limerick.txt'\n",
    "    1: There was a young lady named Bright,\n",
    "    2: Whose speed was far faster than light;\n",
    "    3:   She  started  one  day\n",
    "    4:   In  a  relative  way,\n",
    "    5: And returned on the previous night.\n",
    "    (End of Report)\n",
    "    \"\"\"\n",
    "    \n",
    "    def __init__(self) -> None:\n",
    "        \"\"\"Initialize file processor object.\n",
    "        \"\"\"\n",
    "        self.file_name: str  # set in process(...)\n",
    "\n",
    "#// BEGIN_TODO [FileProcessor] Base class FileProcessor (7 points)\n",
    "\n",
    "# ===== =====> Replace this line by your code. <===== ===== #\n",
    "\n",
    "#// END_TODO [FileProcessor]\n",
    "            \n",
    "    def begin(self) -> None:\n",
    "        \"\"\"Actions done before processing.\n",
    "        \"\"\"\n",
    "        print(f\"Processing {self.file_name!r}\")\n",
    "    \n",
    "    def process_line(self, i: int, line: str) -> None:\n",
    "        \"\"\"Process line i with given content.\n",
    "        \"\"\"\n",
    "        print(f\"{i}: {line}\")\n",
    "    \n",
    "    def end(self) -> None:\n",
    "        \"\"\"Actions done after processing.\n",
    "        \"\"\"\n",
    "        print(f\"(End of Report)\")"
   ]
  },
  {
   "cell_type": "code",
   "execution_count": null,
   "metadata": {},
   "outputs": [],
   "source": [
    "doctest.run_docstring_examples(FileProcessor, globals(), verbose=True, name='FileProcessor')"
   ]
  },
  {
   "cell_type": "markdown",
   "metadata": {},
   "source": [
    "The following code shows a subclass to count the number of lines in a file.\n",
    "Note how the auxiliary attribute `count` is declared (but not initialized) in `__init__`."
   ]
  },
  {
   "cell_type": "code",
   "execution_count": null,
   "metadata": {},
   "outputs": [],
   "source": [
    "class FileLineCounter(FileProcessor):\n",
    "    \"\"\"A processor that counts the number of lines.\n",
    "    \"\"\"\n",
    "\n",
    "    def __init__(self) -> None:\n",
    "        \"\"\"Initialize file processor object.\n",
    "        Declare auxiliary attributes.\n",
    "        \"\"\"\n",
    "        super().__init__()\n",
    "        self.count: int  # set in begin(...)\n",
    "\n",
    "    # Override (docstring is inherited)\n",
    "    def begin(self) -> None:\n",
    "        super().begin()\n",
    "        self.count = 0\n",
    "        \n",
    "    # Override (docstring is inherited)\n",
    "    def process_line(self, i: int, line: str) -> None:\n",
    "        self.count += 1\n",
    "        \n",
    "    # Override (docstring is inherited)\n",
    "    def end(self) -> None:\n",
    "        print(f\"Lines: {self.count}\")\n",
    "        super().end()"
   ]
  },
  {
   "cell_type": "code",
   "execution_count": null,
   "metadata": {},
   "outputs": [],
   "source": [
    "flc = FileLineCounter()\n",
    "flc.process('limerick.txt')"
   ]
  },
  {
   "cell_type": "markdown",
   "metadata": {},
   "source": [
    "### 3.b. Class `WordCapitalizer`\n",
    "\n",
    "Define subclass `WordCapitalizer` of `FileProcessor`, by\n",
    "overriding methods `__init__`, `begin`, `process_line`, and `end`, such that it\n",
    "* lists the file with line numbers, with\n",
    "  * leading whitespace removed,\n",
    "  * whitespace between words compressed to a single space,\n",
    "  * each word capitalized;\n",
    "* counts the number of upper-case letters in the original text (in attribute `caps_count`);\n",
    "* counts the number of words (in attribute `word_count`).\n",
    "\n",
    "**Notes**:\n",
    "* See the given `doctest` examples for details.\n",
    "* You don't need to provide `doctest` examples for the methods.\n",
    "* Words are defined as the strings returned by method `line.split`,\n",
    "  that is, delimited by whitespace.  \n",
    "  This also removes leading whitespace.\n",
    "* Reuse `process_line` of the base class, via `super()`,\n",
    "  to do the actual printing.\n",
    "\n",
    "**Hints**:\n",
    "* Look up the documentation of methods `str.isupper` and `str.capitalize`.\n",
    "* Put words obtained by `line.split(...)` back together again with `' '.join(...)`."
   ]
  },
  {
   "cell_type": "code",
   "execution_count": null,
   "metadata": {},
   "outputs": [],
   "source": [
    "class WordCapitalizer(FileProcessor):\n",
    "    \"\"\"A processor that capitalizes each word and counts all upper-case letters and words.\n",
    "    \n",
    "    >>> wc = WordCapitalizer()\n",
    "    >>> wc.process('limerick.txt')\n",
    "    Capitalize and count words in 'limerick.txt'\n",
    "    1: There Was A Young Lady Named Bright,\n",
    "    2: Whose Speed Was Far Faster Than Light;\n",
    "    3: She Started One Day\n",
    "    4: In A Relative Way,\n",
    "    5: And Returned On The Previous Night.\n",
    "    Upper case in original: 6\n",
    "    Words: 28\n",
    "    \"\"\"\n",
    "\n",
    "#// BEGIN_TODO [WordCapitalizer] Count upper-case and words, capitalize words (8 points)\n",
    "\n",
    "# ===== =====> Replace this line by your code. <===== ===== #\n",
    "\n",
    "#// END_TODO [WordCapitalizer]"
   ]
  },
  {
   "cell_type": "code",
   "execution_count": null,
   "metadata": {},
   "outputs": [],
   "source": [
    "doctest.run_docstring_examples(WordCapitalizer, globals(), verbose=True, name='WordCapitalizer')"
   ]
  },
  {
   "cell_type": "markdown",
   "metadata": {},
   "source": [
    "## 4. Software Engineering"
   ]
  },
  {
   "cell_type": "markdown",
   "metadata": {},
   "source": [
    "### 4.a. Free Open-Source Software\n",
    "\n",
    "Explain in your own words the meaning of 'free' in Free Open-Source Software (FOSS).\n",
    "\n",
    "**Notes**:\n",
    "* Write a paragraph of complete sentences (not just some phrases and catchwords).\n",
    "* There is no Momotor feedback for this question."
   ]
  },
  {
   "cell_type": "markdown",
   "metadata": {},
   "source": [
    "`#// BEGIN_TODO [Free] Explain 'free' in Free Open-Source Software (5 points)`\n",
    "\n",
    "<div class='alert alert-warning' role='alert'>Replace this line by your text.</div>\n",
    "\n",
    "`#// END_TODO [Free]`"
   ]
  },
  {
   "cell_type": "markdown",
   "metadata": {},
   "source": [
    "### 4.b. Clean Code\n",
    "\n",
    "Explain in your own words why it is important to write clean code from the start;\n",
    "that is, why it is not advisable to first get your program to work and then 'clean' it up afterwards.\n",
    "\n",
    "By clean code, we mean code that adheres to the coding standard,\n",
    "with proper layout, spacing, naming, and documentation.\n",
    "\n",
    "**Notes**:\n",
    "* Write a paragraph of complete sentences (not just some phrases and catchwords).\n",
    "* There is no Momotor feedback for this question."
   ]
  },
  {
   "cell_type": "markdown",
   "metadata": {},
   "source": [
    "`#// BEGIN_TODO [Clean] Explain why to write clean code from the start (5 points)`\n",
    "\n",
    "<div class='alert alert-warning' role='alert'>Replace this line by your text.</div>\n",
    "\n",
    "`#// END_TODO [Clean]`"
   ]
  },
  {
   "cell_type": "markdown",
   "metadata": {},
   "source": [
    "---"
   ]
  },
  {
   "cell_type": "markdown",
   "metadata": {},
   "source": [
    "## Final business"
   ]
  },
  {
   "cell_type": "code",
   "execution_count": null,
   "metadata": {},
   "outputs": [],
   "source": [
    "doctest.testmod(verbose=False)  # with details"
   ]
  },
  {
   "cell_type": "code",
   "execution_count": null,
   "metadata": {},
   "outputs": [],
   "source": [
    "%whos"
   ]
  },
  {
   "cell_type": "markdown",
   "metadata": {},
   "source": [
    "---\n",
    "\n",
    "## (End of Notebook)\n",
    "\n",
    "&copy; 2021 - **TU/e** - Eindhoven University of Technology"
   ]
  }
 ],
 "metadata": {
  "kernelspec": {
   "display_name": "Python 3",
   "language": "python",
   "name": "python3"
  },
  "language_info": {
   "codemirror_mode": {
    "name": "ipython",
    "version": 3
   },
   "file_extension": ".py",
   "mimetype": "text/x-python",
   "name": "python",
   "nbconvert_exporter": "python",
   "pygments_lexer": "ipython3",
   "version": "3.7.2"
  }
 },
 "nbformat": 4,
 "nbformat_minor": 2
}
