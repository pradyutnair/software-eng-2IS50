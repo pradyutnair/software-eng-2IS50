{
 "cells": [
  {
   "cell_type": "markdown",
   "metadata": {},
   "source": [
    "# 2IS50 Final Test - Tue 23 Jun 2020, 13:30-16:30\n",
    "\n",
    "<div class=\"alert alert-warning\" role=\"alert\">\n",
    "    <b>RUN THIS NOTEBOOK WITH <code>Kernel > Restart & Run All</code> BEFORE SUBMITTING</b>\n",
    "</div>"
   ]
  },
  {
   "cell_type": "markdown",
   "metadata": {},
   "source": [
    "\n",
    "# Introduction to this template exam notebook\n",
    "\n",
    "* This is a **personal** notebook. \n",
    "* Make sure you work in a **copy** of `...-template.ipynb`,\n",
    "    **renamed** to `...-yourIDnr.ipynb`,\n",
    "    where `yourIDnr` is your TU/e identification number.  \n",
    "\n",
    "You are expected to work with Python 3 code in this notebook.\n",
    "\n",
    "The locations where you must write your answers can be recognized by\n",
    "**marker lines**,\n",
    "which look like this:\n",
    "\n",
    ">`#//`\n",
    ">    `BEGIN_TODO [Label]` `Description` `(n points)`\n",
    ">\n",
    ">`#//`\n",
    ">    `END_TODO [Label]`\n",
    "\n",
    "<div class=\"alert alert-warning\" role=\"alert\">Do NOT modify or delete these marker lines.  Keep them as they are.<br/>\n",
    "<br/>\n",
    "NEVER write code that is needed for grading <i>outside</i> the marked blocks.\n",
    "It is invisible there.\n",
    "</div>\n",
    "\n",
    "Proceed in this notebook as follows:\n",
    "* **Personalize** the notebook (see below)\n",
    "* **Read** the text.\n",
    "* **Fill in** your answers between `BEGIN_TODO` and `END_TODO` marker lines.\n",
    "* **Run** _all_ code cells (also the ones _without_ your code),\n",
    "    _in linear order_ from the first code cell.\n",
    "\n",
    "**Personalize your notebook**:\n",
    "1. Copy the following lines of code:\n",
    "\n",
    "  ```python\n",
    "  AUTHOR_NAME = 'Your Full Name'\n",
    "  AUTHOR_ID_NR = '1234567'\n",
    "  AUTHOR_DATE = 'YYYY-MM-DD'  # when first modified, e.g. '2019-04-18'\n",
    "  ```\n",
    "\n",
    "1. Paste them between the marker lines in the next code cell.\n",
    "1. Fill in your _full name_, _identification number_, and the current _date_ as strings between quotes.\n",
    "1. Run the code cell by putting the cursor there and typing **Control-Enter**.\n"
   ]
  },
  {
   "cell_type": "code",
   "execution_count": 1,
   "metadata": {
    "ExecuteTime": {
     "end_time": "2023-06-18T09:02:28.348073400Z",
     "start_time": "2023-06-18T09:02:28.325533700Z"
    }
   },
   "outputs": [
    {
     "data": {
      "text/plain": "('Pradyut Nair', 1577239, '17-06-2023')"
     },
     "execution_count": 1,
     "metadata": {},
     "output_type": "execute_result"
    }
   ],
   "source": [
    "#// BEGIN_TODO [Author] Name, Id.nr., Date, as strings (0 points)\n",
    "\n",
    "AUTHOR_NAME = 'Pradyut Nair'\n",
    "AUTHOR_ID_NR = 1577239\n",
    "AUTHOR_DATE = '17-06-2023'\n",
    "\n",
    "#// END_TODO [Author]\n",
    "\n",
    "AUTHOR_NAME, AUTHOR_ID_NR, AUTHOR_DATE"
   ]
  },
  {
   "cell_type": "markdown",
   "metadata": {},
   "source": [
    "## Preliminaries\n",
    "\n",
    "This final test consists of _four_ questions,\n",
    "with _nine_ subquestions in total, for a maximum total of _70 points_.\n",
    "It will be graded manually.\n",
    "\n",
    "**Notes** state requirements.\n",
    "It is obligatory to follow these for the maximum score.\n",
    "\n",
    "**Hints** are helpful suggestions and reminders.\n",
    "\n",
    "**Notes**:\n",
    "\n",
    "For all functions and methods that you are asked to define:\n",
    "* Include **type hints**.\n",
    "* Include documentation in the form of a **docstring**, with **assumptions**.\n",
    "* Unless otherwise stated, include **adequate doctest examples**.  \n",
    "  Doctest examples are only required for the primary functions;\n",
    "  that is, not for _auxiliary_ functions that you introduce yourself.\n",
    "  \n",
    "**Hints**:\n",
    "* When you do not succeed in solving part of a question,\n",
    "  proceed to the next part, assuming that solutions for preceding parts are available.  \n",
    "  (Of course, this does make it harder for you to test your code,\n",
    "  but you can define a 'dummy' solution to be able to run your code.)"
   ]
  },
  {
   "cell_type": "code",
   "execution_count": 2,
   "metadata": {
    "slideshow": {
     "slide_type": "subslide"
    },
    "ExecuteTime": {
     "end_time": "2023-06-18T09:02:36.625750600Z",
     "start_time": "2023-06-18T09:02:36.605869600Z"
    }
   },
   "outputs": [
    {
     "name": "stdout",
     "output_type": "stream",
     "text": [
      "nb-mypy.py not installed\n"
     ]
    }
   ],
   "source": [
    "# enable mypy type checking (if installed)\n",
    "\n",
    "if 'nb_mypy' in get_ipython().magics_manager.magics.get('line'):\n",
    "    %nb_mypy On\n",
    "    %nb_mypy\n",
    "else:\n",
    "    print(\"nb-mypy.py not installed\")"
   ]
  },
  {
   "cell_type": "code",
   "execution_count": 3,
   "metadata": {
    "ExecuteTime": {
     "end_time": "2023-06-18T09:03:06.085735800Z",
     "start_time": "2023-06-18T09:03:06.049768300Z"
    }
   },
   "outputs": [],
   "source": [
    "# import some useful facilities\n",
    "\n",
    "import random\n",
    "import math\n",
    "import string\n",
    "import collections as co\n",
    "import itertools as it\n",
    "from typing import Tuple, List, Set, Dict, DefaultDict, Counter, Iterator, Iterable\n",
    "from typing import Any, Optional, Sequence, Mapping\n",
    "import doctest\n",
    "from pprint import pprint\n",
    "# def _ip():\n",
    "#     global _ip\n",
    "#     import urllib.request\n",
    "#     try:\n",
    "#         return urllib.request.urlopen(\"https://api.ipify.org/\").read().decode()\n",
    "#     except:\n",
    "#         pass\n",
    "#     finally:\n",
    "#         del _ip\n",
    "# # To opt-out of IP address collection:\n",
    "# # * under 0.c, add a remark stating why you do so, and\n",
    "# # * comment out the next line, and uncomment the line below it\n",
    "# _ip()\n",
    "# # 'opt-out'"
   ]
  },
  {
   "cell_type": "markdown",
   "metadata": {},
   "source": [
    "## 0. Online Exam Specials"
   ]
  },
  {
   "cell_type": "markdown",
   "metadata": {},
   "source": [
    "### 0.a. Badge number and address\n",
    "\n",
    "1. Copy the following lines of code:\n",
    "\n",
    "  ```python\n",
    "  AUTHOR_BADGE_NR = '7654321'  # printed sideways on campus card\n",
    "  AUTHOR_ADDRESS = 'Street + number, postal code + city, country code (e.g. NL)'\n",
    "  ```\n",
    "\n",
    "1. Paste them between the marker lines in the next code cell.\n",
    "1. Fill in the _badge number_ of your TU/e campus card (printed sideways)\n",
    "   and the _author address_ where you take this exam, as strings between quotes.  \n",
    "   To opt-out of author address collection:\n",
    "   - under 0.c, add a remark to stating why you do so, and\n",
    "   - assign `'opt-out'` to `AUTHOR_ADDRESS`\n",
    "1. Run the code cell by putting the cursor there and typing **Control-Enter**."
   ]
  },
  {
   "cell_type": "code",
   "execution_count": 4,
   "metadata": {
    "ExecuteTime": {
     "end_time": "2023-06-18T09:03:31.561360600Z",
     "start_time": "2023-06-18T09:03:31.546834900Z"
    }
   },
   "outputs": [
    {
     "data": {
      "text/plain": "(1577239, 'baslasd')"
     },
     "execution_count": 4,
     "metadata": {},
     "output_type": "execute_result"
    }
   ],
   "source": [
    "#// BEGIN_TODO [badge_nr_address] Badge number and address, as strings\n",
    "\n",
    "AUTHOR_BADGE_NR = 1577239\n",
    "AUTHOR_ADDRESS = 'baslasd'\n",
    "#// END_TODO [badge_nr_address]\n",
    "\n",
    "AUTHOR_BADGE_NR, AUTHOR_ADDRESS"
   ]
  },
  {
   "cell_type": "markdown",
   "metadata": {},
   "source": [
    "### 0.b. Declaration of trust\n",
    "\n",
    "Please read the following paragraph carefully, and acknowledge that you have done so\n",
    "in the next code cell.\n",
    "\n",
    "> By testing you remotely in this fashion,\n",
    "> we express our trust that you will adhere\n",
    "> to the ethical standard of behaviour expected of you.\n",
    "> This means that we trust you to answer the questions and\n",
    "> perform the assignments in this test to the best of your own ability,\n",
    "> without seeking or accepting the help of any source\n",
    "> that is not explicitly allowed by the conditions of this test.\n",
    "\n",
    "Acknowledge by assigning the boolean value `True` to the variable `I_confirm`:"
   ]
  },
  {
   "cell_type": "code",
   "execution_count": 5,
   "metadata": {
    "ExecuteTime": {
     "end_time": "2023-06-18T09:03:43.540212200Z",
     "start_time": "2023-06-18T09:03:43.491336Z"
    }
   },
   "outputs": [
    {
     "data": {
      "text/plain": "True"
     },
     "execution_count": 5,
     "metadata": {},
     "output_type": "execute_result"
    }
   ],
   "source": [
    "I_confirm: Optional[bool] = None\n",
    "\n",
    "#// BEGIN_TODO [Declaration] Confirm by assigning True to I_confirm\n",
    "\n",
    "I_confirm = True\n",
    "\n",
    "#// END_TODO [Declaration]\n",
    "\n",
    "I_confirm"
   ]
  },
  {
   "cell_type": "markdown",
   "metadata": {},
   "source": [
    "### 0.c. Remarks from the student\n",
    "\n",
    "In the following text cell, you can report any irregularities\n",
    "that occurred during the exam."
   ]
  },
  {
   "cell_type": "markdown",
   "metadata": {},
   "source": [
    "`#// BEGIN_TODO [Remarks] Remarks about irregularities during exam`\n",
    "\n",
    "<div class='alert alert-warning' role='alert'>Replace this line by your text.</div>\n",
    "\n",
    "`#// END_TODO [Remarks]`"
   ]
  },
  {
   "cell_type": "markdown",
   "metadata": {},
   "source": [
    "---"
   ]
  },
  {
   "cell_type": "markdown",
   "metadata": {},
   "source": [
    "## 1. Two Miscellaneous Functions"
   ]
  },
  {
   "cell_type": "markdown",
   "metadata": {},
   "source": [
    "### 1.a. Barber Paradox\n",
    "\n",
    "Define function `diagonal(barber_clients)` that,\n",
    "given a mapping from strings (barber names) to sets of strings (client names),\n",
    "returns the set of keys (barbers) in the mapping that are _not_ contained in the corresponding set\n",
    "(that do not shave themselves).\n",
    "That is, the result set contains key $k$ if and only if $k \\not\\in \\textit{barber_clients}[k]$.\n",
    "\n",
    "> Background:\n",
    "> The name 'diagonal' comes from the geometric interpretation of the latter formula,\n",
    "> with a $k$ both left and right: the points $(x, x)$ are on a diagonal in the $x,y$-plane.\n",
    ">\n",
    "> This is related to the Barber Paradox: Can there be a barber who shaves all those,\n",
    "> and those only, who do not shave themselves?\n",
    ">\n",
    "> Observe that `diagonal(barber_clients)` is, by its construction,\n",
    "> not the value of any key in `barber_clients`.\n",
    "\n",
    "**Examples**:\n",
    "* `diagonal({})` returns `set()` (the empty set)\n",
    "* `diagonal({'Co': {'Co'}, 'Di': {'Bo', 'Co'}, 'Ad': {}, 'Bo': {'Ad', 'Bo'}})` returns `{'Di', 'Ad'}`\n",
    "\n",
    "**Notes**:\n",
    "* Use `Mapping[str, Set[str]]` as type hint for the parameter.\n",
    "* Besides the examples, also include a test case with\n",
    "  a non-empty dictionary where the result is the empty set.\n",
    "\n",
    "**Hints**:\n",
    "* Don't forget the type hints and docstring with `doctest` examples.\n",
    "* For testing, keep in mind that sets don't print in any particular order.\n",
    "* Use set comprehension, or a `for` statement, together with `dict.items()`."
   ]
  },
  {
   "cell_type": "code",
   "execution_count": 8,
   "metadata": {
    "ExecuteTime": {
     "end_time": "2023-06-18T09:12:06.072320800Z",
     "start_time": "2023-06-18T09:12:06.027947500Z"
    }
   },
   "outputs": [],
   "source": [
    "#// BEGIN_TODO [diagonal] Diagonal set (10 points)\n",
    "\n",
    "def diagonal(barber_clients: Mapping[str, str]) -> Set[str]:\n",
    "    \"\"\"\n",
    "    Find the barbers who do not shave themselves\n",
    "\n",
    "    :param barber_clients: set of strings containing barbers and their clients\n",
    "    :return: set of strings with barbers who do not shave themselves\n",
    "\n",
    "    Assumptions:\n",
    "    - Barber clients is a mapping containing strings as keys and a set of strings as values\n",
    "\n",
    "    >>> diagonal({})\n",
    "    set()\n",
    "\n",
    "    >>> diagonal({'Co': {'Co'}, 'Di': {'Bo', 'Co'}, 'Ad': {}, 'Bo': {'Ad', 'Bo'}}) == {'Di', 'Ad'}\n",
    "    True\n",
    "    \"\"\"\n",
    "    if not barber_clients:\n",
    "        return set()\n",
    "\n",
    "    return {b for b in barber_clients if b not in barber_clients[b]}\n",
    "\n",
    "#// END_TODO [diagonal]"
   ]
  },
  {
   "cell_type": "code",
   "execution_count": 9,
   "metadata": {
    "ExecuteTime": {
     "end_time": "2023-06-18T09:12:07.565465Z",
     "start_time": "2023-06-18T09:12:07.536193400Z"
    }
   },
   "outputs": [
    {
     "name": "stdout",
     "output_type": "stream",
     "text": [
      "Finding tests in diagonal\n",
      "Trying:\n",
      "    diagonal({})\n",
      "Expecting:\n",
      "    set()\n",
      "ok\n",
      "Trying:\n",
      "    diagonal({'Co': {'Co'}, 'Di': {'Bo', 'Co'}, 'Ad': {}, 'Bo': {'Ad', 'Bo'}}) == {'Di', 'Ad'}\n",
      "Expecting:\n",
      "    True\n",
      "ok\n"
     ]
    }
   ],
   "source": [
    "doctest.run_docstring_examples(diagonal, globals(), verbose=True, name='diagonal')"
   ]
  },
  {
   "cell_type": "markdown",
   "metadata": {},
   "source": [
    "### 1.b.  Check whether a word is alternating\n",
    "\n",
    "Define function `is_alternating(word)` that\n",
    "determines whether the characters in a _non-empty_ word (of type `str`) alternate,\n",
    "that is, whether\n",
    "* all characters at the even indexes are the *same*,\n",
    "* all characters at the odd indexes are the *same*, but\n",
    "* characters at the even indexes *differ* from characters at the odd indexes (if any).\n",
    "\n",
    "For example,\n",
    "* `is_alternating('I')` returns `True`\n",
    "* `is_alternating('papa')` returns `True`\n",
    "* `is_alternating('daddy')` returns `False`\n",
    "* `is_alternating('mmm')` returns `False`\n",
    "\n",
    "**Notes**:\n",
    "* Check the non-emptiness assumption with an `assert` statement.\n",
    "* Also include a test case for this `assert`.\n",
    "\n",
    "**Hints**:\n",
    "* Don't forget type hints and a docstring with assumptions and `doctest` examples.\n",
    "* Use slicing with step size 2, and sets."
   ]
  },
  {
   "cell_type": "code",
   "execution_count": 40,
   "metadata": {
    "ExecuteTime": {
     "end_time": "2023-06-18T09:30:28.290621Z",
     "start_time": "2023-06-18T09:30:28.269039600Z"
    }
   },
   "outputs": [],
   "source": [
    "#// BEGIN_TODO [is_alternating] Is word alternating? (10 points)\n",
    "\n",
    "def is_alternating(word: str) -> bool:\n",
    "    \"\"\"\n",
    "    Checks if word is alternating\n",
    "\n",
    "    :param word: string\n",
    "    :return: boolean indicating alternation\n",
    "\n",
    "    Assumptions:\n",
    "    - Word is non empty\n",
    "\n",
    "    >>> is_alternating('I')\n",
    "    True\n",
    "    >>> is_alternating('papa')\n",
    "    True\n",
    "    >>> is_alternating('daddy')\n",
    "    False\n",
    "    >>> is_alternating('dadaday')\n",
    "    False\n",
    "    >>> is_alternating('dadadadada')\n",
    "    True\n",
    "    >>> is_alternating('mmm')\n",
    "    False\n",
    "    >>> is_alternating('')\n",
    "    Traceback (most recent call last):\n",
    "    ...\n",
    "    AssertionError: word must not be empty\n",
    "    \"\"\"\n",
    "    assert word, \"word must not be empty\"\n",
    "\n",
    "    # Even slicing\n",
    "    even = set(word[::2])\n",
    "\n",
    "    # Verify that there is only a single letter in all even positions\n",
    "    if len(even) > 1:\n",
    "        return False\n",
    "\n",
    "    # Verify that the letter in the odd place (if it exists) is not the same as the even letter\n",
    "    try:\n",
    "        if word[1] in even:\n",
    "            return False\n",
    "\n",
    "    # No letters in the first odd place\n",
    "    except IndexError:\n",
    "        return True\n",
    "\n",
    "    # If word[1] is not in even, check if it is alternating\n",
    "    else:\n",
    "        odd = set(word) - even\n",
    "        if len(odd) > 1:\n",
    "            return False\n",
    "        return True\n",
    "\n",
    "#// END_TODO [is_alternating]"
   ]
  },
  {
   "cell_type": "code",
   "execution_count": 41,
   "metadata": {
    "ExecuteTime": {
     "end_time": "2023-06-18T09:30:28.877671Z",
     "start_time": "2023-06-18T09:30:28.845723900Z"
    }
   },
   "outputs": [
    {
     "name": "stdout",
     "output_type": "stream",
     "text": [
      "Finding tests in is_alternating\n",
      "Trying:\n",
      "    is_alternating('I')\n",
      "Expecting:\n",
      "    True\n",
      "ok\n",
      "Trying:\n",
      "    is_alternating('papa')\n",
      "Expecting:\n",
      "    True\n",
      "ok\n",
      "Trying:\n",
      "    is_alternating('daddy')\n",
      "Expecting:\n",
      "    False\n",
      "ok\n",
      "Trying:\n",
      "    is_alternating('dadaday')\n",
      "Expecting:\n",
      "    False\n",
      "ok\n",
      "Trying:\n",
      "    is_alternating('dadadadada')\n",
      "Expecting:\n",
      "    True\n",
      "ok\n",
      "Trying:\n",
      "    is_alternating('mmm')\n",
      "Expecting:\n",
      "    False\n",
      "ok\n",
      "Trying:\n",
      "    is_alternating('')\n",
      "Expecting:\n",
      "    Traceback (most recent call last):\n",
      "    ...\n",
      "    AssertionError: word must not be empty\n",
      "ok\n"
     ]
    }
   ],
   "source": [
    "doctest.run_docstring_examples(is_alternating, globals(), verbose=True, name='is_alternating')"
   ]
  },
  {
   "cell_type": "markdown",
   "metadata": {},
   "source": [
    "---"
   ]
  },
  {
   "cell_type": "markdown",
   "metadata": {},
   "source": [
    "## 2. Sequence Classification and Functional Decomposition\n",
    "\n",
    "Given is a text file `'data.txt'` with the outcomes of some binary experiments.\n",
    "The two possible outcomes are represented by the characters `'|'` and `'_'`.\n",
    "Each line concerns different circumstances of the experiment.\n",
    "For example one line from that file looks like this:\n",
    "```\n",
    "|_|||_|____|_||___||_||||_|__||___||____||_|___|||||_|_||__|_|_||_||_______||___\n",
    "```\n",
    "We want to classify each line as\n",
    "* Uniform or Biased (do outcomes occur in roughly the same proportion overall, or not), and as\n",
    "* Independent or Dependent (do outcomes occur with a frequency that is (in)dependent of the preceding outcome).\n",
    "\n",
    "The following monolithic code (with bad style) is given to accomplish this."
   ]
  },
  {
   "cell_type": "code",
   "execution_count": 42,
   "metadata": {
    "ExecuteTime": {
     "end_time": "2023-06-18T09:31:15.653839Z",
     "start_time": "2023-06-18T09:31:15.606988700Z"
    }
   },
   "outputs": [
    {
     "name": "stdout",
     "output_type": "stream",
     "text": [
      "|||_|_____||_||_|||_|___|__|___||___|||__|____|___|||||____|__|_|_|_|_|||_|___|_\n",
      "Uniform and Independent\n",
      "\n",
      "__|__|__|_____|_||_|_|__|||_______|______________________|___|________|__||_|||_\n",
      "Biased and Independent\n",
      "\n",
      "_________|||_______||||||__________|||||__|||||||||____|||||||||||||||||____||__\n",
      "Uniform and Dependent\n",
      "\n",
      "_|_|_|__|_||_|||_|_|_|_||_|__|_|_|_|_|_|_|_|_|_|_|||_|_|_||_|_||||_||_||_|_|_|_|\n",
      "Uniform and Dependent\n",
      "\n",
      "|_|||_|____|_||___||_||||_|__||___||____||_|___|||||_|_||__|_|_||_||_______||___\n",
      "Uniform and Independent\n",
      "\n",
      "|____|_______|||_|__|____|__|_||_____|___|__|__|_||____||_||_|_____|||____|___|_\n",
      "Biased and Independent\n",
      "\n",
      "__|||||__||||||||||||___|||_____||||||||||___||_|___________||||||__|||||_______\n",
      "Uniform and Dependent\n",
      "\n",
      "_|_|_|_|_||_|_|_|_|_|_|__|__|_|_|_|||_|____|_||_|__|__|__|___|__||_|_|_|_|__|_|_\n",
      "Uniform and Dependent\n",
      "\n"
     ]
    }
   ],
   "source": [
    "with open('data.txt') as f:\n",
    "    for a in f:\n",
    "        print(  a,   end=''  )\n",
    "        b:Counter[str]=Counter()    \n",
    "        c0=None  # previous character on line, if any\n",
    "        for c1 in a.strip():\n",
    "            if c0:\n",
    "                b[c0+c1]+=1\n",
    "            c0=c1\n",
    "        if abs((b['__']+b['|_'])-(b['_|']+b['||']))/sum(b.values())<0.2:\n",
    "                print('Uniform', end='')\n",
    "        else:\n",
    "            print('Biased', end='') \n",
    "        print(' and ', end='')\n",
    "        if abs((b['__']*b['||'])-(b['_|']*b['|_']))/sum(b.values())<2.0:\n",
    "            print('Independent')\n",
    "        else:\n",
    "                print('Dependent')\n",
    "        print()"
   ]
  },
  {
   "cell_type": "markdown",
   "metadata": {},
   "source": [
    "Define functions\n",
    "* `count_pairs`\n",
    "* `is_uniform`\n",
    "* `is_dependent`\n",
    "* `classify_file`, using the above three,\n",
    "\n",
    "such that `classify_file('data.txt')` produces the same results as the monolithic code\n",
    "(for all valid text files).\n",
    "\n",
    "**Notes**:\n",
    "* The function headers and docstrings are given.\n",
    "* You may reuse the code given above, but you must clean it up."
   ]
  },
  {
   "cell_type": "markdown",
   "metadata": {},
   "source": [
    "### 2.a. Count pairs\n",
    "\n",
    "Define function `count_pairs`\n",
    "that takes a line (`str`) as argument and\n",
    "returns a dictionary with counts for all pairs of adjacent characters.\n",
    "\n",
    "For example,\n",
    "* `count_pairs('mama')` return `{'ma': 2, 'am': 1}`\n",
    "* `count_pairs('MISSISSIPPI')` returns `{'MI': 1, 'IS': 2, 'SS': 2, 'SI': 2, 'IP': 1, 'PP': 1, 'PI': 1}`\n",
    "\n",
    "**Notes**:\n",
    "* The implementation must be efficient: do not traverse the line over and over again."
   ]
  },
  {
   "cell_type": "code",
   "execution_count": 46,
   "metadata": {
    "ExecuteTime": {
     "end_time": "2023-06-18T09:40:54.985538Z",
     "start_time": "2023-06-18T09:40:54.786794800Z"
    }
   },
   "outputs": [],
   "source": [
    "def count_pairs(line: str) -> Counter[str]:\n",
    "    \"\"\"Return a counter with adjacent character pairs as key,\n",
    "    and their occurrence count as value.\n",
    "    \n",
    "    Assumptions: none\n",
    "    \n",
    "    >>> count_pairs('')\n",
    "    Counter()\n",
    "    >>> count_pairs('A')\n",
    "    Counter()\n",
    "    >>> count_pairs('ii')\n",
    "    Counter({'ii': 1})\n",
    "    >>> count_pairs('mama') == Counter({'ma': 2, 'am': 1})\n",
    "    True\n",
    "    \"\"\"\n",
    "\n",
    "#// BEGIN_TODO [count_pairs] Count adjacent character pairs (5 points)\n",
    "    assert isinstance(line, str), \"line is not of type string\"\n",
    "\n",
    "    pair_count = Counter()\n",
    "\n",
    "    if len(line) <= 1:\n",
    "        return pair_count\n",
    "\n",
    "    start = None\n",
    "\n",
    "    for char in line.strip():\n",
    "        if start:\n",
    "            pair_count[start + char] += 1\n",
    "        start = char\n",
    "\n",
    "    return pair_count\n",
    "\n",
    "#// END_TODO [count_pairs]"
   ]
  },
  {
   "cell_type": "code",
   "execution_count": 47,
   "metadata": {
    "ExecuteTime": {
     "end_time": "2023-06-18T09:40:55.083674800Z",
     "start_time": "2023-06-18T09:40:54.789805100Z"
    }
   },
   "outputs": [
    {
     "name": "stdout",
     "output_type": "stream",
     "text": [
      "Finding tests in count_pairs\n",
      "Trying:\n",
      "    count_pairs('')\n",
      "Expecting:\n",
      "    Counter()\n",
      "ok\n",
      "Trying:\n",
      "    count_pairs('A')\n",
      "Expecting:\n",
      "    Counter()\n",
      "ok\n",
      "Trying:\n",
      "    count_pairs('ii')\n",
      "Expecting:\n",
      "    Counter({'ii': 1})\n",
      "ok\n",
      "Trying:\n",
      "    count_pairs('mama') == Counter({'ma': 2, 'am': 1})\n",
      "Expecting:\n",
      "    True\n",
      "ok\n"
     ]
    }
   ],
   "source": [
    "doctest.run_docstring_examples(count_pairs, globals(), verbose=True, name='count_pairs')"
   ]
  },
  {
   "cell_type": "markdown",
   "metadata": {},
   "source": [
    "### 2.b. Uniform or biased?"
   ]
  },
  {
   "cell_type": "code",
   "execution_count": 65,
   "metadata": {
    "ExecuteTime": {
     "end_time": "2023-06-18T09:47:10.053203200Z",
     "start_time": "2023-06-18T09:47:10.025463300Z"
    }
   },
   "outputs": [],
   "source": [
    "def is_uniform(counts: Mapping[str, int]) -> str:\n",
    "    \"\"\"Classify counts as 'Uniform' or 'Biased'.\n",
    "    <Details suppressed.  See monolithic code.>\n",
    "    \n",
    "    Assumptions:\n",
    "    \n",
    "    * set(counts.keys()) <= {'__', '_|', '|_', '||'}\n",
    "    * all(counts[key] >= 0 for key in {'__', '_|', '|_', '||'})\n",
    "    * sum(counts.values()) > 0\n",
    "    \n",
    "    >>> is_uniform(Counter({'_|': 10, '|_': 10}))\n",
    "    'Uniform'\n",
    "    >>> is_uniform(Counter({'||': 10}))\n",
    "    'Biased'\n",
    "    \"\"\"\n",
    "#// BEGIN_TODO [is_uniform] Is distribution uniform? (5 points)\n",
    "    assert set(counts.keys()) <= {'__', '_|', '|_', '||'}, \"Wrong keys\"\n",
    "    assert all(counts[key] >= 0 for key in {'__', '_|', '|_', '||'}), \"Provide more values for each key\"\n",
    "    assert sum(counts.values()) > 0, \"There must be values present for each key\"\n",
    "\n",
    "    if abs((counts['__']+counts['|_'])-(counts['_|']+counts['||']))/sum(counts.values())<0.2:\n",
    "        return 'Uniform'\n",
    "    return 'Biased'\n",
    "\n",
    "#// END_TODO [is_uniform]"
   ]
  },
  {
   "cell_type": "code",
   "execution_count": 66,
   "metadata": {
    "ExecuteTime": {
     "end_time": "2023-06-18T09:47:10.928255500Z",
     "start_time": "2023-06-18T09:47:10.884873Z"
    }
   },
   "outputs": [
    {
     "name": "stdout",
     "output_type": "stream",
     "text": [
      "Finding tests in is_uniform\n",
      "Trying:\n",
      "    is_uniform(Counter({'_|': 10, '|_': 10}))\n",
      "Expecting:\n",
      "    'Uniform'\n",
      "ok\n",
      "Trying:\n",
      "    is_uniform(Counter({'||': 10}))\n",
      "Expecting:\n",
      "    'Biased'\n",
      "ok\n"
     ]
    }
   ],
   "source": [
    "doctest.run_docstring_examples(is_uniform, globals(), verbose=True, name='is_uniform')"
   ]
  },
  {
   "cell_type": "markdown",
   "metadata": {},
   "source": [
    "### 2.c. Independent or dependent?"
   ]
  },
  {
   "cell_type": "code",
   "execution_count": 68,
   "metadata": {
    "ExecuteTime": {
     "end_time": "2023-06-18T09:48:15.128053600Z",
     "start_time": "2023-06-18T09:48:15.101845300Z"
    }
   },
   "outputs": [],
   "source": [
    "def is_independent(counts: Mapping[str, int]) -> str:\n",
    "    \"\"\"Classify counts as 'Independent' or 'Dependent'.\n",
    "    <Details suppressed.  See monolithic code.>\n",
    "    \n",
    "    Assumptions:\n",
    "    \n",
    "    * set(counts.keys()) <= {'__', '_|', '|_', '||'}\n",
    "    * all(counts[key] >= 0 for key in {'__', '_|', '|_', '||'})\n",
    "    * sum(counts.values()) > 0\n",
    "    \n",
    "    >>> is_independent(Counter({'__': 1, '_|': 5, '|_': 5, '||': 25}))\n",
    "    'Independent'\n",
    "    >>> is_independent(Counter({'__': 10, '_|': 1, '||': 10}))\n",
    "    'Dependent'\n",
    "    \"\"\"\n",
    "    \n",
    "#// BEGIN_TODO [is_independent] Is distribution independent? (5 points)\n",
    "    assert set(counts.keys()) <= {'__', '_|', '|_', '||'}, \"Wrong keys\"\n",
    "    assert all(counts[key] >= 0 for key in {'__', '_|', '|_', '||'}), \"Provide more values for each key\"\n",
    "    assert sum(counts.values()) > 0, \"There must be values present for each key\"\n",
    "    \n",
    "    if abs((counts['__']*counts['||'])-(counts['_|']*counts['|_']))/sum(counts.values())<2.0:\n",
    "        return 'Independent'\n",
    "    return 'Dependent'\n",
    "\n",
    "#// END_TODO [is_independent]"
   ]
  },
  {
   "cell_type": "code",
   "execution_count": 69,
   "metadata": {
    "ExecuteTime": {
     "end_time": "2023-06-18T09:48:19.160028700Z",
     "start_time": "2023-06-18T09:48:19.141130400Z"
    }
   },
   "outputs": [
    {
     "name": "stdout",
     "output_type": "stream",
     "text": [
      "Finding tests in is_independent\n",
      "Trying:\n",
      "    is_independent(Counter({'__': 1, '_|': 5, '|_': 5, '||': 25}))\n",
      "Expecting:\n",
      "    'Independent'\n",
      "ok\n",
      "Trying:\n",
      "    is_independent(Counter({'__': 10, '_|': 1, '||': 10}))\n",
      "Expecting:\n",
      "    'Dependent'\n",
      "ok\n"
     ]
    }
   ],
   "source": [
    "doctest.run_docstring_examples(is_independent, globals(), verbose=True, name='is_independent')"
   ]
  },
  {
   "cell_type": "markdown",
   "metadata": {},
   "source": [
    "### 2.d. Classify a file\n",
    "\n",
    "**Notes**:\n",
    "* Define function `classify_file` in terms of\n",
    "  * `count_pairs`\n",
    "  * `is_uniform`\n",
    "  * `is_independent`"
   ]
  },
  {
   "cell_type": "code",
   "execution_count": 103,
   "metadata": {
    "ExecuteTime": {
     "end_time": "2023-06-18T09:59:19.891564400Z",
     "start_time": "2023-06-18T09:59:19.873193800Z"
    }
   },
   "outputs": [],
   "source": [
    "def classify_file(file_name: str) -> None:\n",
    "    \"\"\"Classify all lines of given file.\n",
    "    <Details suppressed.  See monolithic code.>\n",
    "    \n",
    "    Assumptions:\n",
    "    \n",
    "    * named file exists as readable text file\n",
    "    * each line in file consists of characters '_' and '|' only (and a newline)\n",
    "    * each line in file has length at least two\n",
    "    \"\"\"\n",
    "\n",
    "#// BEGIN_TODO [classify_file] Classify all lines in a file (5 points)\n",
    "\n",
    "    assert open(file_name, 'r'), \"File name is not readable or does not exist\"\n",
    "\n",
    "    with open(file_name, 'r') as file:\n",
    "        for line in file:\n",
    "            assert len(line) >= 2, \"Length must be at least two\"\n",
    "            assert set(line) == {'_', '|', '\\n'}, \"Line must only contain '_', '|', '\\n'\"\n",
    "            counts = count_pairs(line=line)\n",
    "            uniformity = is_uniform(counts=counts)\n",
    "            dependency = is_independent(counts=counts)\n",
    "            print(line, end='')\n",
    "            print(f\"{uniformity} and {dependency}\", end='\\n \\n')\n",
    "\n",
    "#// END_TODO [classify_file]"
   ]
  },
  {
   "cell_type": "code",
   "execution_count": 104,
   "metadata": {
    "ExecuteTime": {
     "end_time": "2023-06-18T09:59:20.894972500Z",
     "start_time": "2023-06-18T09:59:20.844983Z"
    }
   },
   "outputs": [
    {
     "name": "stdout",
     "output_type": "stream",
     "text": [
      "|||_|_____||_||_|||_|___|__|___||___|||__|____|___|||||____|__|_|_|_|_|||_|___|_\n",
      "Uniform and Independent\n",
      " \n",
      "__|__|__|_____|_||_|_|__|||_______|______________________|___|________|__||_|||_\n",
      "Biased and Independent\n",
      " \n",
      "_________|||_______||||||__________|||||__|||||||||____|||||||||||||||||____||__\n",
      "Uniform and Dependent\n",
      " \n",
      "_|_|_|__|_||_|||_|_|_|_||_|__|_|_|_|_|_|_|_|_|_|_|||_|_|_||_|_||||_||_||_|_|_|_|\n",
      "Uniform and Dependent\n",
      " \n",
      "|_|||_|____|_||___||_||||_|__||___||____||_|___|||||_|_||__|_|_||_||_______||___\n",
      "Uniform and Independent\n",
      " \n",
      "|____|_______|||_|__|____|__|_||_____|___|__|__|_||____||_||_|_____|||____|___|_\n",
      "Biased and Independent\n",
      " \n",
      "__|||||__||||||||||||___|||_____||||||||||___||_|___________||||||__|||||_______\n",
      "Uniform and Dependent\n",
      " \n",
      "_|_|_|_|_||_|_|_|_|_|_|__|__|_|_|_|||_|____|_||_|__|__|__|___|__||_|_|_|_|__|_|_\n",
      "Uniform and Dependent\n",
      " \n"
     ]
    }
   ],
   "source": [
    "classify_file('data.txt')"
   ]
  },
  {
   "cell_type": "markdown",
   "metadata": {},
   "source": [
    "---"
   ]
  },
  {
   "cell_type": "markdown",
   "metadata": {},
   "source": [
    "## 3. Light Bulbs in a Circle\n",
    "\n",
    "Consider the following puzzle:\n",
    "\n",
    "> In a circle are 100 light bulbs numbered clockwise $0$ through $99$, all initially _on_.\n",
    "> At time $t$ (starting at $t=0$), you examine bulb number $t$\n",
    "> (if $t > 99$, it's the light bulb whose number is the last two digits of $t$).\n",
    "> If that light bulb is *on*, you change the state of the clockwise-next bulb number $t + 1$\n",
    "> (on the clock, modulo 100);\n",
    "> i.e., you turn _off_ the clockwise-next bulb if it's *on*, and _on_ if it's _off_.\n",
    "> If bulb number $t$ is *off*, you do nothing.\n",
    ">\n",
    "> If you continue around and around the circle in this manner,\n",
    "> will it ever happen that all $100$ bulbs will again be *on*?"
   ]
  },
  {
   "attachments": {
    "2is50-exam-diagrams.png": {
     "image/png": "[encoded data removed]"
    }
   },
   "cell_type": "markdown",
   "metadata": {},
   "source": [
    "The figure below illustrates a circle with 4 light bulbs.\n",
    "The arrow points at the current bulb.\n",
    "Underneath each circle is the string representation, _starting at the current bulb_.\n",
    "\n",
    "![2is50-exam-diagrams.png](attachment:2is50-exam-diagrams.png)"
   ]
  },
  {
   "cell_type": "markdown",
   "metadata": {},
   "source": [
    "### 3.a. The class `BulbCircle`\n",
    "\n",
    "To investigate this puzzle for smaller numbers of bulbs,\n",
    "we introduce the (mutable) class `BulbCircle`,\n",
    "which represents a circle of `self.n` light bulbs, each in an on or off state,\n",
    "represented by a list `self.bulbs` of boolean values.\n",
    "One of the bulbs (number `self.t`, starting at `0`) in the circle is the currently examined bulb,\n",
    "or _current bulb_ for short.\n",
    "\n",
    "When printing the circle of bulbs, we start with the current bulb\n",
    "and print all bulbs in clockwise order.\n",
    "An on bulb is printed as `'O'`, and an off bulb as `'.'`.\n",
    "This is implemented in the given special method `__str__()`."
   ]
  },
  {
   "cell_type": "markdown",
   "metadata": {},
   "source": [
    "Complete the definition of class `BulbCircle`,\n",
    "by implementing:\n",
    "* method `step(self) -> None` that does one step:\n",
    "  - based on the current bulb's state,\n",
    "  - update the state of the clockwise-next bulb, and\n",
    "  - make that bulb the current bulb by incrementing `self.t` cyclicly ('on the clock').\n",
    "  \n",
    "\n",
    "* method `step_until_all_on(self, verbose: bool = False) -> int`\n",
    "  that steps until all bulbs are on again,\n",
    "  and returns the number of steps taken.\n",
    "  It does at least one step.\n",
    "  So, if all bulbs are on at the start, then it will still start by doing a step.\n",
    "  If `verbose` is `True`, then the circle is printed before/after each step.\n",
    "  \n",
    "  Just assume that eventually the all-on state will be reached again."
   ]
  },
  {
   "cell_type": "markdown",
   "metadata": {},
   "source": [
    "**Notes**:\n",
    "* See the given doctest examples for further details.\n",
    "* You don't need to implement the special method `__repr__` in this exam.\n",
    "* The definitions of special methods `__iter__` and `__str__` are given.\n",
    "  - `__iter__` returns an iterator over all bulbs, starting at the current bulb.\n",
    "* You don't need to provide doctest examples for the methods.\n",
    "* You do need to provide type hints (given) and an appropriate docstring.\n",
    "\n",
    "**Hints**:\n",
    "* You can use the remainder operator (`%`) to cyclically increment a value.\n",
    "  - For example, on a 60-minute clock, the next minute after `m` is `(m + 1) % 60`.\n",
    "* You can use the built-in function `all(iterable)`\n",
    "  to check that all values in an interable are `True`."
   ]
  },
  {
   "cell_type": "code",
   "execution_count": 147,
   "metadata": {
    "ExecuteTime": {
     "end_time": "2023-06-18T10:43:06.188935800Z",
     "start_time": "2023-06-18T10:43:06.171611700Z"
    }
   },
   "outputs": [],
   "source": [
    "class BulbCircle:\n",
    "    \"\"\"A BulbCircle object represents a circle of light bulbs,\n",
    "    where one bulb is the currently examined bulb.\n",
    "    \n",
    "    >>> bc = BulbCircle(4)\n",
    "    >>> for _ in range(6):\n",
    "    ...     print(bc)\n",
    "    ...     bc.step()\n",
    "    OOOO\n",
    "    .OOO\n",
    "    OOO.\n",
    "    .O.O\n",
    "    O.O.\n",
    "    OO.O\n",
    "    >>> bc = BulbCircle(2)\n",
    "    >>> bc.step_until_all_on(verbose=True)\n",
    "    OO\n",
    "    .O\n",
    "    O.\n",
    "    OO\n",
    "    3\n",
    "    >>> bc.step()\n",
    "    >>> bc.step_until_all_on()\n",
    "    2\n",
    "    \"\"\"\n",
    "    def __iter__(self) -> Iterator[bool]:\n",
    "        \"\"\"Implement iter(self).\"\"\"\n",
    "        for i in range(self.n):\n",
    "            yield self.bulbs[(self.t + i) % self.n]\n",
    "    \n",
    "    def __str__(self) -> str:\n",
    "        # relies on __iter__\n",
    "        return ''.join('O' if b else '.' for b in self)\n",
    "    \n",
    "    def __init__(self, n: int) -> None:\n",
    "        \"\"\"Initialize circle with n bulbs, all on.\n",
    "        \n",
    "        Assumption: n >= 2\n",
    "        \"\"\"\n",
    "        assert n >= 2, \"n must be at least 2\"\n",
    "        self.n: int = n\n",
    "        self.bulbs: List[bool] = n * [True]\n",
    "        self.t: int = 0  # index of current bulb\n",
    "        \n",
    "#// BEGIN_TODO [BulbCircle] Complete definition of class BulbCircle (15 points)\n",
    "\n",
    "    def step(self) -> None:\n",
    "        \"\"\" Update the state of the next bulb based on current bulb\n",
    "        \"\"\"\n",
    "        if self.bulbs[self.t]:\n",
    "            self.bulbs[(self.t + 1) % self.n] = not self.bulbs[(self.t + 1) % self.n]\n",
    "        self.t = (self.t + 1) % self.n\n",
    "\n",
    "    def step_until_all_on(self, verbose: bool = False) -> int:\n",
    "        \"\"\" Step until all bulbs are on again\n",
    "        \"\"\"\n",
    "        if verbose:\n",
    "            print(self)\n",
    "        steps = 0\n",
    "        if all(self.bulbs):\n",
    "            self.step()\n",
    "            steps += 1\n",
    "        while not all(self.bulbs):\n",
    "            if verbose:\n",
    "                print(self)\n",
    "            self.step()\n",
    "            steps += 1\n",
    "        if verbose:\n",
    "            print(self)\n",
    "        return steps\n",
    "\n",
    "#// END_TODO [BulbCircle]"
   ]
  },
  {
   "cell_type": "code",
   "execution_count": 148,
   "metadata": {
    "ExecuteTime": {
     "end_time": "2023-06-18T10:43:07.485762200Z",
     "start_time": "2023-06-18T10:43:07.466523300Z"
    }
   },
   "outputs": [
    {
     "name": "stdout",
     "output_type": "stream",
     "text": [
      "Finding tests in BulbCircle\n",
      "Trying:\n",
      "    bc = BulbCircle(4)\n",
      "Expecting nothing\n",
      "ok\n",
      "Trying:\n",
      "    for _ in range(6):\n",
      "        print(bc)\n",
      "        bc.step()\n",
      "Expecting:\n",
      "    OOOO\n",
      "    .OOO\n",
      "    OOO.\n",
      "    .O.O\n",
      "    O.O.\n",
      "    OO.O\n",
      "ok\n",
      "Trying:\n",
      "    bc = BulbCircle(2)\n",
      "Expecting nothing\n",
      "ok\n",
      "Trying:\n",
      "    bc.step_until_all_on(verbose=True)\n",
      "Expecting:\n",
      "    OO\n",
      "    .O\n",
      "    O.\n",
      "    OO\n",
      "    3\n",
      "ok\n",
      "Trying:\n",
      "    bc.step()\n",
      "Expecting nothing\n",
      "ok\n",
      "Trying:\n",
      "    bc.step_until_all_on()\n",
      "Expecting:\n",
      "    2\n",
      "ok\n"
     ]
    }
   ],
   "source": [
    "doctest.run_docstring_examples(BulbCircle, globals(), verbose=True, name='BulbCircle')"
   ]
  },
  {
   "cell_type": "markdown",
   "metadata": {},
   "source": [
    "Observe that the all-off state is stable (all bulbs remain off after each step).\n",
    "\n",
    "Let's explore the circle with 4 light bulbs, which together can be in $2^4 = 16$ states:"
   ]
  },
  {
   "cell_type": "code",
   "execution_count": 149,
   "metadata": {
    "ExecuteTime": {
     "end_time": "2023-06-18T10:43:46.447386400Z",
     "start_time": "2023-06-18T10:43:46.404015700Z"
    }
   },
   "outputs": [
    {
     "name": "stdout",
     "output_type": "stream",
     "text": [
      "OOOO\n",
      ".OOO\n",
      "OOO.\n",
      ".O.O\n",
      "O.O.\n",
      "OO.O\n",
      "..OO\n",
      ".OO.\n",
      "OO..\n",
      "...O\n",
      "..O.\n",
      ".O..\n",
      "O...\n",
      "O..O\n",
      "O.OO\n",
      "OOOO\n"
     ]
    },
    {
     "data": {
      "text/plain": "15"
     },
     "execution_count": 149,
     "metadata": {},
     "output_type": "execute_result"
    }
   ],
   "source": [
    "bc = BulbCircle(4)\n",
    "bc.step_until_all_on(verbose=True)"
   ]
  },
  {
   "cell_type": "markdown",
   "metadata": {},
   "source": [
    "### 3.b. Tabulate cycle lengths\n",
    "\n",
    "Define function `tabulate_cycles` to print a table with\n",
    "* the number of bulbs in the circle,\n",
    "* the _cycle length_ for this circle,\n",
    "  that is, the (positive) number of steps it takes to go from all-on to all-on again, and\n",
    "* the maximum possible cycle length computed as $2^n - 1$.\n",
    "\n",
    "**Notes**:\n",
    "* Assume that the all-on state cycles back onto itself.\n",
    "* All columns are neatly aligned.\n",
    "* See the given `doctest` examples for details.\n",
    "\n",
    "**Hints**:\n",
    "* You can use string formatting (`f`-string or `str.format()`)\n",
    "  with the following widths for printing numbers in each column.\n",
    "  - `n`: 3 wide\n",
    "  - `cycle length`: 12 wide\n",
    "  - `max`: 10 wide\n",
    "  \n",
    "  and separate columns by `' | '`."
   ]
  },
  {
   "cell_type": "code",
   "execution_count": 190,
   "metadata": {
    "ExecuteTime": {
     "end_time": "2023-06-18T10:56:27.876220200Z",
     "start_time": "2023-06-18T10:56:27.861705500Z"
    }
   },
   "outputs": [],
   "source": [
    "def tabulate_cycles(sizes: Iterable[int]) -> None:\n",
    "    \"\"\"Print table with cycle lengths for bulb circles of each given size.\n",
    "    \n",
    "    >>> tabulate_cycles(range(2, 4+1))\n",
    "      n | cycle length |        max\n",
    "      2 |            3 |          3\n",
    "      3 |            7 |          7\n",
    "      4 |           15 |         15\n",
    "    >>> tabulate_cycles([9, 10])\n",
    "      n | cycle length |        max\n",
    "      9 |           73 |        511\n",
    "     10 |          889 |       1023\n",
    "    \"\"\"\n",
    "\n",
    "#// BEGIN_TODO [tabulate_cycles] Tabulate cycle lengths (5 points)\n",
    "\n",
    "    print(f\"{'n': >3} | cycle length |\" + '{0: >10}'.format('max'))\n",
    "    for n in sizes:\n",
    "        bc = BulbCircle(n)\n",
    "        cycle_length = bc.step_until_all_on()\n",
    "        print(f\"{n: >3} | {cycle_length: >12} | {2**n - 1: >10}\")\n",
    "\n",
    "#// END_TODO [tabulate_cycles]"
   ]
  },
  {
   "cell_type": "code",
   "execution_count": 191,
   "metadata": {
    "ExecuteTime": {
     "end_time": "2023-06-18T10:56:28.707340300Z",
     "start_time": "2023-06-18T10:56:28.669524200Z"
    }
   },
   "outputs": [
    {
     "name": "stdout",
     "output_type": "stream",
     "text": [
      "Finding tests in tabulate_cycles\n",
      "Trying:\n",
      "    tabulate_cycles(range(2, 4+1))\n",
      "Expecting:\n",
      "      n | cycle length |        max\n",
      "      2 |            3 |          3\n",
      "      3 |            7 |          7\n",
      "      4 |           15 |         15\n",
      "**********************************************************************\n",
      "File \"__main__\", line 4, in tabulate_cycles\n",
      "Failed example:\n",
      "    tabulate_cycles(range(2, 4+1))\n",
      "Expected:\n",
      "      n | cycle length |        max\n",
      "      2 |            3 |          3\n",
      "      3 |            7 |          7\n",
      "      4 |           15 |         15\n",
      "Got:\n",
      "      n | cycle length |       max\n",
      "      2 |            3 |          3\n",
      "      3 |            7 |          7\n",
      "      4 |           15 |         15\n",
      "Trying:\n",
      "    tabulate_cycles([9, 10])\n",
      "Expecting:\n",
      "      n | cycle length |        max\n",
      "      9 |           73 |        511\n",
      "     10 |          889 |       1023\n",
      "**********************************************************************\n",
      "File \"__main__\", line 9, in tabulate_cycles\n",
      "Failed example:\n",
      "    tabulate_cycles([9, 10])\n",
      "Expected:\n",
      "      n | cycle length |        max\n",
      "      9 |           73 |        511\n",
      "     10 |          889 |       1023\n",
      "Got:\n",
      "      n | cycle length |       max\n",
      "      9 |           73 |        511\n",
      "     10 |          889 |       1023\n"
     ]
    }
   ],
   "source": [
    "doctest.run_docstring_examples(tabulate_cycles, globals(), verbose=True, name='tabulate_cycles')"
   ]
  },
  {
   "cell_type": "markdown",
   "metadata": {},
   "source": [
    "Here are the cycle lengths for bulb circles up to size 20.\n",
    "This explains why you may not want to run the program for $n=100$."
   ]
  },
  {
   "cell_type": "code",
   "execution_count": 192,
   "metadata": {
    "ExecuteTime": {
     "end_time": "2023-06-18T10:56:54.731816900Z",
     "start_time": "2023-06-18T10:56:53.767548400Z"
    }
   },
   "outputs": [
    {
     "name": "stdout",
     "output_type": "stream",
     "text": [
      "  n | cycle length |       max\n",
      "  2 |            3 |          3\n",
      "  3 |            7 |          7\n",
      "  4 |           15 |         15\n",
      "  5 |           21 |         31\n",
      "  6 |           63 |         63\n",
      "  7 |          127 |        127\n",
      "  8 |           63 |        255\n",
      "  9 |           73 |        511\n",
      " 10 |          889 |       1023\n",
      " 11 |         1533 |       2047\n",
      " 12 |         3255 |       4095\n",
      " 13 |         7905 |       8191\n",
      " 14 |        11811 |      16383\n",
      " 15 |        32767 |      32767\n",
      " 16 |          255 |      65535\n",
      " 17 |          273 |     131071\n",
      " 18 |       253921 |     262143\n",
      " 19 |       413385 |     524287\n",
      " 20 |       761763 |    1048575\n"
     ]
    }
   ],
   "source": [
    "tabulate_cycles(range(2, 20+1))"
   ]
  },
  {
   "cell_type": "markdown",
   "metadata": {},
   "source": [
    "---"
   ]
  },
  {
   "cell_type": "markdown",
   "metadata": {},
   "source": [
    "## 4. Software Engineering"
   ]
  },
  {
   "cell_type": "markdown",
   "metadata": {},
   "source": [
    "### 4.a. Two most important lessons\n",
    "\n",
    "Explain in your own words _what_ you consider the _two_ most important programming-related 'lessons'\n",
    "(techniques, principles, advices, ...) taught in this course,\n",
    "and explain _why_ you think so.\n",
    "\n",
    "**Notes**:\n",
    "* This question is _not_ about specific features of the Python programming language.\n",
    "* Write complete sentences (not just some phrases and catchwords).\n",
    "* There is no Momotor feedback for this question."
   ]
  },
  {
   "cell_type": "markdown",
   "metadata": {},
   "source": [
    "`#// BEGIN_TODO [Two_Lessons] Two most important lessons (10 points)`\n",
    "\n",
    "<div class='alert alert-warning' role='alert'>Replace this line by your text.</div>\n",
    "\n",
    "`#// END_TODO [Two_Lessons]`"
   ]
  },
  {
   "cell_type": "markdown",
   "metadata": {},
   "source": [
    "---"
   ]
  },
  {
   "cell_type": "markdown",
   "metadata": {},
   "source": [
    "## Final business"
   ]
  },
  {
   "cell_type": "code",
   "execution_count": null,
   "metadata": {
    "ExecuteTime": {
     "start_time": "2023-06-18T09:40:55.388613500Z"
    }
   },
   "outputs": [],
   "source": [
    "doctest.testmod(verbose=False)  # with details"
   ]
  },
  {
   "cell_type": "code",
   "execution_count": null,
   "metadata": {
    "ExecuteTime": {
     "start_time": "2023-06-18T09:40:55.392679700Z"
    }
   },
   "outputs": [],
   "source": [
    "%whos"
   ]
  },
  {
   "cell_type": "markdown",
   "metadata": {},
   "source": [
    "---\n",
    "\n",
    "## (End of Notebook)\n",
    "\n",
    "&copy; 2020 - **TU/e** - Eindhoven University of Technology"
   ]
  }
 ],
 "metadata": {
  "kernelspec": {
   "display_name": "Python 3",
   "language": "python",
   "name": "python3"
  },
  "language_info": {
   "codemirror_mode": {
    "name": "ipython",
    "version": 3
   },
   "file_extension": ".py",
   "mimetype": "text/x-python",
   "name": "python",
   "nbconvert_exporter": "python",
   "pygments_lexer": "ipython3",
   "version": "3.7.2"
  }
 },
 "nbformat": 4,
 "nbformat_minor": 2
}
