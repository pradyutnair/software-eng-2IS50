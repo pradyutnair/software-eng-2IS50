{
 "cells": [
  {
   "cell_type": "markdown",
   "metadata": {},
   "source": [
    "# 2IS50 - Exercises Week 4 22-23\n",
    "\n",
    "This Jupyter notebook provides exercises for practicing your programming skills.\n",
    "\n",
    "**Notes**:\n",
    "* Submit your _personalized_ notebook to Canvas.\n",
    "* You then get automatic feedback from Momotor.\n",
    "* A score below 80% is treated as a 0.\n",
    "* A score of 80% or more is treated as a 10.\n",
    "* The best five out of six exercise sets count."
   ]
  },
  {
   "cell_type": "markdown",
   "metadata": {},
   "source": [
    "## Table of Contents\n",
    "\n",
    "<div class=\"toc\" style=\"margin-top: 1em;\">\n",
    "    <ul class=\"toc-item\">\n",
    "        <li>\n",
    "            <span><a href=\"#binary-search\" data-toc-modified-id=\"Binary-Search\">1. Binary Search</a></span>\n",
    "        </li>\n",
    "        <li>\n",
    "            <span><a href=\"#insertion-sort\" data-toc-modified-id=\"Insertion-Sort\">2. Insertion Sort</a></span>\n",
    "        </li>\n",
    "        <li>\n",
    "            <span><a href=\"#best-student\" data-toc-modified-id=\"Best-Student\">3. Best Student</a></span>\n",
    "        </li>\n",
    "        <li>\n",
    "            <span><a href=\"#sort-a-list-of-dictionaries\" data-toc-modified-id=\"Sort-a-List-of-Dictionaries\">4. Sort a List of Dictionaries</a></span>\n",
    "        </li>\n",
    "        <li>\n",
    "            <span><a href=\"#object-oriented-card\" data-toc-modified-id=\"Object-Oriented-Card\">5. Object</a></span>\n",
    "        </li>\n",
    "        </ul>\n",
    "</div>"
   ]
  },
  {
   "cell_type": "markdown",
   "metadata": {},
   "source": [
    "\n",
    "# Introduction to This Template Notebook\n",
    "\n",
    "<div class=\"alert alert-danger\" role=\"danger\">\n",
    "<h3>Integrity</h3>\n",
    "<ul>\n",
    "    <li>In this course, you must act according to the rules of the TU/e code of scientific conduct.</li>\n",
    "    <li>All the exercises and the graded assignments are to be done within your programming homework group.</li>\n",
    "    <li>You must not copy from the Internet, your friends, books... If you represent other people's work as your own, then that constitutes fraud and will be reported to the Examination Committee.</li>\n",
    "    <li>Making your work available to others (complicity) also constitutes fraud.</li>\n",
    "</ul>\n",
    "</div>\n",
    "\n",
    "You are expected to work with Python 3 code in this notebook.\n",
    "\n",
    "The locations where you should write your solutions can be recognized by\n",
    "**marker lines**,\n",
    "which look like this:\n",
    "\n",
    ">`#//`\n",
    ">    `BEGIN_TODO [Label]` `Description` `(n points)`\n",
    ">\n",
    ">`#//`\n",
    ">    `END_TODO [Label]`\n",
    "\n",
    "<div class=\"alert alert-warning\" role=\"alert\">\n",
    "    <h3>Markers</h3>\n",
    "    Do NOT modify or delete these marker lines.  Keep them as they are.<br/>\n",
    "    NEVER write code that is needed for grading <i>outside</i> the marked blocks. It is invisible there.\n",
    "</div>\n",
    "\n",
    "Proceed in this notebook as follows:\n",
    "* **Personalize** the notebook (see below)\n",
    "* **Read** the text.\n",
    "* **Fill in** your solutions between `BEGIN_TODO` and `END_TODO` marker lines.\n",
    "* **Run** _all_ code cells (also the ones _without_ your code),\n",
    "    _in linear order_ from the first code cell.\n",
    "\n",
    "**Personalize your notebook**:\n",
    "1. Fill in your _full name_, _identification number_, and the current _date_ as strings between quotes.\n",
    "1. Run the code cell by putting the cursor there and typing **Control-Enter**.\n"
   ]
  },
  {
   "cell_type": "code",
   "execution_count": null,
   "metadata": {},
   "outputs": [],
   "source": [
    "#// BEGIN_TODO [Author] Name, Id.nr., Date, as strings (1 point)\n",
    "\n",
    "AUTHOR_NAME = 'Your Full Name'\n",
    "AUTHOR_ID_NR = '1234567'\n",
    "AUTHOR_DATE = '2023-03-06'  # when first modified, e.g. '2023-03-06'\n",
    "\n",
    "#// END_TODO [Author]\n",
    "\n",
    "AUTHOR_NAME, AUTHOR_ID_NR, AUTHOR_DATE"
   ]
  },
  {
   "cell_type": "markdown",
   "metadata": {},
   "source": [
    "\n",
    "## How to Submit Your Work\n",
    "\n",
    "1. **Rename the notebook**, replacing `...-template.ipynb` with `...-yourIDnr.ipynb`, where `yourIDnr` is your TU/e identification number.\n",
    "\n",
    "1. **Before submitting**, you must run your notebook by doing **Kernel > Restart & Run All**. Make sure that your notebook runs without errors **in linear order**.\n",
    "\n",
    "1. Submit the executed notebook with your work for the appropriate assignment in **Canvas**.\n",
    "\n",
    "1. In the **Momotor** tab in Canvas, you can select that assignment again to find some feedback on your submitted work.\n",
    "  \n",
    "1. If there are any problems reported by _Momotor_, then you need to fix those issues and **resubmit the fixed notebook**.\n"
   ]
  },
  {
   "cell_type": "markdown",
   "metadata": {},
   "source": [
    "## Preliminaries\n",
    "\n",
    "Run the cell below. This cell will import additional modules providing additional Python functionality."
   ]
  },
  {
   "cell_type": "code",
   "execution_count": null,
   "metadata": {},
   "outputs": [],
   "source": [
    "# Imports\n",
    "import doctest\n",
    "from typing import Any, Dict, Iterable, List, Sequence, Union"
   ]
  },
  {
   "cell_type": "markdown",
   "metadata": {},
   "source": [
    "\n",
    "## Important Reminder\n",
    "\n",
    "Follow all coding conventions defined in the Python Coding Standard document. Remember that you are not just programming for a **machine**, you are mainly programming for other **humans**! In particular:  \n",
    "- all function definitions must have **type hints** and a **docstring**, and;\n",
    "- a *valid docstring* starts with a **capital letter** and ends with a **dot**. \n"
   ]
  },
  {
   "cell_type": "markdown",
   "metadata": {},
   "source": [
    "# Binary Search"
   ]
  },
  {
   "cell_type": "markdown",
   "metadata": {},
   "source": [
    "Define the function `binary_search` that,\n",
    "given a sorted sequence of values and a value,\n",
    "returns an index where that value can be inserted into the sequence\n",
    "to preserve the sorted order.\n",
    "That is, if `i` is returned, then the value can be inserted between index `i - 1` and `i`.\n",
    "Thus, the item would occur at index `i` after it has been inserted.\n",
    "Also see `list.insert()`.\n",
    "\n",
    "**Notes**:\n",
    "* We use type `Any` for the items in the sequence and the separate item.\n",
    "  However, these should be of the _same_ type, and that type should support _comparison_ by `<`.\n",
    "* The list can be empty.  \n",
    "* Ensure that only one `while` loop and one `if` statement, and uses `//` operator is used. Avoid using the `/` operator.\n",
    "\n",
    "**Example:**  \n",
    "*Input:*  \n",
    "```python\n",
    "binary_search('ac', 'b')\n",
    "```\n",
    "\n",
    "*Output:*  \n",
    "```Python\n",
    "1\n",
    "```"
   ]
  },
  {
   "cell_type": "code",
   "execution_count": null,
   "metadata": {},
   "outputs": [],
   "source": [
    "def binary_search(s: Sequence[Any], x: Any) -> int:\n",
    "    \"\"\"Find index i such that s[i - 1] <= x < s[i].\n",
    "    \n",
    "    Pretend s[-1] == - math.inf and s[len(s)] == math.inf\n",
    "    :param s: The sequence to insert in\n",
    "    :type s: Sequence[Any]\n",
    "    :param x: The item to be inserted into the sequence\n",
    "    :type x: Any\n",
    "    :return: The index of the inserted item into the sequence with the preserved order\n",
    "    :rtype: int\n",
    "    \n",
    "    >>> binary_search(list(\"bdfhjln\"), \"i\")\n",
    "    4\n",
    "    >>> binary_search(list(\"bdfhjln\"), \"h\")\n",
    "    4\n",
    "    >>> binary_search(list(\"bdfhjln\"), \"a\")\n",
    "    0\n",
    "    >>> binary_search(list(\"bdfhjln\"), \"o\")\n",
    "    7\n",
    "    \"\"\"\n",
    "    \n",
    "#// BEGIN_TODO [binary_search] Binary Search\n",
    "\n",
    "# ===== =====> Replace this line by your code. <===== ===== #\n",
    "\n",
    "#// END_TODO [binary_search]"
   ]
  },
  {
   "cell_type": "markdown",
   "metadata": {},
   "source": [
    "# Insertion Sort"
   ]
  },
  {
   "cell_type": "markdown",
   "metadata": {},
   "source": [
    "Define the function `insertion_sort` that returns a sorted list of a given iterable,\n",
    "using the _Insertion Sort_ algorithm.\n",
    "**Insertion Sort**:\n",
    "* Start with an empty result: `result: List[Any] = []` (the type is needed for type checking),\n",
    "* take each item from the iterable, and\n",
    "* insert it _in sorted order_ into `result`,\n",
    "* until all items have been processed.\n",
    "\n",
    "Use `result.insert()` to insert an item in the list (consult the documentation for details) and also `binary_search` to find the index to insert the item.\n",
    "\n",
    "**Notes**:\n",
    "* Ensure only one `for` loop is used and also avoid using `if` statement.\n",
    "\n",
    "**Example:**  \n",
    "*Input:*  \n",
    "```python\n",
    "insertion_sort(\"program\")\n",
    "insertion_sort(i ** 2 % 10 for i in range(10))\n",
    "```\n",
    "\n",
    "*Output:*  \n",
    "```Python\n",
    "['a', 'g', 'm', 'o', 'p', 'r', 'r']\n",
    "[0, 1, 1, 4, 4, 5, 6, 6, 9, 9](last digits of squares)\n",
    "```"
   ]
  },
  {
   "cell_type": "code",
   "execution_count": null,
   "metadata": {},
   "outputs": [],
   "source": [
    "def insertion_sort(iterable: Iterable[Any]) -> List[Any]:\n",
    "    \"\"\"Return sorted list for given iterable.\n",
    "    \n",
    "    :param iterable: An iterable object\n",
    "    :type iterable: Iterable[Any]\n",
    "    :return: A list with elements in the given iterable in the sorted form\n",
    "    :rtype: List[Any]\n",
    "\n",
    "    >>> insertion_sort(\"program\")\n",
    "    ['a', 'g', 'm', 'o', 'p', 'r', 'r']\n",
    "    >>> insertion_sort([])\n",
    "    []\n",
    "    >>> insertion_sort(\"agmoprr\")\n",
    "    ['a', 'g', 'm', 'o', 'p', 'r', 'r']\n",
    "    >>> insertion_sort(\"rrpomga\")\n",
    "    ['a', 'g', 'm', 'o', 'p', 'r', 'r']\n",
    "    >>> insertion_sort(i ** 2 % 10 for i in range(10))\n",
    "    [0, 1, 1, 4, 4, 5, 6, 6, 9, 9]\n",
    "    \"\"\"\n",
    "    \n",
    "#// BEGIN_TODO [insertion_sort] Insertion Sort\n",
    "\n",
    "# ===== =====> Replace this line by your code. <===== ===== #\n",
    "\n",
    "#// END_TODO [insertion_sort]"
   ]
  },
  {
   "cell_type": "code",
   "execution_count": null,
   "metadata": {},
   "outputs": [],
   "source": [
    "doctest.run_docstring_examples(insertion_sort, globs=globals(), verbose=True, name='insertion_sort')"
   ]
  },
  {
   "cell_type": "markdown",
   "metadata": {},
   "source": [
    "# Best Student"
   ]
  },
  {
   "cell_type": "markdown",
   "metadata": {},
   "source": [
    "We are using a dictionary called `students` to store student names and\n",
    "their corresponding list of grades obtained from several assignments.\n",
    "This dictionary has type `Dict[str, List[int]]`.\n",
    "An example of such a dictionary containing the grades of three students is given below:\n",
    "\n",
    "```Python\n",
    "students = {'Max': [9, 9, 8, 10, 8, 7], \n",
    "            'Peter': [10, 10, 8, 9, 9, 10], \n",
    "            'Bert': [5, 6, 7, 8, 9, 10],\n",
    "           }\n",
    "```\n",
    "\n",
    "Define the function `best_student` that accepts the dictionary `students`\n",
    "and returns a string with the name of a student having the best average grade.\n",
    "\n",
    "In the example above, the function will return the string `'Peter'`.\n",
    "Use the built-in function `max` with `default` and `key` parameters and the `key` argument must be a `lambda` expression using a conditional expression (`if-else`), to determine for given key `k` what the average is of `students[k]`(or 0, if that list of grades is empty).\n",
    "\n",
    "**Notes**:\n",
    "* Student names are not empty.\n",
    "* For a student without grades, the average is taken as 0.\n",
    "* If the dictionary is empty, return the empty string.\n",
    "* If there are multiple students with the best average,\n",
    "  return any one of them.\n",
    "* Ensure that no `while` and `for` loop is used as well as `if` statement. The solution needs to contain 1 `labmda` expression and a `max()` call."
   ]
  },
  {
   "cell_type": "code",
   "execution_count": null,
   "metadata": {},
   "outputs": [],
   "source": [
    "#// BEGIN_TODO [best_student] Best Student\n",
    "\n",
    "# ===== =====> Replace this line by your code. <===== ===== #\n",
    "\n",
    "#// END_TODO [best_student]"
   ]
  },
  {
   "cell_type": "code",
   "execution_count": null,
   "metadata": {},
   "outputs": [],
   "source": [
    "doctest.run_docstring_examples(best_student, globs=globals(), verbose=True, name='best_student')"
   ]
  },
  {
   "cell_type": "markdown",
   "metadata": {},
   "source": [
    "# Sort a List of Dictionaries"
   ]
  },
  {
   "cell_type": "markdown",
   "metadata": {},
   "source": [
    "We revisit Exercise 3.\n",
    "\n",
    "Lists of dictionaries are commonly used to stored structured data.\n",
    "The following cell presents the list `cars`,\n",
    "which contains dictionaries with car information with the keys:\n",
    "`'brand'`, `'model'`, `'manufacture year'`, and `'price'`.\n",
    "\n",
    "Define the variables `cars_by_price` and `cars_by_year` where\n",
    "* `cars_by_price` is obtained by sorting `cars` on `price`\n",
    "  (cars of the same price stay in the original order)\n",
    "* `cars_by_year` is obtained by sorting `cars` on `manufacture year` from newer to older\n",
    "  (i.e. in reversed order),\n",
    "  where cars manufactured in the same year,\n",
    "  are sorted on price (from lower to higher),\n",
    "  and when also having the same price,\n",
    "  they stay in the original order.\n",
    "\n",
    "Use the built-in function `sorted` with parameter `key`, possibly also using parameter `reverse` (see documentation).\n",
    "\n",
    "**Notes**:\n",
    "* You may assume that year of manufacture and price have numeric values.\n",
    "* The `key` function can return a tuple,\n",
    "  and you can use a minus sign to reverse the order for a component.\n",
    "* Ensure that no `while` and `for` loop is used as well as `if` statement. The solution needs to contain 1 `labmda` expression and a `sorted()` call."
   ]
  },
  {
   "cell_type": "code",
   "execution_count": null,
   "metadata": {},
   "outputs": [],
   "source": [
    "# Do not modify the code in this cell\n",
    "\n",
    "cars: List[Dict[str, Union[str, int]]] = [\n",
    "    {'brand': 'McFarri', 'model': '445', 'manufacture year': 1980, 'price': 18000},\n",
    "    {'brand': 'McFarri', 'model': '455', 'manufacture year': 1985, 'price': 22000},\n",
    "    {'brand': 'McFarri', 'model': '545', 'manufacture year': 1998, 'price': 28000},\n",
    "    {'brand': 'McFarri', 'model': '555', 'manufacture year': 2001, 'price': 30599},\n",
    "    {'brand': 'McFarri', 'model': 's445', 'manufacture year': 2007, 'price': 36000},\n",
    "    {'brand': 'McFarri', 'model': 's455', 'manufacture year': 2008, 'price': 44000},\n",
    "    {'brand': 'McFarri', 'model': 's545', 'manufacture year': 2013, 'price': 56000},\n",
    "    {'brand': 'McFarri', 'model': 's555', 'manufacture year': 2017, 'price': 112599},\n",
    "    {'brand': 'Tipsla', 'model': 'S', 'manufacture year': 2008, 'price': 24000},\n",
    "    {'brand': 'Tipsla', 'model': 'S2', 'manufacture year': 2010, 'price': 32999},\n",
    "    {'brand': 'Tipsla', 'model': 'X', 'manufacture year': 2013, 'price': 28999},\n",
    "    {'brand': 'Tipsla', 'model': 'X2', 'manufacture year': 2015, 'price': 35999},\n",
    "    {'brand': 'Tipsla', 'model': 'XF', 'manufacture year': 2018, 'price': 39999},\n",
    "    {'brand': 'Tipsla', 'model': 'XF2.0', 'manufacture year': 2019, 'price': 49999},\n",
    "    {'brand': 'Nissota', 'model': 'root', 'manufacture year': 1990, 'price': 12500},\n",
    "    {'brand': 'Nissota', 'model': 'stem', 'manufacture year': 1998, 'price': 17500},\n",
    "    {'brand': 'Nissota', 'model': 'branch', 'manufacture year': 2010, 'price': 23999},\n",
    "    {'brand': 'Nissota', 'model': 'leaf', 'manufacture year': 2015, 'price': 31999},\n",
    "]"
   ]
  },
  {
   "cell_type": "code",
   "execution_count": null,
   "metadata": {},
   "outputs": [],
   "source": [
    "#// BEGIN_TODO [cars_sorted_by_price] Cars Sorted by Price\n",
    "\n",
    "# ===== =====> Replace this line by your code. <===== ===== #\n",
    "\n",
    "#// END_TODO [cars_sorted_by_price]\n",
    "\n",
    "cars_by_price"
   ]
  },
  {
   "cell_type": "markdown",
   "metadata": {},
   "source": [
    "**Note**:\n",
    "- In the following code, ignore the `nb-mypy` error `Unsupported operand type for unary -`."
   ]
  },
  {
   "cell_type": "code",
   "execution_count": null,
   "metadata": {},
   "outputs": [],
   "source": [
    "#// BEGIN_TODO [cars_sorted_by_year] Cars Reverse Sorted by Year, then by Price\n",
    "\n",
    "# ===== =====> Replace this line by your code. <===== ===== #\n",
    "\n",
    "#// END_TODO [cars_sorted_by_year]\n",
    "\n",
    "cars_by_year"
   ]
  },
  {
   "cell_type": "markdown",
   "metadata": {},
   "source": [
    "# Object-Oriented Card"
   ]
  },
  {
   "cell_type": "markdown",
   "metadata": {},
   "source": [
    "Consider class `Card` introduced before (see below).\n",
    "\n",
    "Add a method `glue` that takes another card as parameter,\n",
    "and modifies `self` such that it keeps its own down side,\n",
    "but copies the up side of the other card (as if the other card was glued on top).\n",
    "Make sure to add `doctest` examples to method `glue`.\n",
    "\n",
    "**Notes**:\n",
    "* Don't forget the implicit parameter `self`.\n",
    "* Don't forget type hints.\n",
    "  * Parameter `self`, by convention, does not need/get a type hint.\n",
    "  * For the other parameter, the type `Card` must be written as a string: `'Card'`,\n",
    "    because it is not yet defined when it is introduced.\n",
    "* Include at least 3 docstring examples."
   ]
  },
  {
   "cell_type": "code",
   "execution_count": null,
   "metadata": {},
   "outputs": [],
   "source": [
    "class Card:\n",
    "    \"\"\"\n",
    "    A mutable card with an up and down side (non-empty strings).\n",
    "    \n",
    "    >>> Card('', 'O')\n",
    "    Traceback (most recent call last):\n",
    "        ...\n",
    "    AssertionError: up and down must not be empty\n",
    "    >>> card = Card('#', 'O')\n",
    "    >>> card\n",
    "    Card('#', 'O')\n",
    "    >>> card.flip()\n",
    "    >>> print(card)\n",
    "    O (#)\n",
    "    \"\"\"\n",
    "    \n",
    "    def __init__(self, up: str, down: str):\n",
    "        \"\"\"\n",
    "        Create card with given state.\n",
    "        \"\"\"\n",
    "        assert up and down, \"up and down must not be empty\"\n",
    "        self.up = up\n",
    "        self.down = down\n",
    "        \n",
    "    def __repr__(self) -> str:\n",
    "        return f\"Card({self.up!r}, {self.down!r})\"\n",
    "    \n",
    "    def __str__(self) -> str:\n",
    "        return f\"{self.up} ({self.down})\"\n",
    "    \n",
    "    def flip(self) -> None:\n",
    "        \"\"\"\n",
    "        Flip over this card.\n",
    "        \n",
    "        Modifies: self\n",
    "        \"\"\"\n",
    "        self.up, self.down = self.down, self.up\n",
    "\n",
    "#// BEGIN_TODO [object-oriented_card] Object-Oriented Card\n",
    "\n",
    "# ===== =====> Replace this line by your code. <===== ===== #\n",
    "\n",
    "#// END_TODO [object-oriented_card]"
   ]
  },
  {
   "cell_type": "markdown",
   "metadata": {},
   "source": [
    "See what help for this class looks like:"
   ]
  },
  {
   "cell_type": "code",
   "execution_count": null,
   "metadata": {},
   "outputs": [],
   "source": [
    "help(Card)"
   ]
  },
  {
   "cell_type": "markdown",
   "metadata": {},
   "source": [
    "Run the `doctest` examples for the given code (i.e., without method `glue`):"
   ]
  },
  {
   "cell_type": "code",
   "execution_count": null,
   "metadata": {},
   "outputs": [],
   "source": [
    "doctest.run_docstring_examples(Card, globals(), verbose=False, name='Card')"
   ]
  },
  {
   "cell_type": "code",
   "execution_count": null,
   "metadata": {},
   "outputs": [],
   "source": [
    "doctest.run_docstring_examples(Card.glue, globals(), verbose=True, name='Card.glue')"
   ]
  },
  {
   "cell_type": "markdown",
   "metadata": {},
   "source": [
    "\n",
    "---"
   ]
  },
  {
   "cell_type": "code",
   "execution_count": null,
   "metadata": {},
   "outputs": [],
   "source": [
    "# List of all defined names\n",
    "%whos"
   ]
  },
  {
   "cell_type": "markdown",
   "metadata": {},
   "source": [
    "---\n",
    "\n",
    "# (End of Notebook)\n",
    "\n",
    "&copy; 2017-2023 - **TU/e** - Eindhoven University of Technology\n"
   ]
  }
 ],
 "metadata": {
  "anaconda-cloud": {},
  "kernelspec": {
   "display_name": "Python 3 (ipykernel)",
   "language": "python",
   "name": "python3"
  },
  "language_info": {
   "codemirror_mode": {
    "name": "ipython",
    "version": 3
   },
   "file_extension": ".py",
   "mimetype": "text/x-python",
   "name": "python",
   "nbconvert_exporter": "python",
   "pygments_lexer": "ipython3",
   "version": "3.9.7"
  },
  "vscode": {
   "interpreter": {
    "hash": "440ded6bd466dc632760b2783eaa5924fc8bb7d8bd9dda723193caf011fd0fab"
   }
  }
 },
 "nbformat": 4,
 "nbformat_minor": 4
}
