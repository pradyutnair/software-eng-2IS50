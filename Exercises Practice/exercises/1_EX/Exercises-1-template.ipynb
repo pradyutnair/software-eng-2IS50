{
 "cells": [
  {
   "cell_type": "markdown",
   "metadata": {},
   "source": [
    "# 2IS50 - Exercises Week 1 22-23\n",
    "\n",
    "This Jupyter notebook provides exercises for practicing your programming skills.\n",
    "\n",
    "**Notes**:\n",
    "* Submit your _personalized_ notebook to Canvas.\n",
    "* You then get automatic feedback from Momotor.\n",
    "* A score below 80% is treated as a 0.\n",
    "* A score of 80% or more is treated as a 10.\n",
    "* The best five out of six exercise sets count."
   ]
  },
  {
   "cell_type": "markdown",
   "metadata": {},
   "source": [
    "## Table of Contents\n",
    "\n",
    "<div class=\"toc\" style=\"margin-top: 1em;\">\n",
    "    <ul class=\"toc-item\">\n",
    "        <li>\n",
    "            <span><a href=\"#hip-hop,-hooray\" data-toc-modified-id=\"Hip-Hop,-Hooray\">1. Hip Hop, Hooray</a></span>\n",
    "        </li>\n",
    "        <li>\n",
    "            <span><a href=\"#collatz-conjecture\" data-toc-modified-id=\"Collatz-Conjecture\">2. Collatz Conjecture</a></span>\n",
    "        </li>\n",
    "        <li>\n",
    "            <span><a href=\"#prime-search\" data-toc-modified-id=\"Prime-Search\">3. Prime Search</a></span>\n",
    "        </li>\n",
    "        <li>\n",
    "            <span><a href=\"#sdrawkcab-gnitirw\" data-toc-modified-id=\"sdrawkcaB-gnitirW\">4. sdrawkcaB gnitirW</a></span>\n",
    "        </li>\n",
    "        <li>\n",
    "            <span><a href=\"#lengthy-numbers\" data-toc-modified-id=\"Lengthy-Numbers\">5. Lengthy Numbers</a></span>\n",
    "        </li>\n",
    "        <li>\n",
    "            <span><a href=\"#insurance\" data-toc-modified-id=\"Insurance\">6. Insurance</a></span>\n",
    "        </li>\n",
    "        <li>\n",
    "            <span><a href=\"#sorting-pairs\" data-toc-modified-id=\"Sorting-Pairs\">7. Sorting Pairs</a></span>\n",
    "        </li>\n",
    "        <li>\n",
    "            <span><a href=\"#sorting-triples\" data-toc-modified-id=\"Sorting-Triples\">8. Sorting Triples</a></span>\n",
    "        </li>\n",
    "        <li>\n",
    "            <span><a href=\"#books\" data-toc-modified-id=\"Books\">9. Books</a></span>\n",
    "        </li>\n",
    "        <li>\n",
    "            <span><a href=\"#multi-functionality\" data-toc-modified-id=\"Multi-Functionality\">10. Multi Functionality</a></span>\n",
    "        </li>\n",
    "        </ul>\n",
    "</div>"
   ]
  },
  {
   "cell_type": "markdown",
   "metadata": {},
   "source": [
    "\n",
    "# Introduction to This Template Notebook\n",
    "\n",
    "<div class=\"alert alert-danger\" role=\"danger\">\n",
    "<h3>Integrity</h3>\n",
    "<ul>\n",
    "    <li>In this course, you must act according to the rules of the TU/e code of scientific conduct.</li>\n",
    "    <li>All the exercises and the graded assignments are to be done within your programming homework group.</li>\n",
    "    <li>You must not copy from the Internet, your friends, books... If you represent other people's work as your own, then that constitutes fraud and will be reported to the Examination Committee.</li>\n",
    "    <li>Making your work available to others (complicity) also constitutes fraud.</li>\n",
    "</ul>\n",
    "</div>\n",
    "\n",
    "You are expected to work with Python 3 code in this notebook.\n",
    "\n",
    "The locations where you should write your solutions can be recognized by\n",
    "**marker lines**,\n",
    "which look like this:\n",
    "\n",
    ">`#//`\n",
    ">    `BEGIN_TODO [Label]` `Description` `(n points)`\n",
    ">\n",
    ">`#//`\n",
    ">    `END_TODO [Label]`\n",
    "\n",
    "<div class=\"alert alert-warning\" role=\"alert\">\n",
    "    <h3>Markers</h3>\n",
    "    Do NOT modify or delete these marker lines.  Keep them as they are.<br/>\n",
    "    NEVER write code that is needed for grading <i>outside</i> the marked blocks. It is invisible there.\n",
    "</div>\n",
    "\n",
    "Proceed in this notebook as follows:\n",
    "* **Personalize** the notebook (see below)\n",
    "* **Read** the text.\n",
    "* **Fill in** your solutions between `BEGIN_TODO` and `END_TODO` marker lines.\n",
    "* **Run** _all_ code cells (also the ones _without_ your code),\n",
    "    _in linear order_ from the first code cell.\n",
    "\n",
    "**Personalize your notebook**:\n",
    "1. Fill in your _full name_, _identification number_, and the current _date_ as strings between quotes.\n",
    "1. Run the code cell by putting the cursor there and typing **Control-Enter**.\n"
   ]
  },
  {
   "cell_type": "code",
   "execution_count": null,
   "metadata": {},
   "outputs": [],
   "source": [
    "#// BEGIN_TODO [Author] Name, Id.nr., Date, as strings (1 point)\n",
    "\n",
    "AUTHOR_NAME = 'Your Full Name'\n",
    "AUTHOR_ID_NR = '1234567'\n",
    "AUTHOR_DATE = '2023-03-06'  # when first modified, e.g. '2023-03-06'\n",
    "\n",
    "#// END_TODO [Author]\n",
    "\n",
    "AUTHOR_NAME, AUTHOR_ID_NR, AUTHOR_DATE"
   ]
  },
  {
   "cell_type": "markdown",
   "metadata": {},
   "source": [
    "\n",
    "## How to Submit Your Work\n",
    "\n",
    "1. **Rename the notebook**, replacing `...-template.ipynb` with `...-yourIDnr.ipynb`, where `yourIDnr` is your TU/e identification number.\n",
    "\n",
    "1. **Before submitting**, you must run your notebook by doing **Kernel > Restart & Run All**. Make sure that your notebook runs without errors **in linear order**.\n",
    "\n",
    "1. Submit the executed notebook with your work for the appropriate assignment in **Canvas**.\n",
    "\n",
    "1. In the **Momotor** tab in Canvas, you can select that assignment again to find some feedback on your submitted work.\n",
    "  \n",
    "1. If there are any problems reported by _Momotor_, then you need to fix those issues and **resubmit the fixed notebook**.\n"
   ]
  },
  {
   "cell_type": "markdown",
   "metadata": {},
   "source": [
    "## Preliminaries\n",
    "\n",
    "Run the cell below. This cell will import additional modules providing additional Python functionality."
   ]
  },
  {
   "cell_type": "code",
   "execution_count": null,
   "metadata": {},
   "outputs": [],
   "source": [
    "# Imports\n",
    "from typing import Callable, List, Tuple"
   ]
  },
  {
   "cell_type": "markdown",
   "metadata": {},
   "source": [
    "\n",
    "## Important Reminder\n",
    "\n",
    "Follow all coding conventions defined in the Python Coding Standard document. Remember that you are not just programming for a **machine**, you are mainly programming for other **humans**! In particular:  \n",
    "- all function definitions must have **type hints** and a **docstring**, and;\n",
    "- a *valid docstring* starts with a **capital letter** and ends with a **dot**. \n"
   ]
  },
  {
   "cell_type": "markdown",
   "metadata": {},
   "source": [
    "# Hip Hop, Hooray"
   ]
  },
  {
   "cell_type": "markdown",
   "metadata": {},
   "source": [
    "It's your professor's birthday!<br>\n",
    "To celebrate,\n",
    "create a program that prints 'Hip Hip, Hooray' as many times as his new age.\n",
    "Use a `while`-loop.\n",
    "\n",
    "Example output (with `new_age = 3`):\n",
    "```\n",
    "'Hip Hip, Hooray'\n",
    "'Hip Hip, Hooray'\n",
    "'Hip Hip, Hooray'\n",
    "```\n",
    "\n",
    "**Note**:\n",
    "Do not change the value of `NEW_AGE`;\n",
    "instead, use a fresh variable to control the loop."
   ]
  },
  {
   "cell_type": "code",
   "execution_count": null,
   "metadata": {},
   "outputs": [],
   "source": [
    "NEW_AGE = 3  # not negative\n",
    "\n",
    "#// BEGIN_TODO [Hip_hop_hooray] Hip Hip, Hooray\n",
    "\n",
    "# ===== =====> Replace this line by your code. <===== ===== #\n",
    "\n",
    "#// END_TODO [Hip_hop_hooray]"
   ]
  },
  {
   "cell_type": "markdown",
   "metadata": {},
   "source": [
    "# Collatz Conjecture"
   ]
  },
  {
   "cell_type": "markdown",
   "metadata": {},
   "source": [
    "We can also use `while` loops to iterate an arbitrary number of times that is not predetermined,\n",
    "but that depends on some conditions to be achieved.\n",
    "\n",
    "This is useful to investigate mathematical problems\n",
    "such as the famous _Collatz Conjecture_.\n",
    "\n",
    "The Collatz Conjecture involves an easy iterated formula,\n",
    "which repeatedly modifies an integer `n`.\n",
    "Here are the rules:\n",
    "\n",
    "* If `n` equals 1, stop (after this it will loop 1, 4, 2, 1, ...).\n",
    "* If `n` is even: divide it by 2.\n",
    "* If `n` is odd: multiply it by 3 and add 1.\n",
    "\n",
    "The Collatz Conjecture states that every positive starting value will eventually reach 1.<br>\n",
    "This hasn't been formally proven yet, but it is conjectured to be true.\n",
    "\n",
    "You will create a program using a `while`-loop that prints the Collatz sequence that starts with `n`.\n",
    "\n",
    "Example (with `n = 20`):\n",
    "\n",
    "```\n",
    "20\n",
    "10\n",
    "5\n",
    "16\n",
    "8\n",
    "4\n",
    "2\n",
    "1\n",
    "```\n",
    "\n",
    "**Hints**:\n",
    "* Use integer division (`//`) and remainder (`%`).\n",
    "* Use an `if`-`else`-statement inside the `while` loop."
   ]
  },
  {
   "cell_type": "code",
   "execution_count": null,
   "metadata": {},
   "outputs": [],
   "source": [
    "n = 20\n",
    "\n",
    "#// BEGIN_TODO [Collatz_conjecture] Collatz Conjecture\n",
    "\n",
    "# ===== =====> Replace this line by your code. <===== ===== #\n",
    "\n",
    "#// END_TODO [Collatz_conjecture]"
   ]
  },
  {
   "cell_type": "markdown",
   "metadata": {},
   "source": [
    "# Prime Search"
   ]
  },
  {
   "cell_type": "markdown",
   "metadata": {},
   "source": [
    "Create a program that prints each prime number between 2 and `n` in ascending order exactly once.\n",
    "\n",
    "The output should look like this (for `n = 11`):\n",
    "```\n",
    "2 is prime\n",
    "3 is prime\n",
    "5 is prime\n",
    "7 is prime\n",
    "11 is prime\n",
    "```\n",
    "\n",
    "**Hints**:\n",
    "* Use two _nested_ `while` loops. (This is a must.)\n",
    "* The _outer loop_ iterates over the candidate primes, from 2 up to `n`.\n",
    "* The _inner loop_ iterates over candidate divisors (trial division) to detect primes.\n",
    "  (When can the inner loop stop?)\n",
    "* Consider using a `while`-`else` statement\n",
    "  ([documentation](https://docs.python.org/3/reference/compound_stmts.html#grammar-token-while-stmt))\n",
    "  for the inner loop."
   ]
  },
  {
   "cell_type": "code",
   "execution_count": null,
   "metadata": {},
   "outputs": [],
   "source": [
    "n = 19\n",
    "\n",
    "#// BEGIN_TODO [Prime_search] Prime Search\n",
    "\n",
    "# ===== =====> Replace this line by your code. <===== ===== #\n",
    "\n",
    "#// END_TODO [Prime_search]"
   ]
  },
  {
   "cell_type": "markdown",
   "metadata": {},
   "source": [
    "# sdrawkcaB gnitirW"
   ]
  },
  {
   "cell_type": "markdown",
   "metadata": {},
   "source": [
    "Write a program that uses a string variable `string` and\n",
    "prints the letters backward, using a `while` loop.<br>\n",
    "\n",
    "Example (with `string = 'Writing Backwards'`):\n",
    "\n",
    "```\n",
    "sdrawkcaB gnitirW\n",
    "```\n",
    "\n",
    "**Hints**:\n",
    "* Use `len(string)` to determine the string's length.\n",
    "* Use `string[i]` to take the letter at index `i`.<br>\n",
    "  Keep in mind that the first character is at index 0.\n",
    "* Use `print(..., end='')` to suppress printing a new line."
   ]
  },
  {
   "cell_type": "code",
   "execution_count": null,
   "metadata": {},
   "outputs": [],
   "source": [
    "string = 'sdrawkcaB gnitirW'\n",
    "\n",
    "#// BEGIN_TODO [Sdrawkcab_gnitirw] sdrawkcaB gnitirW\n",
    "\n",
    "# ===== =====> Replace this line by your code. <===== ===== #\n",
    "\n",
    "#// END_TODO [Sdrawkcab_gnitirw]"
   ]
  },
  {
   "cell_type": "markdown",
   "metadata": {},
   "source": [
    "# Lengthy Numbers"
   ]
  },
  {
   "cell_type": "markdown",
   "metadata": {},
   "source": [
    "We want to know the length of an integer `number`.\n",
    "Use a `while` loop to determine how many digits the number has (in decimal notation).\n",
    "Assign the length of the number to the variable `length`.\n",
    "\n",
    "**Hints**:\n",
    "* You can repeatedly update `number` and `length` within the loop.\n",
    "* Choose an appropriate starting value for `length`.<br>\n",
    "  Keep in mind that all numbers less than 10 have length one.\n",
    "* Do not convert the number to a string,\n",
    "  but rather repeatedly use integer division (`//`) by the base (`10`) of decimal notation\n",
    "  to 'chop off' on digit if the number is at least `10`."
   ]
  },
  {
   "cell_type": "code",
   "execution_count": null,
   "metadata": {},
   "outputs": [],
   "source": [
    "number = 12345\n",
    "\n",
    "#// BEGIN_TODO [Lengthy_numbers] Lengthy Numbers\n",
    "\n",
    "# ===== =====> Replace this line by your code. <===== ===== #\n",
    "\n",
    "#// END_TODO [Lengthy_numbers]\n",
    "\n",
    "print(length)"
   ]
  },
  {
   "cell_type": "markdown",
   "metadata": {},
   "source": [
    "# Insurance"
   ]
  },
  {
   "cell_type": "markdown",
   "metadata": {},
   "source": [
    "We want to calculate what the price of someone's car insurance will be.\n",
    "This is based on the total amount of light and heavy accidents that the person caused during the last year and\n",
    "the number of years that they drive.\n",
    "\n",
    "Because we want to check the price for multiple people,\n",
    "we have to create a function so that we can check it as often as we want.\n",
    "We have already provided a skeleton of the function `calculate_price`\n",
    "(so, there is no code within the function).\n",
    "Your job is to finish the function such that (_applied in this order_):\n",
    "* The base insurance is 2000 a year.\n",
    "* Every light accident increases the price by 100.\n",
    "* Every heavy accident increases the total price by 10%.  \n",
    "  The total percentage is calculated first and then applied.\n",
    "* Every two years of driving experience _after_ the first 5 (learner) years, the price drops by 200.\n",
    "* The price of the insurance can never be lower than 800.\n",
    "\n",
    "The function `calculate_price` has to return the price of the insurance.\n",
    "It prints nothing.\n",
    "\n",
    "For example, `calculate_price(5, 2, 10)` should return `2600.0`.\n",
    "\n",
    "**Hints**\n",
    "* You can use the standard function `max` to calculate the maximum of two values.  \n",
    "  That way, you can avoid `if` statements."
   ]
  },
  {
   "cell_type": "code",
   "execution_count": null,
   "metadata": {},
   "outputs": [],
   "source": [
    "def calculate_price(light_accidents: int, \n",
    "                    heavy_accidents: int, \n",
    "                    driving_experience: int) -> float:\n",
    "    \"\"\"Calculate insurance price for given number of light accidents,\n",
    "    heavy accidents, and number of years of driving experience.\n",
    "    \"\"\"\n",
    "#// BEGIN_TODO [Insurance] Insurance\n",
    "\n",
    "# ===== =====> Replace this line by your code. <===== ===== #\n",
    "\n",
    "#// END_TODO [Insurance]\n",
    "\n",
    "# Print the price for someone who just started driving\n",
    "print(calculate_price(0, 0, 0))\n",
    "\n",
    "# Price for someone who has been driving for 10 years with a couple of accidents\n",
    "print(calculate_price(5, 2, 10))"
   ]
  },
  {
   "cell_type": "markdown",
   "metadata": {},
   "source": [
    "# Sorting Pairs"
   ]
  },
  {
   "cell_type": "markdown",
   "metadata": {},
   "source": [
    "Create the function `sort_pair`, which takes 2 integers as arguments.  \n",
    "The function returns the pair of values in ascending order.\n",
    "\n",
    "**Notes**:\n",
    "\n",
    "* This function returns something and does not print.\n",
    "* This function must be used in the next task.\n",
    "* Use `return num1, num2` to return a tuple of values."
   ]
  },
  {
   "cell_type": "code",
   "execution_count": null,
   "metadata": {},
   "outputs": [],
   "source": [
    "def sort_pair(num1: int, num2: int) -> Tuple[int, int]:\n",
    "    \"\"\"Return the values num1, num2 as tuple in sorted order.\n",
    "    \"\"\"\n",
    "#// BEGIN_TODO [Sorting_pair] Sorting Pairs\n",
    "\n",
    "# ===== =====> Replace this line by your code. <===== ===== #\n",
    "\n",
    "#// END_TODO [Sorting_pair]\n",
    "\n",
    "print(sort_pair(1, 2))\n",
    "a, b = 3, 2\n",
    "a, b = sort_pair(a, b)\n",
    "a, b"
   ]
  },
  {
   "cell_type": "markdown",
   "metadata": {},
   "source": [
    "# Sorting Triples"
   ]
  },
  {
   "cell_type": "markdown",
   "metadata": {},
   "source": [
    "Create the function `sort_triple`, which takes 3 integers as arguments.  \n",
    "The function should sort and return the numbers as a tuple. \n",
    "\n",
    "For example, `sort_triple(4, 7, 2)` returns the tuple\n",
    "``` \n",
    "2, 4, 7\n",
    "```\n",
    "\n",
    "**Notes**:\n",
    "* Accomplish this with 3 calls of `sort_pair`.\n",
    "* Don't forget the **type hints** and the **docstring**."
   ]
  },
  {
   "cell_type": "code",
   "execution_count": null,
   "metadata": {},
   "outputs": [],
   "source": [
    "#// BEGIN_TODO [Sort_triples] Sorting Triples\n",
    "\n",
    "# ===== =====> Replace this line by your code. <===== ===== #\n",
    "\n",
    "#// END_TODO [Sort_triples]\n",
    "\n",
    "print(sort_triple(4, 7, 2))"
   ]
  },
  {
   "cell_type": "markdown",
   "metadata": {},
   "source": [
    "# Books"
   ]
  },
  {
   "cell_type": "markdown",
   "metadata": {},
   "source": [
    "Write a void function called `print_chapters`\n",
    "that prints a table of contents based on\n",
    "`start_chapter`, `final_chapter`, and `max_section` as int parameters.\n",
    "* `start_chapter` is the first chapter you are going to print.\n",
    "* `final_chapter` is the final chapter you are going to print.\n",
    "* `max_section` is the number of sections each chapter has.\n",
    "\n",
    "The function call `print_chapters(1, 4, 2)` prints the following table of contents:\n",
    "```\n",
    "Chapter 1\n",
    "  Section 1.1 \n",
    "  Section 1.2 \n",
    "Chapter 2 \n",
    "  Section 2.1 \n",
    "  Section 2.2 \n",
    "Chapter 3 \n",
    "  Section 3.1 \n",
    "  Section 3.2 \n",
    "Chapter 4 \n",
    "  Section 4.1 \n",
    "  Section 4.2\n",
    "```\n",
    "**Notes**:\n",
    "* This function will only print; it does not return anything.\n",
    "* Define an auxiliary function `print_sections` with appropriate parameters\n",
    "  to print the sections.  \n",
    "  This helps avoid nested loops.\n",
    "* Include type information for parameters and return value.\n",
    "* Include docstrings."
   ]
  },
  {
   "cell_type": "code",
   "execution_count": null,
   "metadata": {},
   "outputs": [],
   "source": [
    "#// BEGIN_TODO [Books] Books\n",
    "\n",
    "# ===== =====> Replace this line by your code. <===== ===== #\n",
    "\n",
    "#// END_TODO [Books]\n",
    "\n",
    "print_chapters(1, 4, 2)"
   ]
  },
  {
   "cell_type": "markdown",
   "metadata": {},
   "source": [
    "# Multi Functionality"
   ]
  },
  {
   "cell_type": "markdown",
   "metadata": {},
   "source": [
    "Functions can have parameters of all kinds of types.  \n",
    "This includes integers, floats, and strings.\n",
    "\n",
    "But functions can also take _other functions_ as parameters.  \n",
    "To try this, we are going to define the function `do_twice`\n",
    "that will take any function `f` (without parameters) as an argument and call `f` _twice_ in succession.\n",
    "\n",
    "**Hints**:\n",
    "* Don't forget the **type hints** and **docstring** on `do_twice`.\n",
    "* The type hint to use for the function parameter `f` of `do_twice` is `Callable[[], None]`."
   ]
  },
  {
   "cell_type": "code",
   "execution_count": null,
   "metadata": {},
   "outputs": [],
   "source": [
    "def print_hello() -> None:\n",
    "    \"\"\"Print hello.\n",
    "    \"\"\"\n",
    "    print('hello')\n",
    "\n",
    "#// BEGIN_TODO [Multi_functionality] Multi Functionality\n",
    "\n",
    "# ===== =====> Replace this line by your code. <===== ===== #\n",
    "\n",
    "#// END_TODO [Multi_functionality]\n",
    "\n",
    "do_twice(print_hello)"
   ]
  },
  {
   "cell_type": "markdown",
   "metadata": {},
   "source": [
    "\n",
    "---"
   ]
  },
  {
   "cell_type": "code",
   "execution_count": null,
   "metadata": {},
   "outputs": [],
   "source": [
    "# List of all defined names\n",
    "%whos"
   ]
  },
  {
   "cell_type": "markdown",
   "metadata": {},
   "source": [
    "---\n",
    "\n",
    "# (End of Notebook)\n",
    "\n",
    "&copy; 2017-2023 - **TU/e** - Eindhoven University of Technology\n"
   ]
  }
 ],
 "metadata": {
  "anaconda-cloud": {},
  "kernelspec": {
   "display_name": "Python 3 (ipykernel)",
   "language": "python",
   "name": "python3"
  },
  "language_info": {
   "codemirror_mode": {
    "name": "ipython",
    "version": 3
   },
   "file_extension": ".py",
   "mimetype": "text/x-python",
   "name": "python",
   "nbconvert_exporter": "python",
   "pygments_lexer": "ipython3",
   "version": "3.9.7"
  },
  "vscode": {
   "interpreter": {
    "hash": "440ded6bd466dc632760b2783eaa5924fc8bb7d8bd9dda723193caf011fd0fab"
   }
  }
 },
 "nbformat": 4,
 "nbformat_minor": 4
}
