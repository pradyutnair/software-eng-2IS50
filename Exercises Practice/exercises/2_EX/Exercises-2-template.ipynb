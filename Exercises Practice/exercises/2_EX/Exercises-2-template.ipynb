{
 "cells": [
  {
   "cell_type": "markdown",
   "metadata": {},
   "source": [
    "# 2IS50 - Exercises Week 2 22-23\n",
    "\n",
    "This Jupyter notebook provides exercises for practicing your programming skills.\r\n",
    "\r\n",
    "**Notes**:\r\n",
    "* Submit your _personalized_ notebook to Canvas.\r\n",
    "* You then get automatic feedback from Momotor.\r\n",
    "* A score below 80% is treated as a 0.\r\n",
    "* A score of 80% or more is treated as a 10.\r\n",
    "* The best five out of six exercise sets count."
   ]
  },
  {
   "cell_type": "markdown",
   "metadata": {},
   "source": [
    "## Table of Contents\n",
    "\n",
    "<div class=\"toc\" style=\"margin-top: 1em;\">\n",
    "    <ul class=\"toc-item\">\n",
    "        <li>\n",
    "            <span><a href=\"#draw-a-card\" data-toc-modified-id=\"Draw-a-Card\">1. Draw a Card</a></span>\n",
    "        </li>\n",
    "        <li>\n",
    "            <span><a href=\"#do-one-experiment\" data-toc-modified-id=\"Do-One-Experiment\">2. Do One Experiment</a></span>\n",
    "        </li>\n",
    "        <li>\n",
    "            <span><a href=\"#do-more-experiments\" data-toc-modified-id=\"Do-More-Experiments\">3. Do More Experiments</a></span>\n",
    "        </li>\n",
    "        <li>\n",
    "            <span><a href=\"#check-sum-of-squares\" data-toc-modified-id=\"Check-Sum-of-Squares\">4. Check Sum of Squares</a></span>\n",
    "        </li>\n",
    "        <li>\n",
    "            <span><a href=\"#check-multiple-sums-of-squares\" data-toc-modified-id=\"Check-Multiple-Sums-of-Squares\">5. Check Multiple Sums of Squares</a></span>\n",
    "        </li>\n",
    "        <li>\n",
    "            <span><a href=\"#check-the-files\" data-toc-modified-id=\"Check-the-Files\">6. Check the Files</a></span>\n",
    "        </li>\n",
    "        </ul>\n",
    "</div>"
   ]
  },
  {
   "cell_type": "markdown",
   "metadata": {},
   "source": [
    "\n",
    "# Introduction to This Template Notebook\n",
    "\n",
    "<div class=\"alert alert-danger\" role=\"danger\">\n",
    "<h3>Integrity</h3>\n",
    "<ul>\n",
    "    <li>In this course, you must act according to the rules of the TU/e code of scientific conduct.</li>\n",
    "    <li>All the exercises and the graded assignments are to be done within your programming homework group.</li>\n",
    "    <li>You must not copy from the Internet, your friends, books... If you represent other people's work as your own, then that constitutes fraud and will be reported to the Examination Committee.</li>\n",
    "    <li>Making your work available to others (complicity) also constitutes fraud.</li>\n",
    "</ul>\n",
    "</div>\n",
    "\n",
    "You are expected to work with Python 3 code in this notebook.\n",
    "\n",
    "The locations where you should write your solutions can be recognized by\n",
    "**marker lines**,\n",
    "which look like this:\n",
    "\n",
    ">`#//`\n",
    ">    `BEGIN_TODO [Label]` `Description` `(n points)`\n",
    ">\n",
    ">`#//`\n",
    ">    `END_TODO [Label]`\n",
    "\n",
    "<div class=\"alert alert-warning\" role=\"alert\">\n",
    "    <h3>Markers</h3>\n",
    "    Do NOT modify or delete these marker lines.  Keep them as they are.<br/>\n",
    "    NEVER write code that is needed for grading <i>outside</i> the marked blocks. It is invisible there.\n",
    "</div>\n",
    "\n",
    "Proceed in this notebook as follows:\n",
    "* **Personalize** the notebook (see below)\n",
    "* **Read** the text.\n",
    "* **Fill in** your solutions between `BEGIN_TODO` and `END_TODO` marker lines.\n",
    "* **Run** _all_ code cells (also the ones _without_ your code),\n",
    "    _in linear order_ from the first code cell.\n",
    "\n",
    "**Personalize your notebook**:\n",
    "1. Fill in your _full name_, _identification number_, and the current _date_ as strings between quotes.\n",
    "1. Run the code cell by putting the cursor there and typing **Control-Enter**.\n"
   ]
  },
  {
   "cell_type": "code",
   "execution_count": null,
   "metadata": {},
   "outputs": [],
   "source": [
    "#// BEGIN_TODO [Author] Name, Id.nr., Date, as strings (1 point)\n",
    "\n",
    "AUTHOR_NAME = 'Your Full Name'\n",
    "AUTHOR_ID_NR = '1234567'\n",
    "AUTHOR_DATE = '2023-03-06'  # when first modified, e.g. '2023-03-06'\n",
    "\n",
    "#// END_TODO [Author]\n",
    "\n",
    "AUTHOR_NAME, AUTHOR_ID_NR, AUTHOR_DATE"
   ]
  },
  {
   "cell_type": "markdown",
   "metadata": {},
   "source": [
    "\n",
    "## How to Submit Your Work\n",
    "\n",
    "1. **Rename the notebook**, replacing `...-template.ipynb` with `...-yourIDnr.ipynb`, where `yourIDnr` is your TU/e identification number.\n",
    "\n",
    "1. **Before submitting**, you must run your notebook by doing **Kernel > Restart & Run All**. Make sure that your notebook runs without errors **in linear order**.\n",
    "\n",
    "1. Submit the executed notebook with your work for the appropriate assignment in **Canvas**.\n",
    "\n",
    "1. In the **Momotor** tab in Canvas, you can select that assignment again to find some feedback on your submitted work.\n",
    "  \n",
    "1. If there are any problems reported by _Momotor_, then you need to fix those issues and **resubmit the fixed notebook**.\n"
   ]
  },
  {
   "cell_type": "markdown",
   "metadata": {},
   "source": [
    "## Preliminaries\n",
    "\n",
    "Run the cell below. This cell will import additional modules providing additional Python functionality."
   ]
  },
  {
   "cell_type": "code",
   "execution_count": null,
   "metadata": {},
   "outputs": [],
   "source": [
    "# Imports\n",
    "import random\n",
    "from typing import Iterable, List, Sequence, Tuple"
   ]
  },
  {
   "cell_type": "markdown",
   "metadata": {},
   "source": [
    "\n",
    "## Important Reminder\n",
    "\n",
    "Follow all coding conventions defined in the Python Coding Standard document. Remember that you are not just programming for a **machine**, you are mainly programming for other **humans**! In particular:  \n",
    "- all function definitions must have **type hints** and a **docstring**, and;\n",
    "- a *valid docstring* starts with a **capital letter** and ends with a **dot**. \n"
   ]
  },
  {
   "attachments": {},
   "cell_type": "markdown",
   "metadata": {},
   "source": [
    "# Draw a Card"
   ]
  },
  {
   "attachments": {},
   "cell_type": "markdown",
   "metadata": {},
   "source": [
    "Fill the contents of the function `draw`, that draws a random card and that also shuffles the card itself\n",
    "(random front/back).\n",
    "\n",
    "**Notes**:\n",
    "* Use `random.choice()` to select a card at random from `CARDS`.\n",
    "* Use `random.shuffle()` to shuffle the items in a *list* into a random order.\n",
    "* Thus, the drawn card, being a *tuple* (hence, *immutable*),\n",
    "    must first be converted to a *list* (which is *mutable*).  \n",
    "    For this, use the constructor `list()` with a tuple as argument.  \n",
    "    After shuffling, convert the list back into a tuple with `tuple`."
   ]
  },
  {
   "cell_type": "code",
   "execution_count": null,
   "metadata": {},
   "outputs": [],
   "source": [
    "BLACK = '#'\n",
    "WHITE = 'O'\n",
    "\n",
    "CARDS = ((BLACK, BLACK), (BLACK, WHITE), (WHITE, WHITE))\n",
    "\n",
    "def draw() -> Tuple[str, str]:\n",
    "    \"\"\"\n",
    "    Draws a random card with random front/back.\n",
    "    \n",
    "    :returns: A tuple with the front and back of the card.\n",
    "    \"\"\"\n",
    "\n",
    "#// BEGIN_TODO [draw] Draw a card\n",
    "\n",
    "# ===== =====> Replace this line by your code. <===== ===== #\n",
    "\n",
    "#// END_TODO [draw]\n",
    "\n",
    "print(draw())"
   ]
  },
  {
   "cell_type": "markdown",
   "metadata": {},
   "source": [
    "Test the function `draw` manually, by drawing a card 10 times and inspecting the results.\n",
    "\n",
    "**Notes**:\n",
    "* Use a `for` loop over `range(10)`, and the function `print`.\n",
    "* If necessary, repeatedly execute the test cell until you have seen all four possible situations of\n",
    "    front/back being black/white."
   ]
  },
  {
   "cell_type": "code",
   "execution_count": null,
   "metadata": {},
   "outputs": [],
   "source": [
    "#// BEGIN_TODO [draw_tests] Draw a card test cases\n",
    "\n",
    "# ===== =====> Replace this line by your code. <===== ===== #\n",
    "\n",
    "#// END_TODO [draw_tests]"
   ]
  },
  {
   "cell_type": "markdown",
   "metadata": {},
   "source": [
    "# Do One Experiment"
   ]
  },
  {
   "attachments": {},
   "cell_type": "markdown",
   "metadata": {},
   "source": [
    "Define the (parameterless) function `experiment` to carry out _one_ experiment:\n",
    "* repeatedly draw a card until the front is white,\n",
    "* and then return the color of the _other_ side.\n",
    "\n",
    "**Notes**:\n",
    "* Use a `while` loop.\n",
    "* Use your function `draw`.\n",
    "* If you arrange it carefully, you only need to call `draw` in one place (inside the loop).  \n",
    "    (Use auxiliary variables `front` and `back`, where `front` is initialized as `BLACK`.)"
   ]
  },
  {
   "cell_type": "code",
   "execution_count": null,
   "metadata": {},
   "outputs": [],
   "source": [
    "def experiment() -> str:\n",
    "    \"\"\"\n",
    "    Returns color of other side, when drawing a random card,\n",
    "    knowing that the front is white.\n",
    "\n",
    "    :returns: The colour on the backside of a card with a white front side,\n",
    "    drawn using draw()\n",
    "    \"\"\"\n",
    "\n",
    "#// BEGIN_TODO [experiment] Do one experiment\n",
    "\n",
    "# ===== =====> Replace this line by your code. <===== ===== #\n",
    "\n",
    "#// END_TODO [experiment]"
   ]
  },
  {
   "attachments": {},
   "cell_type": "markdown",
   "metadata": {},
   "source": [
    "Test this by calling `experiment` 10 times.\n",
    "Now, use a _list comprehension_, and don't use `print`."
   ]
  },
  {
   "cell_type": "code",
   "execution_count": null,
   "metadata": {},
   "outputs": [],
   "source": [
    "#// BEGIN_TODO [experiment_tests] Do one experiment test cases\n",
    "\n",
    "# ===== =====> Replace this line by your code. <===== ===== #\n",
    "\n",
    "#// END_TODO [experiment_tests]"
   ]
  },
  {
   "attachments": {},
   "cell_type": "markdown",
   "metadata": {},
   "source": [
    "# Do More Experiments"
   ]
  },
  {
   "attachments": {},
   "cell_type": "markdown",
   "metadata": {},
   "source": [
    "We are now ready for a more extensive experiment.\n",
    "\n",
    "Define function `experiments`\n",
    "that, for given positive integer `repeat_count`, repeats the experiment `repeat_count` times, and\n",
    "return the fraction of times the other side was _black_.\n",
    "\n",
    "**Notes**:\n",
    "* Don't forget the **type hints**: The return type is `float`.\n",
    "* Don't forget the **docstring**.\n",
    "* Use the function `experiment`.\n",
    "* You can use a `for` loop over `range(repeat_count)` and a variable to count successes.  \n",
    "    But you can also apply `sum` to a list comprehension of all experiment outcomes,\n",
    "    where the Boolean result is converted to an integer with `int`."
   ]
  },
  {
   "cell_type": "code",
   "execution_count": null,
   "metadata": {},
   "outputs": [],
   "source": [
    "#// BEGIN_TODO [experiments] Do multiple experiments\n",
    "\n",
    "# ===== =====> Replace this line by your code. <===== ===== #\n",
    "\n",
    "#// END_TODO [experiments]"
   ]
  },
  {
   "cell_type": "markdown",
   "metadata": {},
   "source": [
    "Do two quick (smoke) tests, e.g. with `repeat_count` equal 1 and 10 (which is too small to draw conclusions).\n",
    "\n",
    "**Notes**:\n",
    "* Use `print`."
   ]
  },
  {
   "cell_type": "code",
   "execution_count": null,
   "metadata": {},
   "outputs": [],
   "source": [
    "#// BEGIN_TODO [experiments_tests] Do multiple experiments test cases\n",
    "\n",
    "# ===== =====> Replace this line by your code. <===== ===== #\n",
    "\n",
    "#// END_TODO [experiments_tests]"
   ]
  },
  {
   "cell_type": "markdown",
   "metadata": {},
   "source": [
    "Now, do it one million times and determe\n",
    "what _percentage_ had a black backside:"
   ]
  },
  {
   "cell_type": "code",
   "execution_count": null,
   "metadata": {},
   "outputs": [],
   "source": [
    "experiments(1000000) * 100  # takes a few seconds"
   ]
  },
  {
   "cell_type": "markdown",
   "metadata": {},
   "source": [
    "Does that match your expectation?\n",
    "\n",
    "Can you explain the result?"
   ]
  },
  {
   "cell_type": "markdown",
   "metadata": {},
   "source": [
    "# Check Sum of Squares"
   ]
  },
  {
   "attachments": {},
   "cell_type": "markdown",
   "metadata": {},
   "source": [
    "On Monday 10 February 2020, Willem Bouman (80) set a new\n",
    "[world record in mental calculation](https://www.tue.nl/en/news/news-overview/11-02-2020-willem-bouman-sets-his-fifth-mental-calculation-world-record/):\n",
    "\n",
    "> Write 10 random 5-digit numbers as the sum of 4 squares.\n",
    "\n",
    "He did two attempts of 10 numbers each. Altogether, it took him less than 10 minutes.\n",
    "The results are in two text files named `Willem_Bouman_World_Record_Sum_of_Squares-?.csv`,\n",
    "where `?` is `1` or `2`.\n",
    "\n",
    "Define function `check_sum_of_squares`\n",
    "that\n",
    "* takes two parameters\n",
    "  * an integer `n`\n",
    "  * a sequence (tuple or list) of integers `s` (type `Sequence[int]`)\n",
    "* returns a Boolean, and\n",
    "* determines whether `n` equals the sum of the squares of the numbers in `s`.\n",
    "\n",
    "**Notes**:\n",
    "* Your options to determine the sum of squares are\n",
    "  * use a `for`-loop and an auxiliary (accumulation) variable\n",
    "  * use `map` (to get squares) and `reduce` (to sum)\n",
    "  * apply `sum` to a _list comprehension_ with squares (strongly recommended)"
   ]
  },
  {
   "cell_type": "code",
   "execution_count": null,
   "metadata": {},
   "outputs": [],
   "source": [
    "def check_sum_of_squares(n: int, s: Sequence[int]) -> bool:\n",
    "    \"\"\"\n",
    "    Determines whether n equals the sum of the squares of the numbers in s.\n",
    "\n",
    "    :param n: The conjectured sum of squared.\n",
    "    :param s: The numbers for whom you want to sum the squares.\n",
    "\n",
    "    :returns: True if n equals the sum of the numbers in s squared.\n",
    "    \"\"\"\n",
    "\n",
    "#// BEGIN_TODO [check_sum_of_squares] Check sum of squares\n",
    "\n",
    "# ===== =====> Replace this line by your code. <===== ===== #\n",
    "\n",
    "#// END_TODO [check_sum_of_squares]"
   ]
  },
  {
   "cell_type": "markdown",
   "metadata": {},
   "source": [
    "# Check Multiple Sums of Squares"
   ]
  },
  {
   "attachments": {},
   "cell_type": "markdown",
   "metadata": {},
   "source": [
    "Define function `check_multiple` that\n",
    "* takes one parameter `lines`, being an _iterable_ of strings (type `Iterable[str]`)\n",
    "  where each line consists of five comma-separated integer values,\n",
    "* for each line\n",
    "  * checks whether the first number equals the sum of the squares of the remaining numbers,\n",
    "  * prints the numbers and result using the given `LINE_FMT`,\n",
    "* prints the outcome of the attempt using the given `ATTEMPT_FMT`, and\n",
    "* returns the attempt result as Boolean.\n",
    "\n",
    "\n",
    "**Notes**:\n",
    "* Use a `for`-loop to iterate over the lines in `lines`.\n",
    "* Splits each line at the commas using `line.split(',')`.\n",
    "* Convert each string item to an integer using `int(item)`.\n",
    "* The preceding two steps can be combined in a _list comprehension_ to yield a list of numbers.\n",
    "* Use your function `check_sum_of_squares` and our function `outcome`.\n",
    "* Use the given format strings to get proper output.\n",
    "\n",
    "\n",
    "**Example:**  \n",
    "*Input:*  \n",
    "<pre>\n",
    "check_multiple([\"25, 3, 4, 0, 0\", \"170, 12, 5, 1, 1\"])\n",
    "</pre>\n",
    "\n",
    "*Output:*  \n",
    "<pre>\n",
    "   25 ==   3^2 +   4^2 +   0^2 +   0^2  passed\n",
    "  170 ==  12^2 +   5^2 +   1^2 +   1^2  FAILED\n",
    "Attempt FAILED\n",
    "</pre>"
   ]
  },
  {
   "cell_type": "code",
   "execution_count": null,
   "metadata": {},
   "outputs": [],
   "source": [
    "# Given format strings and auxiliary function\n",
    "\n",
    "LINE_FMT = \"{:5} == {:3}^2 + {:3}^2 + {:3}^2 + {:3}^2  {}\"  # use with int, not str\n",
    "ATTEMPT_FMT = \"Attempt {}\"\n",
    "\n",
    "def outcome(result: bool) -> str:\n",
    "    \"\"\"\n",
    "    Returns \"passed\" or \"FAILED\" depending on result.\n",
    "\n",
    "    :param result: A boolean representing weather the test passed.\n",
    "    :returns: \"passed\" if result is True.\n",
    "    \"\"\"\n",
    "    return \"passed\" if result else \"FAILED\""
   ]
  },
  {
   "cell_type": "code",
   "execution_count": null,
   "metadata": {},
   "outputs": [],
   "source": [
    "def check_multiple(lines: Iterable[str]) -> bool:\n",
    "    \"\"\"\n",
    "    Checks all lines and prints the results as specified, and\n",
    "    returns whether the attempt was successful.\n",
    "\n",
    "    :param lines: All lines for wich the sum of squares is to be checked.\n",
    "    :returns: True if all lines had the correct sum of squares.\n",
    "    \"\"\"\n",
    "\n",
    "#// BEGIN_TODO [check_multiple] Check multiple lines\n",
    "\n",
    "# ===== =====> Replace this line by your code. <===== ===== #\n",
    "\n",
    "#// END_TODO [check_multiple]"
   ]
  },
  {
   "cell_type": "markdown",
   "metadata": {},
   "source": [
    "# Check the Files"
   ]
  },
  {
   "attachments": {},
   "cell_type": "markdown",
   "metadata": {},
   "source": [
    "Write code to check the if the sum of the squares in the two given files are correct.\n",
    "Write the tests for the first file in the first block, the tests for the second file in the second block.\n",
    "\n",
    "**Notes**:\n",
    "* Use the given format string `FILE_NAME_FMT` to obtain the file names.\n",
    "* When `f` is a file opened for reading, `f.readlines()`\n",
    "  is an _iterable_ of the lines in `f`.  \n",
    "  That _iterable_ can be passed into `check_multiple()`.  \n",
    "\n",
    "\n",
    "**Example:**  \n",
    "*Input:*  \n",
    "<pre>\n",
    "25, 3, 4, 0, 0\n",
    "170, 12, 5, 1, 1\n",
    "</pre>\n",
    "\n",
    "*Output:*  \n",
    "<pre>\n",
    "   25 ==   3^2 +   4^2 +   0^2 +   0^2  passed\n",
    "  170 ==  12^2 +   5^2 +   1^2 +   1^2  FAILED\n",
    "Attempt FAILED\n",
    "</pre>"
   ]
  },
  {
   "cell_type": "code",
   "execution_count": null,
   "metadata": {},
   "outputs": [],
   "source": [
    "# Given format string for file names\n",
    "FILE_NAME_FMT = 'datasets/Willem_Bouman_World_Record_Sum_of_Squares-{}.csv'\n",
    "\n",
    "# Example usage: FILE_NAME_FMT.format('1')"
   ]
  },
  {
   "cell_type": "code",
   "execution_count": null,
   "metadata": {},
   "outputs": [],
   "source": [
    "#// BEGIN_TODO [check_file_1] Check file 1\n",
    "\n",
    "# ===== =====> Replace this line by your code. <===== ===== #\n",
    "\n",
    "#// END_TODO [check_file_1]"
   ]
  },
  {
   "cell_type": "code",
   "execution_count": null,
   "metadata": {},
   "outputs": [],
   "source": [
    "#// BEGIN_TODO [check_file_2] Check file 2\n",
    "\n",
    "# ===== =====> Replace this line by your code. <===== ===== #\n",
    "\n",
    "#// END_TODO [check_file_2]"
   ]
  },
  {
   "cell_type": "markdown",
   "metadata": {},
   "source": [
    "\n",
    "---"
   ]
  },
  {
   "cell_type": "code",
   "execution_count": null,
   "metadata": {},
   "outputs": [],
   "source": [
    "# List of all defined names\n",
    "%whos"
   ]
  },
  {
   "cell_type": "markdown",
   "metadata": {},
   "source": [
    "---\n",
    "\n",
    "# (End of Notebook)\n",
    "\n",
    "&copy; 2017-2023 - **TU/e** - Eindhoven University of Technology\n"
   ]
  }
 ],
 "metadata": {
  "anaconda-cloud": {},
  "kernelspec": {
   "display_name": "Python 3.10.6 ('venv': venv)",
   "language": "python",
   "name": "python3"
  },
  "language_info": {
   "codemirror_mode": {
    "name": "ipython",
    "version": 3
   },
   "file_extension": ".py",
   "mimetype": "text/x-python",
   "name": "python",
   "nbconvert_exporter": "python",
   "pygments_lexer": "ipython3",
   "version": "3.10.6"
  },
  "vscode": {
   "interpreter": {
    "hash": "440ded6bd466dc632760b2783eaa5924fc8bb7d8bd9dda723193caf011fd0fab"
   }
  }
 },
 "nbformat": 4,
 "nbformat_minor": 4
}