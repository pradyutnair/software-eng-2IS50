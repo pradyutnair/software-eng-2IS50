{
 "cells": [
  {
   "cell_type": "markdown",
   "metadata": {},
   "source": [
    "# 2IS50 - Exercises Week 3 22-23\n",
    "\n",
    "This Jupyter notebook provides exercises for practicing your programming skills.\r\n",
    "\r\n",
    "**Notes**:\r\n",
    "* Submit your _personalized_ notebook to Canvas.\r\n",
    "* You then get automatic feedback from Momotor.\r\n",
    "* A score below 80% is treated as a 0.\r\n",
    "* A score of 80% or more is treated as a 10.\r\n",
    "* The best five out of six exercise sets count."
   ]
  },
  {
   "cell_type": "markdown",
   "metadata": {},
   "source": [
    "## Table of Contents\n",
    "\n",
    "<div class=\"toc\" style=\"margin-top: 1em;\">\n",
    "    <ul class=\"toc-item\">\n",
    "        <li>\n",
    "            <span><a href=\"#duplicates\" data-toc-modified-id=\"Duplicates\">1. Duplicates</a></span>\n",
    "        </li>\n",
    "        <li>\n",
    "            <span><a href=\"#best-student\" data-toc-modified-id=\"Best-Student\">2. Best Student</a></span>\n",
    "        </li>\n",
    "        <li>\n",
    "            <span><a href=\"#lists-of-dictionaries\" data-toc-modified-id=\"Lists-of-Dictionaries\">3. Lists of Dictionaries</a></span>\n",
    "        </li>\n",
    "        <li>\n",
    "            <span><a href=\"#graph-stored-in-a-dictionary\" data-toc-modified-id=\"Graph-Stored-in-a-Dictionary\">4. Graph Stored in a Dictionary</a></span>\n",
    "        </li>\n",
    "        <li>\n",
    "            <span><a href=\"#invert-a-dictionary\" data-toc-modified-id=\"Invert-a-Dictionary\">5. Invert a Dictionary</a></span>\n",
    "        </li>\n",
    "        </ul>\n",
    "</div>"
   ]
  },
  {
   "cell_type": "markdown",
   "metadata": {},
   "source": [
    "\n",
    "# Introduction to This Template Notebook\n",
    "\n",
    "<div class=\"alert alert-danger\" role=\"danger\">\n",
    "<h3>Integrity</h3>\n",
    "<ul>\n",
    "    <li>In this course, you must act according to the rules of the TU/e code of scientific conduct.</li>\n",
    "    <li>All the exercises and the graded assignments are to be done within your programming homework group.</li>\n",
    "    <li>You must not copy from the Internet, your friends, books... If you represent other people's work as your own, then that constitutes fraud and will be reported to the Examination Committee.</li>\n",
    "    <li>Making your work available to others (complicity) also constitutes fraud.</li>\n",
    "</ul>\n",
    "</div>\n",
    "\n",
    "You are expected to work with Python 3 code in this notebook.\n",
    "\n",
    "The locations where you should write your solutions can be recognized by\n",
    "**marker lines**,\n",
    "which look like this:\n",
    "\n",
    ">`#//`\n",
    ">    `BEGIN_TODO [Label]` `Description` `(n points)`\n",
    ">\n",
    ">`#//`\n",
    ">    `END_TODO [Label]`\n",
    "\n",
    "<div class=\"alert alert-warning\" role=\"alert\">\n",
    "    <h3>Markers</h3>\n",
    "    Do NOT modify or delete these marker lines.  Keep them as they are.<br/>\n",
    "    NEVER write code that is needed for grading <i>outside</i> the marked blocks. It is invisible there.\n",
    "</div>\n",
    "\n",
    "Proceed in this notebook as follows:\n",
    "* **Personalize** the notebook (see below)\n",
    "* **Read** the text.\n",
    "* **Fill in** your solutions between `BEGIN_TODO` and `END_TODO` marker lines.\n",
    "* **Run** _all_ code cells (also the ones _without_ your code),\n",
    "    _in linear order_ from the first code cell.\n",
    "\n",
    "**Personalize your notebook**:\n",
    "1. Fill in your _full name_, _identification number_, and the current _date_ as strings between quotes.\n",
    "1. Run the code cell by putting the cursor there and typing **Control-Enter**.\n"
   ]
  },
  {
   "cell_type": "code",
   "execution_count": null,
   "metadata": {},
   "outputs": [],
   "source": [
    "#// BEGIN_TODO [Author] Name, Id.nr., Date, as strings (1 point)\n",
    "\n",
    "AUTHOR_NAME = 'Your Full Name'\n",
    "AUTHOR_ID_NR = '1234567'\n",
    "AUTHOR_DATE = '2023-03-06'  # when first modified, e.g. '2023-03-06'\n",
    "\n",
    "#// END_TODO [Author]\n",
    "\n",
    "AUTHOR_NAME, AUTHOR_ID_NR, AUTHOR_DATE"
   ]
  },
  {
   "cell_type": "markdown",
   "metadata": {},
   "source": [
    "\n",
    "## How to Submit Your Work\n",
    "\n",
    "1. **Rename the notebook**, replacing `...-template.ipynb` with `...-yourIDnr.ipynb`, where `yourIDnr` is your TU/e identification number.\n",
    "\n",
    "1. **Before submitting**, you must run your notebook by doing **Kernel > Restart & Run All**. Make sure that your notebook runs without errors **in linear order**.\n",
    "\n",
    "1. Submit the executed notebook with your work for the appropriate assignment in **Canvas**.\n",
    "\n",
    "1. In the **Momotor** tab in Canvas, you can select that assignment again to find some feedback on your submitted work.\n",
    "  \n",
    "1. If there are any problems reported by _Momotor_, then you need to fix those issues and **resubmit the fixed notebook**.\n"
   ]
  },
  {
   "cell_type": "markdown",
   "metadata": {},
   "source": [
    "## Preliminaries\n",
    "\n",
    "Run the cell below. This cell will import additional modules providing additional Python functionality."
   ]
  },
  {
   "cell_type": "code",
   "execution_count": null,
   "metadata": {},
   "outputs": [],
   "source": [
    "# Imports\n",
    "import doctest\n",
    "from collections import Counter, defaultdict\n",
    "from typing import Dict, Iterable, List, Set"
   ]
  },
  {
   "cell_type": "markdown",
   "metadata": {},
   "source": [
    "\n",
    "## Important Reminder\n",
    "\n",
    "Follow all coding conventions defined in the Python Coding Standard document. Remember that you are not just programming for a **machine**, you are mainly programming for other **humans**! In particular:  \n",
    "- all function definitions must have **type hints** and a **docstring**, and;\n",
    "- a *valid docstring* starts with a **capital letter** and ends with a **dot**. \n"
   ]
  },
  {
   "cell_type": "markdown",
   "metadata": {},
   "source": [
    "# Duplicates"
   ]
  },
  {
   "attachments": {},
   "cell_type": "markdown",
   "metadata": {},
   "source": [
    "Define the function `duplicates` that given an iterable of strings (representing the words in a text),\n",
    "returns the set of strings that occur more than once.  \n",
    "Provide type hint `Iterable[str]` for the parameter.  \n",
    "Provide a docstring with atleast two `doctest` examples.  \n",
    "Use a _set comprehension_ to collect the duplicate words. \n",
    "Use the `Counter()` function.  \n",
    "Use the `items()` method of the `Counter` object to itterate over `word, count` pairs. \n",
    "\n",
    "**Example 1:**  \n",
    "*Input:*  \n",
    "<pre>\n",
    "duplicates([\"Hello\", \"World\"])\n",
    "</pre>\n",
    "\n",
    "*Output:*  \n",
    "<pre>\n",
    " `set()` (the empty set)\n",
    "</pre>\n",
    "\n",
    "\n",
    "**Example 2:**  \n",
    "*Input:*  \n",
    "<pre>\n",
    "duplicates('Hi hi hi ha ha ha'.split())\n",
    "</pre>\n",
    "\n",
    "*Output:*  \n",
    "<pre>\n",
    "{'hi', 'ha'}\n",
    "</pre>"
   ]
  },
  {
   "cell_type": "code",
   "execution_count": null,
   "metadata": {},
   "outputs": [],
   "source": [
    "#// BEGIN_TODO [duplicates] duplicates\n",
    "\n",
    "# ===== =====> Replace this line by your code. <===== ===== #\n",
    "\n",
    "#// END_TODO [duplicates]"
   ]
  },
  {
   "cell_type": "code",
   "execution_count": null,
   "metadata": {},
   "outputs": [],
   "source": [
    "doctest.run_docstring_examples(duplicates, globs=globals(), verbose=True, name='duplicates')"
   ]
  },
  {
   "cell_type": "markdown",
   "metadata": {},
   "source": [
    "# Best Student"
   ]
  },
  {
   "attachments": {},
   "cell_type": "markdown",
   "metadata": {},
   "source": [
    "We are using a dictionary called ```students``` to store student names and\n",
    "their corresponding list of grades obtained from several assignments.\n",
    "This dictionary has type `Dict[str, List[int]]`.\n",
    "An example of such a dictionary containing the grades of three students is given below:\n",
    "\n",
    "```Python\n",
    "students = {'Max': [9, 9, 8, 10, 8, 7], \n",
    "            'Peter': [10, 10, 8, 9, 9, 10], \n",
    "            'Bert': [5, 6, 7, 8, 9, 10],\n",
    "           }\n",
    "```\n",
    "\n",
    "Define the function `best_student` that accepts the dictionary `students`\n",
    "and returns a string with the name of a student having the best average grade.  \n",
    "For a student without grades, take the average as 0.  \n",
    "If the dictionary is empty, return the empty string.  \n",
    "If there are multiple students with the best average, return any of them.\n",
    "\n",
    "\n",
    "**Notes**:\n",
    "* Student names are not empty.\n",
    "\n",
    "\n",
    "**Example:**  \n",
    "*Input:*  \n",
    "<pre>\n",
    "students = {'Max': [9, 9, 8, 10, 8, 7], \n",
    "            'Peter': [10, 10, 8, 9, 9, 10], \n",
    "            'Bert': [5, 6, 7, 8, 9, 10],\n",
    "           }\n",
    "</pre>\n",
    "\n",
    "*Output:*  \n",
    "<pre>\n",
    "'Peter'\n",
    "</pre>"
   ]
  },
  {
   "cell_type": "code",
   "execution_count": null,
   "metadata": {},
   "outputs": [],
   "source": [
    "#// BEGIN_TODO [best_student] Best student\n",
    "\n",
    "# ===== =====> Replace this line by your code. <===== ===== #\n",
    "\n",
    "#// END_TODO [best_student]"
   ]
  },
  {
   "cell_type": "code",
   "execution_count": null,
   "metadata": {},
   "outputs": [],
   "source": [
    "doctest.run_docstring_examples(best_student, globs=globals(), verbose=True, name='best_student')"
   ]
  },
  {
   "cell_type": "markdown",
   "metadata": {},
   "source": [
    "# Lists of Dictionaries"
   ]
  },
  {
   "attachments": {},
   "cell_type": "markdown",
   "metadata": {},
   "source": [
    "Lists of dictionaries are commonly used to stored structured data. The following cell presents the list ```cars```, which contains dictionaries with car information with the keys: ```'brand'```, ```'model'```, ```'manufacture year'```, and ```'price'```.\n",
    "\n",
    "We want to include in these dictionaries two additional keys: the distance traveled by a car and the factory where the car was manufactured. \n",
    "\n",
    "Your task is to write a program fragment to update ```cars``` by adding the keys ```'distance'``` and ```'origin'``` whose values are computed considering the following requirements:\n",
    "* Cars are driven for a total of $240\\,000$ km per year.\n",
    "* Expensive cars (price > $37\\,500$) are only driven for $80\\,000$ km a year.\n",
    "* In their first _completed_ year, cars are driven for only half of their normal distance,\n",
    "  but in the first year, before it is completed, take $0$ as distance.\n",
    "* The regular McFarri cars are from `\"Britain\"`, but the s-class cars are manufactured in `\"Italy\"`.\n",
    "* The Tipsla cars are manufactured in `\"The Netherlands\"`, except for the Tipsla XF2.0 that is manufactured in `\"USA\"`.\n",
    "* All Nissotas are manufactured in `\"Japan\"`.\n",
    "\n",
    "\n",
    "The same transformation applies to the remaining dictionaries contained in the list ```cars```.\n",
    "\n",
    "When computing the values of ```distance```,  the ```current_year``` must be used to compute the number of years a car has been driven. This number should be an integer.\n",
    "\n",
    "**Notes**:\n",
    "* You may assume\n",
    "```python\n",
    "all(car['manufacture year'] <= current_year for car in cars)\n",
    "```\n",
    "* You can also use the `update()` method to add key-value pairs to a dictionary\n",
    "* The modified dictionaries must have the required keys, but their order is not relevant.\n",
    "\n",
    "\n",
    "**Example:**  \n",
    "*Input:* \n",
    "Take `current_year = 2023`\n",
    "<pre>\n",
    "{'brand': 'McFarri', 'model': '445', 'manufacture year': 1980, 'price': 18000}\n",
    "</pre>\n",
    "\n",
    "*Output:*  \n",
    "<pre>\n",
    "{'brand': 'McFarri', 'model': '445', 'manufacture year': 1980, 'price': 18000,\n",
    " 'distance': 10200000, 'origin': 'Britain'\n",
    "}\n",
    "</pre>"
   ]
  },
  {
   "cell_type": "code",
   "execution_count": null,
   "metadata": {},
   "outputs": [],
   "source": [
    "# Do not modify the code in this cell\n",
    "\n",
    "cars = [{'brand': 'McFarri', 'model': '445', 'manufacture year': 1980, 'price': 18000},\n",
    "        {'brand': 'McFarri', 'model': '455', 'manufacture year': 1985, 'price': 22000},\n",
    "        {'brand': 'McFarri', 'model': '545', 'manufacture year': 1998, 'price': 28000},\n",
    "        {'brand': 'McFarri', 'model': '555', 'manufacture year': 2001, 'price': 30599},\n",
    "        {'brand': 'McFarri', 'model': 's445', 'manufacture year': 2007, 'price': 36000},\n",
    "        {'brand': 'McFarri', 'model': 's455', 'manufacture year': 2008, 'price': 44000},\n",
    "        {'brand': 'McFarri', 'model': 's545', 'manufacture year': 2013, 'price': 56000},\n",
    "        {'brand': 'McFarri', 'model': 's555', 'manufacture year': 2017, 'price': 112599},\n",
    "        {'brand': 'Tipsla', 'model': 'S', 'manufacture year': 2008, 'price': 24000},\n",
    "        {'brand': 'Tipsla', 'model': 'S2', 'manufacture year': 2010, 'price': 32999},\n",
    "        {'brand': 'Tipsla', 'model': 'X', 'manufacture year': 2013, 'price': 28999},\n",
    "        {'brand': 'Tipsla', 'model': 'X2', 'manufacture year': 2015, 'price': 35999},\n",
    "        {'brand': 'Tipsla', 'model': 'XF', 'manufacture year': 2018, 'price': 39999},\n",
    "        {'brand': 'Tipsla', 'model': 'XF2.0', 'manufacture year': 2019, 'price': 49999},\n",
    "        {'brand': 'Nissota', 'model': 'root', 'manufacture year': 1990, 'price': 12500},\n",
    "        {'brand': 'Nissota', 'model': 'stem', 'manufacture year': 1998, 'price': 17500},\n",
    "        {'brand': 'Nissota', 'model': 'branch', 'manufacture year': 2010, 'price': 23999},\n",
    "        {'brand': 'Nissota', 'model': 'leaf', 'manufacture year': 2015, 'price': 31999},\n",
    "       ]"
   ]
  },
  {
   "cell_type": "code",
   "execution_count": null,
   "metadata": {},
   "outputs": [],
   "source": [
    "current_year = 2023\n",
    "\n",
    "#// BEGIN_TODO [list_of_dictionaries] List of Dictionaries\n",
    "\n",
    "# ===== =====> Replace this line by your code. <===== ===== #\n",
    "\n",
    "#// END_TODO [list_of_dictionaries]\n",
    "\n",
    "cars"
   ]
  },
  {
   "cell_type": "markdown",
   "metadata": {},
   "source": [
    "# Graph Stored in a Dictionary"
   ]
  },
  {
   "attachments": {},
   "cell_type": "markdown",
   "metadata": {},
   "source": [
    "A (directed) _graph_ (or network) can be represented by a dictionary `d` of type `Dict[T, Set[T]]`,\n",
    "  where `T` is a _hashable_ type, such as `int` or `str`:\n",
    "* The _vertices_ of the graph (or nodes of the network) are stored as the keys: `d.keys()`.\n",
    "* The _edges_ of the graph (or connections of the network) are pairs `(k, v)` where `v in d[k]`.  \n",
    "  The dictionary maps each vertex `k` to the set `d[k]` of targets for edges with source `k`.\n",
    "\n",
    "This is known as the **adjacency-list** representation.\n",
    "(See e.g. [Representing graphs](https://www.khanacademy.org/computing/computer-science/algorithms/graph-representation/a/representing-graphs) on Khan Academy.)\n",
    "\n",
    "Define the function `edge_count` that takes a graph `g: Dict[int, Set[int]]` as a parameter\n",
    "and returns the number of edges in the graph.\n",
    "\n",
    "\n",
    "**Notes**:\n",
    "* Don't forget to write type hints and an appropriate docstring.\n",
    "* Add _at least two_ relevant doctest examples:\n",
    "  * one boundary case\n",
    "  * one small typical case\n",
    "* Use `g.values()` and `len`, and\n",
    "  * either a `for`-loop and a `count` variable, or\n",
    "  * `sum` and a list comprehension.\n",
    "* N.B. Instead of `sum([item for item in iterable])`,\n",
    "  it is more efficient to use `sum(item for item in iterable)`, because then the list of all items will _not_ be stored before summing.\n",
    "\n",
    "\n",
    "**Example:**  \n",
    "*Input:*  \n",
    "<pre>\n",
    "edge_count({1: {1, 2, 3}, 2: {1}, 3: set()})\n",
    "</pre>\n",
    "\n",
    "*Output:*  \n",
    "<pre>\n",
    "4\n",
    "</pre>"
   ]
  },
  {
   "cell_type": "code",
   "execution_count": null,
   "metadata": {},
   "outputs": [],
   "source": [
    "#// BEGIN_TODO [edge_count] Count edges in graph\n",
    "\n",
    "# ===== =====> Replace this line by your code. <===== ===== #\n",
    "\n",
    "#// END_TODO [edge_count]"
   ]
  },
  {
   "cell_type": "markdown",
   "metadata": {},
   "source": [
    "Run the next cell to execute the doctest examples."
   ]
  },
  {
   "cell_type": "code",
   "execution_count": null,
   "metadata": {},
   "outputs": [],
   "source": [
    "doctest.run_docstring_examples(edge_count, globals(), verbose=True, name='edge_count')"
   ]
  },
  {
   "cell_type": "markdown",
   "metadata": {},
   "source": [
    "# Invert a Dictionary"
   ]
  },
  {
   "attachments": {},
   "cell_type": "markdown",
   "metadata": {},
   "source": [
    "Define the function `invert_dict` that given a dictionary with strings as keys and integers as values,\n",
    "returns the _inverted_ dictionary;\n",
    "that is, a dictionary with integers as keys (page numbers) and _set_ of strings as values\n",
    "(set of words),\n",
    "such that that\n",
    "```python\n",
    "    (arg[key] == value) == (key in result[value])\n",
    "```\n",
    "To make this more concrete, imagine that the given dictionary\n",
    "registers for each word (`str`) of a text how often (`int`) it occurs in that text.\n",
    "Inverting that dictionary boils down to finding out for each occurrence count (`int`),\n",
    "which words (`Set[str]`) occur that many times.\n",
    "\n",
    "* Add at least two relevant doctest examples.\n",
    "    * For your doctest examples,\n",
    "      keep in mind that sets do not print in any particular order.  \n",
    "      So, in case sets contain more than one member,\n",
    "      check the returned result by comparing it to the expected value,\n",
    "      producing a boolean result, and check that the comparison yields `True`:\n",
    "      ```python\n",
    "      >>> call_function(arguments) == expected_value\n",
    "      True\n",
    "       ```\n",
    "* You must aim for an _efficient_ solution,\n",
    "  that traverses the given dictionary _just once_.\n",
    "  * So, the following solution is _not_ allowed:\n",
    "```python\n",
    "    return {value: {key for key, v in arg.items() if v == value}\n",
    "            for value in set(arg.values())}\n",
    "```\n",
    "\n",
    "  * Use a `defaultdict(set)`.\n",
    "  * Loop over the keys and values (cf. `dict.items()`) in the given dictionary,\n",
    "    and build up the resulting dictionary.\n",
    "  * Before returning, convert the result to a regular dictionary using `dict(...)`.\n",
    "\n",
    "**Notes**:\n",
    "* Don't forget to write type hints and an appropriate docstring.\n",
    "  * Use `Dict[str, int]` as a type hint for the parameter.\n",
    "  * Use `Dict[int, Set[str]]` as a type hint for the return value.\n",
    "\n",
    "\n",
    "\n",
    "**Example:**  \n",
    "*Input:*  \n",
    "<pre>\n",
    "invert_dict({'one': 1, 'two':2, 'one again':1})\n",
    "</pre>\n",
    "\n",
    "*Output:*  \n",
    "<pre>\n",
    "{1: {'one','one again'}, 2: {'two'}}\n",
    "</pre>"
   ]
  },
  {
   "cell_type": "code",
   "execution_count": null,
   "metadata": {},
   "outputs": [],
   "source": [
    "#// BEGIN_TODO [invert_a_dictionary] Invert a Dictionary\n",
    "\n",
    "# ===== =====> Replace this line by your code. <===== ===== #\n",
    "\n",
    "#// END_TODO [invert_a_dictionary]"
   ]
  },
  {
   "cell_type": "markdown",
   "metadata": {},
   "source": [
    "Run the next cell to execute the doctest examples."
   ]
  },
  {
   "cell_type": "code",
   "execution_count": null,
   "metadata": {},
   "outputs": [],
   "source": [
    "doctest.run_docstring_examples(invert_dict, globals(), verbose=True, name='invert_dict')"
   ]
  },
  {
   "cell_type": "markdown",
   "metadata": {},
   "source": [
    "\n",
    "---"
   ]
  },
  {
   "cell_type": "code",
   "execution_count": null,
   "metadata": {},
   "outputs": [],
   "source": [
    "# List of all defined names\n",
    "%whos"
   ]
  },
  {
   "cell_type": "markdown",
   "metadata": {},
   "source": [
    "---\n",
    "\n",
    "# (End of Notebook)\n",
    "\n",
    "&copy; 2017-2023 - **TU/e** - Eindhoven University of Technology\n"
   ]
  }
 ],
 "metadata": {
  "anaconda-cloud": {},
  "kernelspec": {
   "display_name": "Python 3.10.6 ('venv': venv)",
   "language": "python",
   "name": "python3"
  },
  "language_info": {
   "codemirror_mode": {
    "name": "ipython",
    "version": 3
   },
   "file_extension": ".py",
   "mimetype": "text/x-python",
   "name": "python",
   "nbconvert_exporter": "python",
   "pygments_lexer": "ipython3",
   "version": "3.10.6"
  },
  "vscode": {
   "interpreter": {
    "hash": "440ded6bd466dc632760b2783eaa5924fc8bb7d8bd9dda723193caf011fd0fab"
   }
  }
 },
 "nbformat": 4,
 "nbformat_minor": 4
}