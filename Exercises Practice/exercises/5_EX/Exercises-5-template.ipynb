{
 "cells": [
  {
   "cell_type": "markdown",
   "metadata": {},
   "source": [
    "# 2IS50 - Exercises Week 5 22-23\n",
    "\n",
    "This Jupyter notebook provides exercises for practicing your programming skills.\n",
    "\n",
    "**Notes**:\n",
    "* Submit your _personalized_ notebook to Canvas.\n",
    "* You then get automatic feedback from Momotor.\n",
    "* A score below 80% is treated as a 0.\n",
    "* A score of 80% or more is treated as a 10.\n",
    "* The best five out of six exercise sets count."
   ]
  },
  {
   "cell_type": "markdown",
   "metadata": {},
   "source": [
    "## Table of Contents\n",
    "\n",
    "<div class=\"toc\" style=\"margin-top: 1em;\">\n",
    "    <ul class=\"toc-item\">\n",
    "        <li>\n",
    "            <span><a href=\"#dice-game-functionally-decomposed\" data-toc-modified-id=\"Dice-Game-Functionally-Decomposed\">1. Dice Game Functionally Decomposed</a></span>\n",
    "        </li>\n",
    "        <li>\n",
    "            <span><a href=\"#exceptions\" data-toc-modified-id=\"Exceptions\">2. Exceptions</a></span>\n",
    "        </li>\n",
    "        <li>\n",
    "            <span><a href=\"#object-oriented-die\" data-toc-modified-id=\"Object-Oriented-Die\">3. Object</a></span>\n",
    "        </li>\n",
    "        <li>\n",
    "            <span><a href=\"#object-oriented-diceset\" data-toc-modified-id=\"Object-Oriented-DiceSet\">4. Object</a></span>\n",
    "        </li>\n",
    "        <li>\n",
    "            <span><a href=\"#game-table\" data-toc-modified-id=\"Game-Table\">5. Game Table</a></span>\n",
    "        </li>\n",
    "        </ul>\n",
    "</div>"
   ]
  },
  {
   "cell_type": "markdown",
   "metadata": {},
   "source": [
    "\n",
    "# Introduction to This Template Notebook\n",
    "\n",
    "<div class=\"alert alert-danger\" role=\"danger\">\n",
    "<h3>Integrity</h3>\n",
    "<ul>\n",
    "    <li>In this course, you must act according to the rules of the TU/e code of scientific conduct.</li>\n",
    "    <li>All the exercises and the graded assignments are to be done within your programming homework group.</li>\n",
    "    <li>You must not copy from the Internet, your friends, books... If you represent other people's work as your own, then that constitutes fraud and will be reported to the Examination Committee.</li>\n",
    "    <li>Making your work available to others (complicity) also constitutes fraud.</li>\n",
    "</ul>\n",
    "</div>\n",
    "\n",
    "You are expected to work with Python 3 code in this notebook.\n",
    "\n",
    "The locations where you should write your solutions can be recognized by\n",
    "**marker lines**,\n",
    "which look like this:\n",
    "\n",
    ">`#//`\n",
    ">    `BEGIN_TODO [Label]` `Description` `(n points)`\n",
    ">\n",
    ">`#//`\n",
    ">    `END_TODO [Label]`\n",
    "\n",
    "<div class=\"alert alert-warning\" role=\"alert\">\n",
    "    <h3>Markers</h3>\n",
    "    Do NOT modify or delete these marker lines.  Keep them as they are.<br/>\n",
    "    NEVER write code that is needed for grading <i>outside</i> the marked blocks. It is invisible there.\n",
    "</div>\n",
    "\n",
    "Proceed in this notebook as follows:\n",
    "* **Personalize** the notebook (see below)\n",
    "* **Read** the text.\n",
    "* **Fill in** your solutions between `BEGIN_TODO` and `END_TODO` marker lines.\n",
    "* **Run** _all_ code cells (also the ones _without_ your code),\n",
    "    _in linear order_ from the first code cell.\n",
    "\n",
    "**Personalize your notebook**:\n",
    "1. Fill in your _full name_, _identification number_, and the current _date_ as strings between quotes.\n",
    "1. Run the code cell by putting the cursor there and typing **Control-Enter**.\n"
   ]
  },
  {
   "cell_type": "code",
   "execution_count": null,
   "metadata": {},
   "outputs": [],
   "source": [
    "#// BEGIN_TODO [Author] Name, Id.nr., Date, as strings (1 point)\n",
    "\n",
    "AUTHOR_NAME = 'Your Full Name'\n",
    "AUTHOR_ID_NR = '1234567'\n",
    "AUTHOR_DATE = '2023-03-06'  # when first modified, e.g. '2023-03-06'\n",
    "\n",
    "#// END_TODO [Author]\n",
    "\n",
    "AUTHOR_NAME, AUTHOR_ID_NR, AUTHOR_DATE"
   ]
  },
  {
   "cell_type": "markdown",
   "metadata": {},
   "source": [
    "\n",
    "## How to Submit Your Work\n",
    "\n",
    "1. **Rename the notebook**, replacing `...-template.ipynb` with `...-yourIDnr.ipynb`, where `yourIDnr` is your TU/e identification number.\n",
    "\n",
    "1. **Before submitting**, you must run your notebook by doing **Kernel > Restart & Run All**. Make sure that your notebook runs without errors **in linear order**.\n",
    "\n",
    "1. Submit the executed notebook with your work for the appropriate assignment in **Canvas**.\n",
    "\n",
    "1. In the **Momotor** tab in Canvas, you can select that assignment again to find some feedback on your submitted work.\n",
    "  \n",
    "1. If there are any problems reported by _Momotor_, then you need to fix those issues and **resubmit the fixed notebook**.\n"
   ]
  },
  {
   "cell_type": "markdown",
   "metadata": {},
   "source": [
    "## Preliminaries\n",
    "\n",
    "Run the cell below. This cell will import additional modules providing additional Python functionality."
   ]
  },
  {
   "cell_type": "code",
   "execution_count": null,
   "metadata": {},
   "outputs": [],
   "source": [
    "# Imports\n",
    "import doctest\n",
    "import random\n",
    "from typing import Counter, Iterable, Iterator, List, Optional, Sequence"
   ]
  },
  {
   "cell_type": "markdown",
   "metadata": {},
   "source": [
    "\n",
    "## Important Reminder\n",
    "\n",
    "Follow all coding conventions defined in the Python Coding Standard document. Remember that you are not just programming for a **machine**, you are mainly programming for other **humans**! In particular:  \n",
    "- all function definitions must have **type hints** and a **docstring**, and;\n",
    "- a *valid docstring* starts with a **capital letter** and ends with a **dot**. \n"
   ]
  },
  {
   "cell_type": "markdown",
   "metadata": {},
   "source": [
    "# Dice Game Functionally Decomposed"
   ]
  },
  {
   "cell_type": "markdown",
   "metadata": {},
   "source": [
    "Consider the following dice game, called *Unique Max*, or _UMax_ for short.\n",
    "\n",
    "Each of the $n$ players ($n \\ge 1$) roll their dice once per _round_.\n",
    "Player 1 rolls a (fair) *dodecahedron*, having 12 faces with the numbers 1 through 12.\n",
    "The other players (2 through $n$) roll two (fair) *regular dice*,\n",
    "each having 6 faces with the numbers 1 through 6.\n",
    "The player with the _unique highest roll_ wins the round.\n",
    "If the highest roll is not unique, then there is no round winner.\n",
    "\n",
    "> Story: Player 1 asked permission to use a dodecahdron instead of two regular dice,\n",
    "> because her hand was hurt.\n",
    "> She accepted the fact that this would lower her average roll value from 7 to 6.5.\n",
    ">\n",
    "> Question: How does this affect her winning probability?\n",
    "\n",
    "I am very proud of the (*monolithic*) definition of the function `simulate` given below\n",
    "(I must admit that I am new to Python).\n",
    "\n",
    "Please, review my code (read it, to verify that it is correct)."
   ]
  },
  {
   "cell_type": "code",
   "execution_count": null,
   "metadata": {},
   "outputs": [],
   "source": [
    "def simulate(n: int, r: int) -> Sequence[int]:\n",
    "    \"\"\"\n",
    "    Simulate r rounds of the n-player game UMax,\n",
    "    returning a sequence with win counts.\n",
    "\n",
    "    :param n: number of players.\n",
    "    :param r: number of rounds.\n",
    "\n",
    "    :returns: a sequence with n + 1 elements.\n",
    "    \n",
    "    Details:\n",
    "\n",
    "    * result[0] == number of rounds without winner\n",
    "    * result[i] == number of wins for player i (1 <= i <= n)\n",
    "    \n",
    "    Assumptions:\n",
    "    \n",
    "    * n >= 1\n",
    "    * r >= 0\n",
    "    \n",
    "    >>> simulate(5, 0)  # boundary case\n",
    "    [0, 0, 0, 0, 0, 0]\n",
    "    >>> simulate(1, 10)  # boundary case\n",
    "    [0, 10]\n",
    "    >>> result = simulate(5, 10)  # typical case\n",
    "    >>> sum(result)\n",
    "    10\n",
    "    \"\"\"\n",
    "    assert n >= 1, \"n must be >= 1\"\n",
    "    assert r >= 0, \"r must be >= 0\"\n",
    "    \n",
    "    result = (n + 1) * [0]\n",
    "    \n",
    "    for _ in range(r):\n",
    "        # simulate one round\n",
    "        rolls = [0]  # dummy roll at index 0\n",
    "        \n",
    "        for i in range(1, 1 + n):\n",
    "            # roll dice for player i\n",
    "            if i == 1:\n",
    "                roll = random.randint(1, 12)\n",
    "\n",
    "            else:\n",
    "                roll = random.randint(1, 6) + random.randint(1, 6)\n",
    "            rolls.append(roll)\n",
    "            \n",
    "        m = 0  # maximum so far\n",
    "        \n",
    "        for i in range(1, 1 + n):\n",
    "            if rolls[i] > m:\n",
    "                m = rolls[i]\n",
    "        \n",
    "        c = 0  # count of m so far\n",
    "        \n",
    "        for i in range(1, 1 + n):\n",
    "            if rolls[i] == m:\n",
    "                c += 1\n",
    "                \n",
    "        if c > 1:\n",
    "            # no winner\n",
    "            winner = 0\n",
    "            \n",
    "        else:\n",
    "            \n",
    "            for winner in range(1, 1 + n):\n",
    "                if rolls[winner] == m:\n",
    "                    break\n",
    "        \n",
    "        result[winner] += 1\n",
    "        \n",
    "    return result"
   ]
  },
  {
   "cell_type": "code",
   "execution_count": null,
   "metadata": {},
   "outputs": [],
   "source": [
    "doctest.run_docstring_examples(simulate, globs=globals(), name='simulate')"
   ]
  },
  {
   "cell_type": "markdown",
   "metadata": {},
   "source": [
    "Run a smoke test:"
   ]
  },
  {
   "cell_type": "code",
   "execution_count": null,
   "metadata": {},
   "outputs": [],
   "source": [
    "simulate(5, 10)"
   ]
  },
  {
   "cell_type": "markdown",
   "metadata": {},
   "source": [
    "* Are the counts reasonable?\n",
    "* Do they add up to 10?\n",
    "* Does this reveal anything about the winning odds?\n",
    "\n",
    "Now, do a more serious run:"
   ]
  },
  {
   "cell_type": "code",
   "execution_count": null,
   "metadata": {},
   "outputs": [],
   "source": [
    "simulate(5, 1000)"
   ]
  },
  {
   "cell_type": "markdown",
   "metadata": {},
   "source": [
    "Any conclusion yet?\n",
    "\n",
    "Finally, do a more thorough investigation:"
   ]
  },
  {
   "cell_type": "code",
   "execution_count": null,
   "metadata": {},
   "outputs": [],
   "source": [
    "for n in range(2, 2 + 4):\n",
    "    print(simulate(n, 100000))"
   ]
  },
  {
   "cell_type": "markdown",
   "metadata": {},
   "source": [
    "Maybe you can now draw a better conclusion\n",
    "(winnings odds depending on the number of players)."
   ]
  },
  {
   "cell_type": "markdown",
   "metadata": {},
   "source": [
    "### Functional Decomposition\n",
    "\n",
    "Improve the code for `simulate` by applying functional decomposition:\n",
    "\n",
    "* define the _auxiliary_ functions\n",
    "  * `roll_dice(k: int, v: int) -> int` that rolls `k` dice with values 1 through `v`\n",
    "  * `roll_all(n: int) -> Sequence[int]` that returns the rolls for `n` players\n",
    "    (dummy player 0 always rolls 0)  \n",
    "    by calling `roll_dice`\n",
    "  * `simulate_round(n: int) -> int` that simulates one round with `n` players,\n",
    "    and returns player number who won the round (0 for no winner)\n",
    "\n",
    "And then define the function:\n",
    "```python\n",
    "def simulate_decomposed(n: int, r: int) -> Counter[int]:\n",
    "    ...\n",
    "```\n",
    "Wich functions identically to the `simulate` function defined above,\n",
    "but uses the auxiliary functions you defined earlyer.\n",
    "\n",
    "Incluide atleast 2 doctest examples for `simulate_ decomposed`.  \n",
    "In `roll_dice`, use `sum` with a *generator expression*.  \n",
    "In `simulate_round`, use the built-in Python functions\n",
    "* `max`\n",
    "* `list.count`\n",
    "* `list.index`  \n",
    "and a *conditional expression*:\n",
    "```python\n",
    "    return 0 if c > 1 else ...\n",
    "```  \n",
    "Inclide _type hints_ and a _docstring_ for each function.\n",
    "\n",
    "**Notes**:\n",
    "* In `roll_all`, you can use a _list comprehension_ for the rolls of players 2 through `n`.\n",
    "\n",
    "* In `simulate_decomposed`, you can use a _generator expression_ in\n",
    "  the constructor call of `Counter`:\n",
    "```python\n",
    "    return Counter(... for _ in range(r))\n",
    "```\n",
    "* No `doctest` examples are needed _in the auxiliary functions_."
   ]
  },
  {
   "cell_type": "code",
   "execution_count": null,
   "metadata": {},
   "outputs": [],
   "source": [
    "#// BEGIN_TODO [dice_game_functionally_decomposed] Dice Game Functionally Decomposed\n",
    "\n",
    "# ===== =====> Replace this line by your code. <===== ===== #\n",
    "\n",
    "#// END_TODO [dice_game_functionally_decomposed]"
   ]
  },
  {
   "cell_type": "code",
   "execution_count": null,
   "metadata": {},
   "outputs": [],
   "source": [
    "doctest.run_docstring_examples(simulate_decomposed, globs=globals(), name='simulate_decomposed')"
   ]
  },
  {
   "cell_type": "markdown",
   "metadata": {},
   "source": [
    "Let's redo the invesitation:"
   ]
  },
  {
   "cell_type": "code",
   "execution_count": null,
   "metadata": {},
   "outputs": [],
   "source": [
    "for n in range(2, 2 + 4):\n",
    "    print(simulate_decomposed(n, 100000).most_common())"
   ]
  },
  {
   "cell_type": "markdown",
   "metadata": {},
   "source": [
    "# Exceptions"
   ]
  },
  {
   "cell_type": "markdown",
   "metadata": {},
   "source": [
    "Suppose your program needs to read a bunch of integers from a text file (one per line).\n",
    "\n",
    "Instead of letting the conversion abort with an exception when it fails,\n",
    "we want the reader to log the error and continue.\n",
    "\n",
    "Define the function `read_ints` that\n",
    "* takes as a parameter an iterable of strings\n",
    "  (this could be a file opened for reading).\n",
    "* returns the list of integers read from the file.\n",
    "  * With type hint `List[Optional[int]]`. \n",
    "\n",
    "When conversion fails, put `None` in the list and\n",
    "print a message with the line number and the offending text.\n",
    "\n",
    "* Use `enumerate(lines, 1)` to get line numbers starting from 1.\n",
    "* Use `int(s, 0)` to convert string `s` to an integer,\n",
    "  allowing also binary, octal, and hexadecimal notation.\n",
    "* Rather than trying to recognize in advance whether a string will convert\n",
    "  to an int (LBYL), just do the conversion inside a `try` statement\n",
    "  and catch the `ValueError` (EAFP).  \n",
    "  (Execute `int('bad', 0)` and see what exception it raises.)\n",
    "* Strip the line when printing it (`line.strip()`), and quote it\n",
    "  by using `!r` in the format string (see example in the first code cell).\n",
    "* Incluide propper docstring and atleast 2 doctests.\n",
    "\n",
    "**Example:**  \n",
    "*Input:*  \n",
    "<pre>\n",
    "read_ints(['1', '2', 'three', '4', 'five'])\n",
    "</pre>\n",
    "\n",
    "*Output:*  \n",
    "\n",
    "returns `[1, 2, None, 4, None]` and prints\n",
    "<pre>\n",
    "Line 3 fails: 'three'\n",
    "Line 5 fails: 'five'\n",
    "</pre>"
   ]
  },
  {
   "cell_type": "code",
   "execution_count": null,
   "metadata": {},
   "outputs": [],
   "source": [
    "s = 'bcd'\n",
    "print(f\"a{s}e\")  # abcde\n",
    "print(f\"a{s!r}d\")  # a'bcd'e"
   ]
  },
  {
   "cell_type": "code",
   "execution_count": null,
   "metadata": {},
   "outputs": [],
   "source": [
    "#// BEGIN_TODO [exceptions] Exceptions\n",
    "\n",
    "# ===== =====> Replace this line by your code. <===== ===== #\n",
    "\n",
    "#// END_TODO [exceptions]"
   ]
  },
  {
   "cell_type": "code",
   "execution_count": null,
   "metadata": {},
   "outputs": [],
   "source": [
    "doctest.run_docstring_examples(read_ints, globals(), name='read_ints')"
   ]
  },
  {
   "cell_type": "markdown",
   "metadata": {},
   "source": [
    "# Object-Oriented Die"
   ]
  },
  {
   "cell_type": "markdown",
   "metadata": {},
   "source": [
    "Class `Die` makes available one die, with a given number of pips,\n",
    "in a given state:\n",
    "* `Die(lb, ub, state)` creates a die that can turn up an integer value `v` with `lb <= v <= ub`,\n",
    "    where the actual state is given by `state`;\n",
    "    (the latter can be `None` to indicate that the die wasn't yet rolled; the default state)\n",
    "* these arguments are accessible as attributes `dice.smallest`, `dice.largest`, and\n",
    "  `dice.state`  \n",
    "* its `__repr__` method returns a string of the form `Die(lb, ub, state)`\n",
    "* the die can be rolled: `die.roll()`, this generates a random number between `lb` and `ub `,  \n",
    "   sets `die.state` and also returns the value\n",
    "* the state can be cleared: `die.clear()` (sets `dice.state` to `None`)\n",
    "\n",
    "To use this class, you create a `Die` object once, and then repeatedly call `roll()`,\n",
    "which needs no parameters (they were provided at creation and stored in the object).\n",
    "\n",
    "Define methods `roll` and `clear`.\n",
    "\n",
    "Use `random.randint()` to generate random numbers.\n",
    "\n",
    "Incluide type hints and docstrings.\n",
    "\n",
    "**Notes**:\n",
    "* The class' docstring with `doctest` examples and the `__init__()` and `__repr__()` methods are given\n",
    "  (note the default arguments).\n",
    "* No `doctest` examples are required.\n",
    "\n",
    "\n",
    "**Example:**  \n",
    "*Input:*  \n",
    "<pre>\n",
    "die = Die(6, 6)\n",
    "die.roll()\n",
    "print(die.state)\n",
    "</pre>\n",
    "\n",
    "*Output:*  \n",
    "<pre>\n",
    "6\n",
    "</pre>\n",
    "\n",
    "*Input:*  \n",
    "<pre>\n",
    "die = Die(6, 6)\n",
    "die.roll()\n",
    "die.clear()\n",
    "print(die.state)\n",
    "</pre>\n",
    "\n",
    "*Output:*  \n",
    "<pre>\n",
    "None\n",
    "</pre>"
   ]
  },
  {
   "cell_type": "code",
   "execution_count": null,
   "metadata": {},
   "outputs": [],
   "source": [
    "class Die:\n",
    "    \"\"\"\n",
    "    A Die object represents a die, in a certain state.\n",
    "    A die can turn up an integer value v with self.smallest <= v <= self.largest with equal probabilities.\n",
    "    \n",
    "    The lower and upper bounds are intended to be immutable.\n",
    "    The state can change through the roll() and clear() methods.\n",
    "\n",
    "    \n",
    "    >>> die = Die(1, 1)  # boundary case\n",
    "    >>> die\n",
    "    Die(1, 1)\n",
    "    >>> die.smallest\n",
    "    1\n",
    "    >>> die.largest\n",
    "    1\n",
    "    >>> die.state\n",
    "    >>> die.roll()\n",
    "    1\n",
    "    >>> die\n",
    "    Die(1, 1, 1)\n",
    "    >>> die.clear()\n",
    "    >>> die\n",
    "    Die(1, 1)\n",
    "    >>> die = Die()\n",
    "    >>> die\n",
    "    Die(1, 6)\n",
    "    >>> die.smallest\n",
    "    1\n",
    "    >>> die.largest\n",
    "    6\n",
    "    >>> die.state\n",
    "    >>> for _ in range(100):\n",
    "    ...     v = die.roll()\n",
    "    ...     assert v == die.state\n",
    "    ...     assert die.smallest <= die.state <= die.largest\n",
    "    \"\"\"\n",
    "    \n",
    "    def __init__(self,\n",
    "                 lb: int = 1,\n",
    "                 ub: int = 6,\n",
    "                 state: Optional[int] = None) -> None:\n",
    "        \"\"\"\n",
    "        Create new Die object with values from lb through ub in given state.\n",
    "        State None indicates that the dice have not yet been rolled.\n",
    "        Default is a regular die that is not yet rolled.\n",
    "\n",
    "        :param lb: smallest value on the die.\n",
    "        :param ub: largest value on the die.\n",
    "        :param state: value of roll, if any.\n",
    "        :returns: None\n",
    "        \n",
    "        Assumptions:\n",
    "\n",
    "        * 1 <= lb <= ub\n",
    "        * if state is not None: lb <= state <= ub\n",
    "        \"\"\"\n",
    "        assert 1 <= lb, \"lb must be >= 1\"\n",
    "        assert lb <= ub, \"ub must be >= lb\"\n",
    "        if state is not None:\n",
    "            assert lb <= state <= ub, \"need smallest <= state <= largest, if state is not None\"\n",
    "        \n",
    "        self.smallest = lb  # smallest value on the die\n",
    "        self.largest= ub  # largest value on the die\n",
    "        self.state = state   # value of roll, if any\n",
    "    \n",
    "    def __repr__(self) -> str:\n",
    "        args = f\"{self.smallest}, {self.largest}\"\n",
    "        if self.state is not None:\n",
    "            args += f\", {self.state}\"\n",
    "        return f\"{self.__class__.__name__}({args})\"\n",
    "\n",
    "#// BEGIN_TODO [object_oriented_die] Object Oriented Die\n",
    "\n",
    "# ===== =====> Replace this line by your code. <===== ===== #\n",
    "\n",
    "#// END_TODO [object_oriented_die]"
   ]
  },
  {
   "cell_type": "code",
   "execution_count": null,
   "metadata": {},
   "outputs": [],
   "source": [
    "doctest.run_docstring_examples(Die(), globals(), verbose=True, name='Die')"
   ]
  },
  {
   "cell_type": "markdown",
   "metadata": {},
   "source": [
    "# Object-Oriented DiceSet"
   ]
  },
  {
   "cell_type": "markdown",
   "metadata": {},
   "source": [
    "A `DiceSet` is a collection of dice (objects of type `Die`)\n",
    "* `DiceSet(iterable)` creates a dice collection consisting of all dice from the iterable\n",
    "* these arguments are accessible in attribute `dice_set.dice`  \n",
    "* its `__repr__` method returns a string of the form `DiceSet([...])`\n",
    "* its `__iter__` method returns an iterator over all its dice\n",
    "* the dice can be rolled: `dice_set.roll()`; this rolls each die in `dice_set.dice`\n",
    "  and also returns the total value\n",
    "* the total value can also be obtained via attribute `dice_set.total`;\n",
    "  it is `None` when the dice are not rolled (set by `__init__()` and `dice.roll()`)\n",
    "* the value(s) can be cleared: `dice_set.clear()` (clears all dice and sets `dice_set.total` to `None`)\n",
    "* To use this class, you create a `DiceSet` object once, and then repeatedly call `roll()`,\n",
    "  which needs no parameters (they were provided at creation and stored in the object).\n",
    "\n",
    "Define methods `roll` and `clear`, ensure propper type hints and docstring.\n",
    "\n",
    "**Notes**:\n",
    "* The class' docstring witn `doctest` examples and the `__init__()` and `__repr__()` methods are given\n",
    "  (note the default arguments).\n",
    "* No `doctest` examples need to be defined.\n",
    "* Method `__iter__` is implicitly used in `__repr__` through `(... for die in self)`.\n",
    "* You can also use `for die in self` when defining `roll` and `clear`.\n",
    "\n",
    "**Example:**  \n",
    "*Input:*  \n",
    "<pre>\n",
    "dice_set = DiceSet(Die(6,6))\n",
    "print(dice_set.roll())\n",
    "print(dice_set.total)\n",
    "dice_set.clear()\n",
    "print(dice_set.total)\n",
    "</pre>\n",
    "\n",
    "*Output:*  \n",
    "<pre>\n",
    "6\n",
    "6\n",
    "None\n",
    "</pre>"
   ]
  },
  {
   "cell_type": "code",
   "execution_count": null,
   "metadata": {},
   "outputs": [],
   "source": [
    "class DiceSet:\n",
    "    \"\"\"\n",
    "    A DiceSet object has a name and a collection of `Die` objects, each in a certain state.\n",
    "\n",
    "    >>> dice_set = DiceSet()\n",
    "    >>> dice_set\n",
    "    DiceSet([Die(1, 6), Die(1, 6)])\n",
    "    >>> roll = dice_set.roll()\n",
    "    >>> roll == dice_set.total\n",
    "    True\n",
    "    >>> all(dice_set.roll() in range(2, 12+1) for _ in range(100))\n",
    "    True\n",
    "    >>> dice_set.clear()\n",
    "    >>> all(die.state is None for die in dice_set)\n",
    "    True\n",
    "    >>> dice_set.total is None\n",
    "    True\n",
    "    >>> dice_set = DiceSet([Die(1, 12)])\n",
    "    >>> dice_set\n",
    "    DiceSet([Die(1, 12)])\n",
    "    >>> all(dice_set.roll() in range(1, 12+1) for _ in range(100))\n",
    "    True\n",
    "    \"\"\"\n",
    "    \n",
    "    def __init__(self,\n",
    "                 dice: Optional[Iterable[Die]] = None) -> None:\n",
    "        \"\"\"\n",
    "        Create new DiceSet object with given dice.\n",
    "        If dice is None, then the dice set consistis of two regular dice.\n",
    "\n",
    "        :param dice: an itterable containing the dice objects. that will make up this set.\n",
    "        \"\"\"\n",
    "        self.dice = (Die(), Die()) if dice is None else tuple(dice)\n",
    "        self.total: Optional[int]\n",
    "        self.clear()\n",
    "    \n",
    "    def __repr__(self) -> str:\n",
    "        dice = ', '.join(f\"{die!r}\" for die in self)\n",
    "        return f\"{self.__class__.__name__}([{dice}])\"\n",
    "\n",
    "    def __iter__(self) -> Iterator[Die]:\n",
    "        \"\"\"\n",
    "        Implement iter(self).\n",
    "        \"\"\"\n",
    "        return iter(self.dice)\n",
    "    \n",
    "#// BEGIN_TODO [object_oriented_dice_set] Object Oriented Dice Set\n",
    "\n",
    "# ===== =====> Replace this line by your code. <===== ===== #\n",
    "\n",
    "#// END_TODO [object_oriented_dice_set]"
   ]
  },
  {
   "cell_type": "code",
   "execution_count": null,
   "metadata": {},
   "outputs": [],
   "source": [
    "doctest.run_docstring_examples(DiceSet(), globals(), verbose=False, name='DiceSet')"
   ]
  },
  {
   "cell_type": "markdown",
   "metadata": {},
   "source": [
    "# Game Table"
   ]
  },
  {
   "cell_type": "markdown",
   "metadata": {},
   "source": [
    "We give the definition of a `Player` class.\n",
    "Read its documentation and run its test cases."
   ]
  },
  {
   "cell_type": "code",
   "execution_count": null,
   "metadata": {},
   "outputs": [],
   "source": [
    "class Player:\n",
    "    \"\"\"\n",
    "    A Player with a name and a dice set.\n",
    "    \n",
    "    >>> player = Player(\"Test\")\n",
    "    >>> player\n",
    "    Player('Test', DiceSet([Die(1, 6), Die(1, 6)]))\n",
    "    >>> player.name\n",
    "    'Test'\n",
    "    >>> all(player.roll() in range(2, 12 + 1) for _ in range(100))\n",
    "    True\n",
    "    >>> player = Player(\"Special\", DiceSet([Die(12, 12)]))\n",
    "    >>> player\n",
    "    Player('Special', DiceSet([Die(12, 12)]))\n",
    "    >>> player.roll()\n",
    "    12\n",
    "    \"\"\"\n",
    "    \n",
    "    def __init__(self, name: str, dice_set: Optional[DiceSet] = None) -> None:\n",
    "        \"\"\"\n",
    "        Initialize player with given name and dice set.\n",
    "        If dice_set is None, then use a default dice set.\n",
    "\n",
    "        :param name: Player's name\n",
    "        :param dice_set: Player's dice set\n",
    "        :returns: None\n",
    "        \"\"\"\n",
    "        self.name = name\n",
    "        self.dice_set = DiceSet() if dice_set is None else dice_set\n",
    "        \n",
    "    def __repr__(self) -> str:\n",
    "        return f\"{self.__class__.__name__}({self.name!r}, {self.dice_set!r})\"\n",
    "    \n",
    "    def roll(self) -> int:\n",
    "        \"\"\"\n",
    "        Roll player's dice set and return total.\n",
    "        \n",
    "        :returns: Total of dice set roll.\n",
    "        \"\"\"\n",
    "        return self.dice_set.roll()"
   ]
  },
  {
   "cell_type": "code",
   "execution_count": null,
   "metadata": {},
   "outputs": [],
   "source": [
    "help(Player)"
   ]
  },
  {
   "cell_type": "code",
   "execution_count": null,
   "metadata": {},
   "outputs": [],
   "source": [
    "doctest.run_docstring_examples(Player(), globals(), verbose=False, name='Player')"
   ]
  },
  {
   "cell_type": "markdown",
   "metadata": {},
   "source": [
    "### Game Table\n",
    "Complete the definition of the class `GameTable`,\n",
    "by defining the methods:\n",
    "* `__iter__(self) -> Iterator[Player]`, wich returns an iterator over the players.\n",
    "* `play_round(self) -> str`, returning the name of the winner, `'<TIE>'` if no winner\n",
    "* `simulate(self, r: int) -> Counter[str]`, playing `r` rounds\n",
    "\n",
    "Ensure that `GameTable` also works without players!\n",
    "\n",
    "**Notes**:\n",
    "* In `play_round`, return `self.TIE` when the round has no winner.\n",
    "\n",
    "**Example:**  \n",
    "*Input:*  \n",
    "<pre>\n",
    "john = Player('John')\n",
    "table = GameTable([john])\n",
    "print(table.play_round())\n",
    "print(table.simulate(3))\n",
    "</pre>\n",
    "\n",
    "*Output:*  \n",
    "<pre>\n",
    "John\n",
    "Counter({'John': 3})\n",
    "</pre>"
   ]
  },
  {
   "cell_type": "code",
   "execution_count": null,
   "metadata": {},
   "outputs": [],
   "source": [
    "class GameTable:\n",
    "    \"\"\"\n",
    "    A GameTable with a number of players that supports game play.\n",
    "    \n",
    "    >>> game_table = GameTable([])\n",
    "    Traceback (most recent call last):\n",
    "        ....\n",
    "    AssertionError: at least 1 player needed\n",
    "    >>> game_table = GameTable([Player(\"Test\")])\n",
    "    >>> game_table.simulate(10)\n",
    "    Counter({'Test': 10})\n",
    "    >>> player_1 = Player(\"Test 1\", DiceSet([Die(1, 1)]))\n",
    "    >>> player_2 = Player(\"Test 2\", DiceSet([Die(1, 1)]))\n",
    "    >>> game_table = GameTable([player_1, player_2])\n",
    "    >>> game_table.play_round()\n",
    "    '<TIE>'\n",
    "    \"\"\"\n",
    "    \n",
    "    # constant representing a tie\n",
    "    TIE = '<TIE>'\n",
    "    \n",
    "    def __init__(self, players: Iterable[Player]) -> None:\n",
    "        \"\"\"\n",
    "        Initialize a game table with given players.\n",
    "\n",
    "        :param players: Players at the game table\n",
    "        :returns: None\n",
    "        \n",
    "        Assumptions:\n",
    "        \n",
    "        * there is at least one player\n",
    "        * player names are unique\n",
    "        \"\"\"\n",
    "        self.players = tuple(players)\n",
    "        assert self.players, \"at least 1 player needed\"\n",
    "        assert len(set(p.name for p in self.players)) == len(self.players), \"player names must be unique\"\n",
    "        \n",
    "    def __repr__(self) -> str:\n",
    "        players = ', '.join(f\"{player!r}\" for player in self)\n",
    "        return f\"{self.__class__.__name__}([{players}])\"        \n",
    "        \n",
    "#// BEGIN_TODO [game_table] Game Table\n",
    "\n",
    "# ===== =====> Replace this line by your code. <===== ===== #\n",
    "\n",
    "#// END_TODO [game_table]"
   ]
  },
  {
   "cell_type": "code",
   "execution_count": null,
   "metadata": {},
   "outputs": [],
   "source": [
    "doctest.run_docstring_examples(GameTable(), globals(), verbose=False, name='GameTable')"
   ]
  },
  {
   "cell_type": "markdown",
   "metadata": {},
   "source": [
    "Let's redo the investigation once more:"
   ]
  },
  {
   "cell_type": "code",
   "execution_count": null,
   "metadata": {},
   "outputs": [],
   "source": [
    "dodeca_set = DiceSet([Die(1, 12)])\n",
    "dodeca_player = Player(\"Dodecahedron\", dodeca_set)\n",
    "\n",
    "for n in range(2, 2 + 4):\n",
    "    other_players = [Player(f\"Regular {i}\") for i in range(2, n + 1)]\n",
    "    game_table = GameTable([dodeca_player] + other_players)\n",
    "    print(game_table.simulate(100000))"
   ]
  },
  {
   "cell_type": "markdown",
   "metadata": {},
   "source": [
    "\n",
    "---"
   ]
  },
  {
   "cell_type": "code",
   "execution_count": null,
   "metadata": {},
   "outputs": [],
   "source": [
    "# List of all defined names\n",
    "%whos"
   ]
  },
  {
   "cell_type": "markdown",
   "metadata": {},
   "source": [
    "---\n",
    "\n",
    "# (End of Notebook)\n",
    "\n",
    "&copy; 2017-2023 - **TU/e** - Eindhoven University of Technology\n"
   ]
  }
 ],
 "metadata": {
  "anaconda-cloud": {},
  "kernelspec": {
   "display_name": "Python 3 (ipykernel)",
   "language": "python",
   "name": "python3"
  },
  "language_info": {
   "codemirror_mode": {
    "name": "ipython",
    "version": 3
   },
   "file_extension": ".py",
   "mimetype": "text/x-python",
   "name": "python",
   "nbconvert_exporter": "python",
   "pygments_lexer": "ipython3",
   "version": "3.9.7"
  },
  "vscode": {
   "interpreter": {
    "hash": "440ded6bd466dc632760b2783eaa5924fc8bb7d8bd9dda723193caf011fd0fab"
   }
  }
 },
 "nbformat": 4,
 "nbformat_minor": 4
}
