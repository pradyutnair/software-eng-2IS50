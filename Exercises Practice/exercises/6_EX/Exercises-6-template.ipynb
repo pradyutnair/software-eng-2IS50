{
 "cells": [
  {
   "cell_type": "markdown",
   "metadata": {},
   "source": [
    "# 2IS50 - Exercises Week 6 22-23\n",
    "\n",
    "This Jupyter notebook provides exercises for practicing your programming skills.\n",
    "\n",
    "**Notes**:\n",
    "* Submit your _personalized_ notebook to Canvas.\n",
    "* You then get automatic feedback from Momotor.\n",
    "* A score below 80% is treated as a 0.\n",
    "* A score of 80% or more is treated as a 10.\n",
    "* The best five out of six exercise sets count."
   ]
  },
  {
   "cell_type": "markdown",
   "metadata": {},
   "source": [
    "## Table of Contents\n",
    "<div class=\"toc\" style=\"margin-top: 1em;\">\n",
    "    <ul class=\"toc-item\">\n",
    "        <li>\n",
    "            <span><a href=\"#Introduction-to-this-template-notebook\" data-toc-modified-id=\"Introduction-to-this-template-notebook\">Introduction to this template notebook</a></span>\n",
    "        </li>\n",
    "        <li>\n",
    "            <span><a href=\"#1.-Argument-Gathering\" data-toc-modified-id=\"1.-Argument-Gathering\">1. Argument Gathering</a></span>\n",
    "        </li>\n",
    "        <li>\n",
    "            <span><a href=\"#2.-Beating-Some-RPS-Players\" data-toc-modified-id=\"2.-Beating-Some-RPS-Players\">2. Beating Some RPS Players</a></span>\n",
    "        </li>\n",
    "        <li>\n",
    "            <span><a href=\"#3.-Recursive-QuickSort\" data-toc-modified-id=\"3.-Recursive-QuickSort\">3. Recursive QuickSort</a></span>\n",
    "        </li>\n",
    "        <li>\n",
    "            <span><a href=\"#4.-Recursive-Binary-Search\" data-toc-modified-id=\"4.-Recursive-Binary-Search\">4. Recursive Binary Search</a></span>\n",
    "        </li>\n",
    "    </ul>\n",
    "</div>"
   ]
  },
  {
   "cell_type": "markdown",
   "metadata": {},
   "source": [
    "\n",
    "# Introduction to This Template Notebook\n",
    "\n",
    "<div class=\"alert alert-danger\" role=\"danger\">\n",
    "<h3>Integrity</h3>\n",
    "<ul>\n",
    "    <li>In this course, you must act according to the rules of the TU/e code of scientific conduct.</li>\n",
    "    <li>All the exercises and the graded assignments are to be done within your programming homework group.</li>\n",
    "    <li>You must not copy from the Internet, your friends, books... If you represent other people's work as your own, then that constitutes fraud and will be reported to the Examination Committee.</li>\n",
    "    <li>Making your work available to others (complicity) also constitutes fraud.</li>\n",
    "</ul>\n",
    "</div>\n",
    "\n",
    "You are expected to work with Python 3 code in this notebook.\n",
    "\n",
    "The locations where you should write your solutions can be recognized by\n",
    "**marker lines**,\n",
    "which look like this:\n",
    "\n",
    ">`#//`\n",
    ">    `BEGIN_TODO [Label]` `Description` `(n points)`\n",
    ">\n",
    ">`#//`\n",
    ">    `END_TODO [Label]`\n",
    "\n",
    "<div class=\"alert alert-warning\" role=\"alert\">\n",
    "    <h3>Markers</h3>\n",
    "    Do NOT modify or delete these marker lines.  Keep them as they are.<br/>\n",
    "    NEVER write code that is needed for grading <i>outside</i> the marked blocks. It is invisible there.\n",
    "</div>\n",
    "\n",
    "Proceed in this notebook as follows:\n",
    "* **Personalize** the notebook (see below)\n",
    "* **Read** the text.\n",
    "* **Fill in** your solutions between `BEGIN_TODO` and `END_TODO` marker lines.\n",
    "* **Run** _all_ code cells (also the ones _without_ your code),\n",
    "    _in linear order_ from the first code cell.\n",
    "\n",
    "**Personalize your notebook**:\n",
    "1. Fill in your _full name_, _identification number_, and the current _date_ as strings between quotes.\n",
    "1. Run the code cell by putting the cursor there and typing **Control-Enter**.\n"
   ]
  },
  {
   "cell_type": "code",
   "execution_count": null,
   "metadata": {},
   "outputs": [],
   "source": [
    "#// BEGIN_TODO [Author] Name, Id.nr., Date, as strings (1 point)\n",
    "\n",
    "AUTHOR_NAME = 'Your Full Name'\n",
    "AUTHOR_ID_NR = '1234567'\n",
    "AUTHOR_DATE = '2023-03-06'  # when first modified, e.g. '2023-03-06'\n",
    "\n",
    "#// END_TODO [Author]\n",
    "\n",
    "AUTHOR_NAME, AUTHOR_ID_NR, AUTHOR_DATE"
   ]
  },
  {
   "cell_type": "markdown",
   "metadata": {
    "tags": []
   },
   "source": [
    "\n",
    "## How to Submit Your Work\n",
    "\n",
    "1. **Rename the notebook**, replacing `...-template.ipynb` with `...-yourIDnr.ipynb`, where `yourIDnr` is your TU/e identification number.\n",
    "\n",
    "1. **Before submitting**, you must run your notebook by doing **Kernel > Restart & Run All**. Make sure that your notebook runs without errors **in linear order**.\n",
    "\n",
    "1. Submit the executed notebook with your work for the appropriate assignment in **Canvas**.\n",
    "\n",
    "1. In the **Momotor** tab in Canvas, you can select that assignment again to find some feedback on your submitted work.\n",
    "  \n",
    "1. If there are any problems reported by _Momotor_, then you need to fix those issues and **resubmit the fixed notebook**.\n"
   ]
  },
  {
   "cell_type": "markdown",
   "metadata": {},
   "source": [
    "## Preliminaries\n",
    "\n",
    "Run the cell below. This cell will import additional modules providing additional Python functionality."
   ]
  },
  {
   "cell_type": "code",
   "execution_count": null,
   "metadata": {},
   "outputs": [],
   "source": [
    "# Imports\n",
    "import doctest\n",
    "import random\n",
    "import rps  # to run its doctest examples\n",
    "import seaborn as sns\n",
    "from rps import *\n",
    "from typing import Any, Counter, List, Mapping, Optional, Sequence, Tuple"
   ]
  },
  {
   "cell_type": "markdown",
   "metadata": {},
   "source": [
    "\n",
    "## Important Reminder\n",
    "\n",
    "Follow all coding conventions defined in the Python Coding Standard document. Remember that you are not just programming for a **machine**, you are mainly programming for other **humans**! In particular:  \n",
    "- all function definitions must have **type hints** and a **docstring**, and;\n",
    "- a *valid docstring* starts with a **capital letter** and ends with a **dot**. \n"
   ]
  },
  {
   "cell_type": "markdown",
   "metadata": {},
   "source": [
    "## 1. Argument Gathering"
   ]
  },
  {
   "cell_type": "markdown",
   "metadata": {},
   "source": [
    "### a. `mean`\n",
    "\n",
    "Define function `mean` that returns the [_arithmetic mean_](https://en.wikipedia.org/wiki/Arithmetic_mean) of all its arguments.\n",
    "In a formula, the arithmetic mean of values $s_1, s_2, \\ldots, s_n$ equals\n",
    "$$ \\frac{1}{n} \\sum_{i=1}^{n} s_i $$\n",
    "\n",
    "This is a _measure of central tendency_.\n",
    "\n",
    "**Examples**:\n",
    "* `mean(1.0)` returns `1.0`\n",
    "* `mean(1, 2, 4, 8)` returns `3.75`\n",
    "* `mean()` raises an `AssertionError`\n",
    "\n",
    "**Notes**:\n",
    "* All numbers involved have type `float`.\n",
    "* Function `mean` has a variable number of arguments.\n",
    "* You need at least _three_ `doctest` examples:\n",
    "  - without arguments, to test the `AssertionError`\n",
    "  - with a single argument (boundary case)\n",
    "  - with more than one argument (typical case)"
   ]
  },
  {
   "cell_type": "code",
   "execution_count": null,
   "metadata": {},
   "outputs": [],
   "source": [
    "#// BEGIN_TODO [mean] Compute mean of multiple arguments\n",
    "\n",
    "# ===== =====> Replace this line by your code. <===== ===== #\n",
    "\n",
    "#// END_TODO [mean]"
   ]
  },
  {
   "cell_type": "code",
   "execution_count": null,
   "metadata": {},
   "outputs": [],
   "source": [
    "doctest.run_docstring_examples(mean, globals(), verbose=True, name='mean')"
   ]
  },
  {
   "cell_type": "markdown",
   "metadata": {},
   "source": [
    "### b. `mean_mad`\n",
    "\n",
    "Define function `mean_mad` that returns a tuple of\n",
    "* the arithmetic mean and\n",
    "* the [_mean absolute deviation_](https://en.wikipedia.org/wiki/Law_of_large_numbers)\n",
    "  (MAD) of all its arguments.\n",
    "\n",
    "The MAD equals the arithmetic mean of the absolute difference between the given values and\n",
    "their arithmetic mean.\n",
    "In a formula, the mean absolute deviation of values $s_1, s_2, \\ldots, s_n$ equals\n",
    "$$ \\frac{1}{n} \\sum_{i=1}^{n} \\left|s_i - \\mu(s)\\right| $$\n",
    "where $\\mu(s)$ is the arithmetic mean of the $s$-values.\n",
    "\n",
    "The MAD is a *measure of variability* or *dispersion*,\n",
    "that is simpler than the standard deviation or variance.\n",
    "\n",
    "**Examples**:\n",
    "* `mean_mad(1.0)` returns `[1.0, 0.0]`\n",
    "* `mean_mad(1, 2, 4, 8)` returns `[3.75, 2.25]`\n",
    "* `mean_mad()` raises an `AssertionError`\n",
    "\n",
    "**Notes**:\n",
    "* All numbers have type `float`.\n",
    "* In the `doctest` examples, use the same inputs as for `mean`.\n",
    "* Avoid recomputation of the mean.\n",
    "* Use `mean` twice (the first time it is needed to compute $\\mu(s)$).\n",
    "* You can use the built-in function `abs` to take the absolute value.\n",
    "* Use a _generator expression_ as argument of the second call to `mean`\n",
    "  - This avoids storing all absolute deviations before computing their mean.\n",
    "  - You will need to prefix that generator expression with `*`,\n",
    "    when feeding it into `mean`."
   ]
  },
  {
   "cell_type": "code",
   "execution_count": null,
   "metadata": {},
   "outputs": [],
   "source": [
    "#// BEGIN_TODO [mean_mad] Compute mean and MAD of multiple arguments\n",
    "\n",
    "# ===== =====> Replace this line by your code. <===== ===== #\n",
    "\n",
    "#// END_TODO [mean_mad]"
   ]
  },
  {
   "cell_type": "code",
   "execution_count": null,
   "metadata": {},
   "outputs": [],
   "source": [
    "doctest.run_docstring_examples(mean_mad, globals(), verbose=True, name='mean_mad')"
   ]
  },
  {
   "cell_type": "markdown",
   "metadata": {},
   "source": [
    "### c. MAD Experiment (Law of Large Numbers)\n",
    "\n",
    "Let's do an experiment to see how the MAD varies\n",
    "when it is taken over larger samples.\n",
    "\n",
    "Consider random `float` numbers uniformly chosen from the unit interval $[0, 1)$.\n",
    "Their expected value is $0.5$.\n",
    "The mean taken over $n$ numbers will not equal $0.5$,\n",
    "but the larger $n$, the closer it clusters around $0.5$\n",
    "(less variability: [Law of Large Numbers](https://en.wikipedia.org/wiki/Law_of_large_numbers)).\n",
    "\n",
    "Function `experiment` defined below, computes the mean of `n` random numbers\n",
    "uniformly selected from the unit interval.\n",
    "\n",
    "For each fixed value of `n > 1`, its outcomes are again random, with mean $0.5$, \n",
    "but their distribution is no longer uniform (see the plots that follow)."
   ]
  },
  {
   "cell_type": "code",
   "execution_count": null,
   "metadata": {},
   "outputs": [],
   "source": [
    "def experiment(n: int) -> float:\n",
    "    \"\"\"Mean of n random numbers, uniformly selected from the unit interval.\n",
    "    \"\"\"\n",
    "    sample = (random.random() for _ in range(n))  # generator expression\n",
    "    return mean(*sample)"
   ]
  },
  {
   "cell_type": "markdown",
   "metadata": {},
   "source": [
    "Here are distribution density plots for several values of `n`,\n",
    "each based on 1000 experiments.\n",
    "You can see that the variability (dispersion) gets smaller as `n` gets larger."
   ]
  },
  {
   "cell_type": "code",
   "execution_count": null,
   "metadata": {},
   "outputs": [],
   "source": [
    "sns.distplot([experiment(1) for _ in range(1000)], norm_hist=True)\n",
    "sns.distplot([experiment(2) for _ in range(1000)], norm_hist=True)\n",
    "sns.distplot([experiment(4) for _ in range(1000)], norm_hist=True)\n",
    "sns.distplot([experiment(8) for _ in range(1000)], norm_hist=True);"
   ]
  },
  {
   "cell_type": "markdown",
   "metadata": {},
   "source": [
    "Theory predicts that the MAD is approximately proportional to $1/\\sqrt{n}$.\n",
    "That is, when $n$ is increased by a factor $k$,\n",
    "the MAD goes down by a factor $\\sqrt{k}$.\n",
    "E.g., if you want to reduce the MAD by a factor 10, you need 100 times the number of samples.\n",
    "\n",
    "Write code to print four columns for 1000 repetitions of `experiment(n)` each:\n",
    "* `n`,\n",
    "* the mean,\n",
    "* the MAD, and\n",
    "* the ratio of previous MAD with current MAD,\n",
    "\n",
    "where `n` starts at 2 and each time is multiplied by 4, ending with `n` equal 8192.\n",
    "\n",
    "**Example**:\n",
    "The first rows look like this (but most likely are not identical):\n",
    "```\n",
    "      n    mean     MAD   ratio\n",
    "      2 0.50063 0.15843      NA\n",
    "      8 0.49513 0.08274 1.91473\n",
    "     32 0.50138 0.03952 2.09389\n",
    "```\n",
    "\n",
    "**Notes**:\n",
    "* Print a header line with texts `n`, `mean`, `MAD`, `ratio`.\n",
    "* Print output in four _right-aligned_ columns of width 7\n",
    "  (this also applies to the columns headers),\n",
    "  where mean, MAD, and ratio are each shown with five decimal places.\n",
    "  - You can use format specifiers like `:>7` and `:7.5f`.\n",
    "* For `n == 2`, the `ratio` is not defined and printed as `NA`\n",
    "  (Not Applicable).\n",
    "* Use `experiment` and `mean_mad`.\n",
    "  - Don't use `mean` (that is also returned by `mean_mad`."
   ]
  },
  {
   "cell_type": "code",
   "execution_count": null,
   "metadata": {},
   "outputs": [],
   "source": [
    "#// BEGIN_TODO [MAD experiment] Do multiple experiments and compare MADs\n",
    "\n",
    "# ===== =====> Replace this line by your code. <===== ===== #\n",
    "\n",
    "#// END_TODO [MAD experiment]"
   ]
  },
  {
   "cell_type": "markdown",
   "metadata": {},
   "source": [
    "Run the cell above a couple of times.\n",
    "\n",
    "Do you indeed see that the MAD is roughly halved for every fourfold increase of `n`?"
   ]
  },
  {
   "cell_type": "markdown",
   "metadata": {},
   "source": [
    "### Extra: How to use the MAD\n",
    "\n",
    "Here is the distribution density plot for `experiment(8192)` (based on 1000 such experiments).\n",
    "Notice the narrow range on the x-axis:\n",
    "* Most (99.8%) of the outcomes lie within **four times the MAD around the mean** ($0.5\\pm 0.01$)."
   ]
  },
  {
   "cell_type": "code",
   "execution_count": null,
   "metadata": {},
   "outputs": [],
   "source": [
    "sns.distplot([experiment(8192) for _ in range(1000)], norm_hist=True);"
   ]
  },
  {
   "cell_type": "markdown",
   "metadata": {},
   "source": [
    "This can be exploited in two ways:\n",
    "\n",
    "1. Suppose you want to estimate the mean based on a given sample size (our `n`).\n",
    "   Then you can also estimate the *accuracy* of that estimate:\n",
    "   - With a high probability (approx. 99.8%),\n",
    "     the _true mean_ (the expectation) lies within **four times the MAD** of that estimated mean.\n",
    "2. Suppose you want to estimate the expected value (true mean)\n",
    "   to a given accuracy with high probability.\n",
    "   Then you can calculate _the required sample size_ (our `n`).\n",
    "   For example:\n",
    "   - We want an estimate that, with high probability, deviates no more than $\\varepsilon = 0.001$\n",
    "     from the true value.\n",
    "   - For $n=8\\,192$, four times the MAD is roughly $0.01$.\n",
    "   - So, for $n = 8\\,192k$, _four times the MAD_ is roughly $\\frac{0.01}{\\sqrt{k}}$.\n",
    "   - Hence, we need $k=100$, or $n =  819\\,200$ to achieve that accuracy."
   ]
  },
  {
   "cell_type": "code",
   "execution_count": null,
   "metadata": {},
   "outputs": [],
   "source": [
    "experiment(819_200)  # only one call needed"
   ]
  },
  {
   "cell_type": "markdown",
   "metadata": {},
   "source": [
    "## 2. Beating Some RPS Players"
   ]
  },
  {
   "cell_type": "markdown",
   "metadata": {},
   "source": [
    "Given is the module `rps` with some definitions for Rock-Paper-Scissors (RPS).\n",
    "These are (a slight variation on) the definitions in Lectures 4-B and 6-A.\n",
    "Make sure that the file `rps.py` is in the same directory as this notebook.\n",
    "\n",
    "Overview of `rps` (also see `help(rps)` below):\n",
    "* Type `Option` with values `ROCK`, `PAPER`, `SCISSORS`, combined in list `OPTIONS`\n",
    "* Type `Outcome` with values `TIE`, `WIN`, `LOSS` (from perspective of first player)\n",
    "* Function `judge_encounter`, taking two `Option` values and returning an `Outcome`\n",
    "* Type `Distribution` and function `random_choice`\n",
    "* Abstract base class `Player`\n",
    "* Class `OutcomeStats`\n",
    "* Class `Referee`, with two `Player` objects, and\n",
    "  - Method `play_encounter`, for a single encounter between the two players\n",
    "  - Method `play_games`, to play multiple encounters, returning outcome statistics"
   ]
  },
  {
   "cell_type": "code",
   "execution_count": null,
   "metadata": {},
   "outputs": [],
   "source": [
    "import rps  # to run its doctest examples, and to get help\n",
    "from rps import *"
   ]
  },
  {
   "cell_type": "code",
   "execution_count": null,
   "metadata": {},
   "outputs": [],
   "source": [
    "doctest.testmod(rps, verbose=False, name='rps')"
   ]
  },
  {
   "cell_type": "code",
   "execution_count": null,
   "metadata": {},
   "outputs": [],
   "source": [
    "help(rps)"
   ]
  },
  {
   "cell_type": "markdown",
   "metadata": {
    "slideshow": {
     "slide_type": "subslide"
    }
   },
   "source": [
    "### Given Class `MarkovPlayer`\n",
    "\n",
    "In Lecture 6-A, a player `MarkovPlayer` was defined\n",
    "that chooses according to a distribution\n",
    "depending on its previous choice.\n",
    "Here is its definition again."
   ]
  },
  {
   "cell_type": "code",
   "execution_count": null,
   "metadata": {
    "slideshow": {
     "slide_type": "fragment"
    }
   },
   "outputs": [],
   "source": [
    "#: Type for order-1 Markov models\n",
    "MarkovModel_1 = Mapping[Option, Distribution]"
   ]
  },
  {
   "cell_type": "code",
   "execution_count": null,
   "metadata": {
    "slideshow": {
     "slide_type": "fragment"
    }
   },
   "outputs": [],
   "source": [
    "class MarkovPlayer(Player):\n",
    "    \"\"\"A player who chooses according\n",
    "    to given order-1 Markov model.\n",
    "    \n",
    "    First time, chooses uniformly among all options.\n",
    "    \"\"\"\n",
    "    \n",
    "    def __init__(self, name: str, mm: MarkovModel_1) -> None:\n",
    "        \"\"\"Initialize the player for given Markov model.\n",
    "        \"\"\"\n",
    "        super().__init__(name)\n",
    "        self.mm = mm\n",
    "        self.previous: Optional[Option] = None\n",
    "        \n",
    "    def choose(self) -> Option:\n",
    "        \"\"\"Return player's choice.\n",
    "        \"\"\"\n",
    "        distr: Distribution  # (needed for type checking)\n",
    "        if self.previous is None:\n",
    "            distr = [1, 1, 1]\n",
    "        else:\n",
    "            distr = self.mm[self.previous]\n",
    "        choice = choose_random(distr)\n",
    "        self.previous = choice\n",
    "        return choice"
   ]
  },
  {
   "cell_type": "markdown",
   "metadata": {},
   "source": [
    "In particular, player `markov` was defined,\n",
    "who avoids its previous choice, and chooses among the remaining options with probability 0.5 each:"
   ]
  },
  {
   "cell_type": "code",
   "execution_count": null,
   "metadata": {
    "slideshow": {
     "slide_type": "fragment"
    }
   },
   "outputs": [],
   "source": [
    "mm = {ROCK:     [0.0, 0.5, 0.5],\n",
    "      PAPER:    [0.5, 0.0, 0.5],\n",
    "      SCISSORS: [0.5, 0.5, 0.0],\n",
    "     }\n",
    "markov = MarkovPlayer(\"Mar Kov\", mm)"
   ]
  },
  {
   "cell_type": "code",
   "execution_count": null,
   "metadata": {
    "slideshow": {
     "slide_type": "fragment"
    }
   },
   "outputs": [],
   "source": [
    "# A run of 20 choices\n",
    "\n",
    "[markov.choose() for _ in range(20)]"
   ]
  },
  {
   "cell_type": "code",
   "execution_count": null,
   "metadata": {
    "slideshow": {
     "slide_type": "fragment"
    }
   },
   "outputs": [],
   "source": [
    "# Overall statistics\n",
    "\n",
    "Counter(markov.choose() for _ in range(10000))"
   ]
  },
  {
   "cell_type": "markdown",
   "metadata": {},
   "source": [
    "### a. Class `BeatMarkovPlayer`\n",
    "\n",
    "Define player `BeatMarkovPlayer` who\n",
    "* on the very first turn, chooses randomly (uniform)\n",
    "* on all subsequent turns, chooses the best option to outplay `markov`\n",
    "  (defined above).\n",
    "\n",
    "**Notes**:\n",
    "* Introduce an attribute `self.opponent_previous`\n",
    "  that tracks the previous choice of the opponent.\n",
    "* For that, you need to override `__init__()`.\n",
    "  * Don't forget to call `super().__init__(name)`.\n",
    "  * Initialize `self.opponent_previous` to `None`.\n",
    "  * If you want to provide a type hint for `self.previous`,\n",
    "    then use `Optional[Option]`.\n",
    "* And you need to implement `inform()` to update `self.opponent_previous`.\n",
    "* Implement `choose()`, using `self.opponent_previous`.\n",
    "  * Here, you will have to think about what the best choice is to outplay `markov`.\n",
    "  * To make the first choice, use `choose_random` from `rps`\n",
    "    with distribution `[1/3, 1/3, 1/3]`.\n",
    "* Don't forget the docstring of the class with some `doctest` examples.\n",
    "  * You can make use of player `markov` defined above,\n",
    "    to check that it never loses, except possibly on the first encounter."
   ]
  },
  {
   "cell_type": "code",
   "execution_count": null,
   "metadata": {},
   "outputs": [],
   "source": [
    "#// BEGIN_TODO [BeatMarkovPlayer] Player that outplays MarkovPlayer\n",
    "\n",
    "# ===== =====> Replace this line by your code. <===== ===== #\n",
    "\n",
    "#// END_TODO [BeatMarkovPlayer]"
   ]
  },
  {
   "cell_type": "code",
   "execution_count": null,
   "metadata": {},
   "outputs": [],
   "source": [
    "doctest.run_docstring_examples(BeatMarkovPlayer, globals(), verbose=False, name='BeatMarkovPlayer')"
   ]
  },
  {
   "cell_type": "markdown",
   "metadata": {},
   "source": [
    "Let them play 10 games together:"
   ]
  },
  {
   "cell_type": "code",
   "execution_count": null,
   "metadata": {},
   "outputs": [],
   "source": [
    "referee = Referee(BeatMarkovPlayer('BMP'), markov)\n",
    "\n",
    "referee.play_games(10, verbose=True)"
   ]
  },
  {
   "cell_type": "markdown",
   "metadata": {},
   "source": [
    "### Given Class `BeatPreviousPlayer`\n",
    "\n",
    "In Lecture 6-A, a player `BeatPreviousPlayer` was defined\n",
    "that chooses to beat the opponent's previous choice.\n",
    "Here is its definition again."
   ]
  },
  {
   "cell_type": "code",
   "execution_count": null,
   "metadata": {
    "slideshow": {
     "slide_type": "fragment"
    }
   },
   "outputs": [],
   "source": [
    "class BeatPreviousPlayer(Player):\n",
    "    \"\"\"A player who chooses to beat\n",
    "    opponent's previous choice.\n",
    "    \n",
    "    First time, chooses uniformly among all options.\n",
    "    \n",
    "    >>> player = BeatPreviousPlayer(\"Test\")\n",
    "    >>> player\n",
    "    BeatPreviousPlayer('Test')\n",
    "    >>> player.choose() in OPTIONS\n",
    "    True\n",
    "    >>> player.inform(ROCK)\n",
    "    >>> player.choose() == PAPER\n",
    "    True\n",
    "    \"\"\"\n",
    "    \n",
    "    def __init__(self, name: str):\n",
    "        \"\"\"Initalize the player.\n",
    "        \"\"\"\n",
    "        super().__init__(name)\n",
    "        self.opponent_previous: Optional[Option] = None\n",
    "        \n",
    "    def choose(self) -> Option:\n",
    "        if self.opponent_previous is None:\n",
    "            choice = choose_random([1/3, 1/3, 1/3])\n",
    "        else:\n",
    "            choice = Option((self.opponent_previous + 1) % len(OPTIONS))\n",
    "            \n",
    "        return choice\n",
    "\n",
    "    def inform(self, opponent_previous: Option) -> None:\n",
    "        self.opponent_previous = opponent_previous"
   ]
  },
  {
   "cell_type": "code",
   "execution_count": null,
   "metadata": {
    "slideshow": {
     "slide_type": "fragment"
    }
   },
   "outputs": [],
   "source": [
    "doctest.run_docstring_examples(BeatPreviousPlayer, globs=globals(), name='BeatPreviousPlayer')"
   ]
  },
  {
   "cell_type": "markdown",
   "metadata": {},
   "source": [
    "### b. Class `BeatBeatPreviousPlayer`\n",
    "\n",
    "Define player `BeatBeatPreviousPlayer` who\n",
    "* on the very first turn, chooses randomly (uniform)\n",
    "* on all subsequent turns, chooses the option that beats `BeatPreviousPlayer`.\n",
    "\n",
    "**Notes**:\n",
    "* Define `BeatBeatPreviousPlayer` as _subclass_ of `MarkovPlayer`.\n",
    "* Override `__init__()`, to call `super().__init__(name, mm)`\n",
    "  for an appropriately chosen order-1 Markov model.\n",
    "  - Hint: That order-1 Markov model can be *degenerate*,\n",
    "    that is, it can have only probabilities that are either 0.0 or 1.0.\n",
    "* You don't need to override `choose()` or `inform()`.\n",
    "* Don't forget the docstring of the class with some `doctest` examples."
   ]
  },
  {
   "cell_type": "code",
   "execution_count": null,
   "metadata": {},
   "outputs": [],
   "source": [
    "#// BEGIN_TODO [BeatBeatPreviousPlayer] Player that beats BeatPreviousPlayer\n",
    "\n",
    "# ===== =====> Replace this line by your code. <===== ===== #\n",
    "\n",
    "#// END_TODO [BeatBeatPreviousPlayer]"
   ]
  },
  {
   "cell_type": "code",
   "execution_count": null,
   "metadata": {},
   "outputs": [],
   "source": [
    "doctest.run_docstring_examples(BeatBeatPreviousPlayer, globals(), verbose=False, name='BeatBeatPreviousPlayer')"
   ]
  },
  {
   "cell_type": "markdown",
   "metadata": {},
   "source": [
    "Let them play 10 games together:"
   ]
  },
  {
   "cell_type": "code",
   "execution_count": null,
   "metadata": {},
   "outputs": [],
   "source": [
    "referee = Referee(BeatBeatPreviousPlayer('BBP'), BeatPreviousPlayer('BP'))\n",
    "\n",
    "referee.play_games(10, verbose=True)"
   ]
  },
  {
   "cell_type": "markdown",
   "metadata": {},
   "source": [
    "## 3. Recursive QuickSort"
   ]
  },
  {
   "cell_type": "markdown",
   "metadata": {},
   "source": [
    "Define _recursive_ function `qsort` that given a sequence,\n",
    "returns a list with the items of that sequence in sorted order,\n",
    "using the _QuickSort_ algorithm (see Notes below).\n",
    "\n",
    "**Notes**\n",
    "\n",
    "* The **base case** is an empty sequence,\n",
    "  where the result is the empty list.\n",
    "* For the **inductive step** (sequence is non-empty):\n",
    "  - let `x` be the first item of the sequence;\n",
    "  - split the remainder of the sequence (`s[1:]`) into\n",
    "    a list of items `<= x` and a list of items `> x`\n",
    "    (using *list comprehensions*);\n",
    "  - sort each of these sublists (using `qsort` recursively;\n",
    "    here you make a **leap of faith**);\n",
    "  - combine the two sorted results appropriately with `x` into a sorted list\n",
    "    and return it."
   ]
  },
  {
   "cell_type": "code",
   "execution_count": null,
   "metadata": {},
   "outputs": [],
   "source": [
    "def qsort(s: Sequence[Any]) -> List[Any]:\n",
    "    \"\"\"Return items in s as sorted list, using the recursive QuickSort algorithm.\n",
    "    \n",
    "    Assumption: items can be compared by <\n",
    "    \n",
    "    >>> qsort(())\n",
    "    []\n",
    "    >>> qsort([42])\n",
    "    [42]\n",
    "    >>> ''.join(qsort('abracadabra'))\n",
    "    'aaaaabbcdrr'\n",
    "    \"\"\"\n",
    "    \n",
    "#// BEGIN_TODO [qsort] Sort sequence into list using recursive QuickSort\n",
    "\n",
    "# ===== =====> Replace this line by your code. <===== ===== #\n",
    "\n",
    "#// END_TODO [qsort]"
   ]
  },
  {
   "cell_type": "code",
   "execution_count": null,
   "metadata": {},
   "outputs": [],
   "source": [
    "doctest.run_docstring_examples(qsort, globals(), verbose=True, name='qsort')"
   ]
  },
  {
   "cell_type": "markdown",
   "metadata": {},
   "source": [
    "## 4. Recursive Binary Search"
   ]
  },
  {
   "cell_type": "markdown",
   "metadata": {},
   "source": [
    "We provided the framework for function `binary_search` that,\n",
    "given a sorted sequence of values and a value,\n",
    "returns an index where that value can be inserted into the sequence\n",
    "to preserve the sorted order (also see given docstring below).\n",
    "\n",
    "That is, if `i` is returned, then the value can be inserted between index `i - 1` and `i`.\n",
    "Thus, the item would occur at index `i` after it has been inserted.\n",
    "Also see `list.insert()`.\n",
    "\n",
    "Complete the definition of _nested recursive_ function `rec`.\n",
    "\n",
    "**Example**:\n",
    "* `binary_search('ac', 'b')` returns `1`\n",
    "\n",
    "**Notes**:\n",
    "* This function solves the same problem as Exercise 4.1.\n",
    "* We use type `Any` for the items in the sequence and the separate item.\n",
    "  However, these should be of the _same_ type, and that type should support _comparison_ by `<`.\n",
    "* The list `s` can be empty.\n",
    "* The returned index `i` has the property `s[i - 1] <= x < s[i]`.\n",
    "* Your solution for `rec` must be _efficient_ and *recursive*.\n",
    "  - `rec(lo, hi)` solves the problem of finding an insertion location for `x` in `s[lo:hi]`.\n",
    "  - The **base case** is when `hi - lo == 1`,\n",
    "    or equivalently, when `lo == hi - 1`.\n",
    "    What value can be returned in that case?\n",
    "  - For the **inductive step**,\n",
    "    - consider `m` near the middle between `lo` and `hi`, and\n",
    "    - depending on `s[m] < x` or not, return `rec(lo, m)` or `rec(m, hi)`.\n",
    "    - Here, you make a **leap of faith**."
   ]
  },
  {
   "cell_type": "code",
   "execution_count": null,
   "metadata": {},
   "outputs": [],
   "source": [
    "def binary_search(s: Sequence[Any], x: Any) -> int:\n",
    "    \"\"\"Find an index i such that s[i - 1] <= x < s[i].\n",
    "    \n",
    "    Pretend s[-1] == minf and s[len(s)] == pinf\n",
    "    Here,\n",
    "    * s[-1] refers to an imaginary item preceding s\n",
    "    * s[len(s)] refers to an imaginary item following s\n",
    "    * minf is an imaginary value that is smaller than any value in s\n",
    "    * pinf is an imaginary value that is larger than any value in s\n",
    "        \n",
    "    >>> binary_search(list(\"bdfhjln\"), \"i\")\n",
    "    4\n",
    "    >>> binary_search(list(\"bdfhjln\"), \"h\")\n",
    "    4\n",
    "    >>> binary_search(list(\"bdfhjln\"), \"a\")\n",
    "    0\n",
    "    >>> binary_search(list(\"bdfhjln\"), \"o\")\n",
    "    7\n",
    "    \"\"\"\n",
    "    \n",
    "    def rec(lo: int, hi: int) -> int:\n",
    "        \"\"\"Find an index i in s[lo+1:hi] such that\n",
    "        \n",
    "        * lo < i <= hi\n",
    "        * s[i - 1] <= x < s[i]\n",
    "        \n",
    "        for the given s and x.\n",
    "        \n",
    "        Assumptions:\n",
    "        \n",
    "        * -1 <= lo < hi <= len(s)\n",
    "        * s[lo] <= x < s[hi]\n",
    "        \"\"\"\n",
    "\n",
    "#// BEGIN_TODO [rec] Find index to insert value in sorted sequence\n",
    "\n",
    "# ===== =====> Replace this line by your code. <===== ===== #\n",
    "\n",
    "#// END_TODO [rec]\n",
    "\n",
    "    return rec(-1, len(s))"
   ]
  },
  {
   "cell_type": "code",
   "execution_count": null,
   "metadata": {},
   "outputs": [],
   "source": [
    "doctest.run_docstring_examples(binary_search, globals(), verbose=True, name='binary_search')"
   ]
  },
  {
   "cell_type": "markdown",
   "metadata": {},
   "source": [
    "---"
   ]
  },
  {
   "cell_type": "markdown",
   "metadata": {},
   "source": [
    "## Final business"
   ]
  },
  {
   "cell_type": "code",
   "execution_count": null,
   "metadata": {},
   "outputs": [],
   "source": [
    "doctest.testmod(verbose=False)  # with details"
   ]
  },
  {
   "cell_type": "code",
   "execution_count": null,
   "metadata": {},
   "outputs": [],
   "source": [
    "%whos"
   ]
  },
  {
   "cell_type": "markdown",
   "metadata": {},
   "source": [
    "---\n",
    "\n",
    "## (End of Notebook)\n",
    "\n",
    "&copy; 2019-2023 - **TU/e** - Eindhoven University of Technology"
   ]
  }
 ],
 "metadata": {
  "kernelspec": {
   "display_name": "Python 3 (ipykernel)",
   "language": "python",
   "name": "python3"
  },
  "language_info": {
   "codemirror_mode": {
    "name": "ipython",
    "version": 3
   },
   "file_extension": ".py",
   "mimetype": "text/x-python",
   "name": "python",
   "nbconvert_exporter": "python",
   "pygments_lexer": "ipython3",
   "version": "3.9.7"
  }
 },
 "nbformat": 4,
 "nbformat_minor": 4
}
