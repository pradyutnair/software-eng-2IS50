{
 "cells": [
  {
   "cell_type": "markdown",
   "metadata": {},
   "source": [
    "# Personal Notes"
   ]
  },
  {
   "cell_type": "markdown",
   "metadata": {},
   "source": [
    "## Imports"
   ]
  },
  {
   "cell_type": "code",
   "execution_count": 1,
   "metadata": {
    "ExecuteTime": {
     "end_time": "2023-06-21T11:31:02.729706300Z",
     "start_time": "2023-06-21T11:31:02.194559700Z"
    }
   },
   "outputs": [],
   "source": [
    "import numpy as np\n",
    "import pandas as pd\n",
    "import random\n",
    "import math\n",
    "import string\n",
    "from collections import defaultdict, Counter\n",
    "import itertools as it\n",
    "from typing import Tuple, List, Set, Dict, DefaultDict, Counter, Iterator, Iterable\n",
    "from typing import Any, Optional, Sequence, Mapping\n",
    "import doctest\n",
    "from pprint import pprint"
   ]
  },
  {
   "cell_type": "code",
   "execution_count": 2,
   "metadata": {
    "code_folding": []
   },
   "outputs": [],
   "source": [
    "# !pip install jupyter_contrib_nbextensions\n",
    "# !jupyter nbextensions_configurator enable\n",
    "# !jupyter nbextension enable codefolding/main"
   ]
  },
  {
   "cell_type": "code",
   "execution_count": 3,
   "metadata": {
    "ExecuteTime": {
     "end_time": "2023-06-21T11:31:03.757396200Z",
     "start_time": "2023-06-21T11:31:03.244107100Z"
    },
    "code_folding": []
   },
   "outputs": [
    {
     "name": "stdout",
     "output_type": "stream",
     "text": [
      "Type checking facility (Nb Mypy) is not installed.\n"
     ]
    }
   ],
   "source": [
    "# enable mypy type checking\n",
    "try:\n",
    "    %load_ext nb_mypy\n",
    "except ModuleNotFoundError:\n",
    "    print(\"Type checking facility (Nb Mypy) is not installed.\")"
   ]
  },
  {
   "cell_type": "markdown",
   "metadata": {},
   "source": [
    "## Template for the author information"
   ]
  },
  {
   "cell_type": "code",
   "execution_count": 4,
   "metadata": {
    "ExecuteTime": {
     "end_time": "2023-06-21T11:31:06.219692400Z",
     "start_time": "2023-06-21T11:31:05.617019200Z"
    }
   },
   "outputs": [
    {
     "data": {
      "text/plain": [
       "('Pradyut Nair', '1577239', '2023-06-27')"
      ]
     },
     "execution_count": 4,
     "metadata": {},
     "output_type": "execute_result"
    }
   ],
   "source": [
    "#// BEGIN_TODO [Author] Name, Id.nr., Date, as strings (1 point)\n",
    "\n",
    "AUTHOR_NAME = 'Pradyut Nair'\n",
    "AUTHOR_ID_NR = '1577239'\n",
    "AUTHOR_DATE = '2023-06-27'  # when first modified, e.g. '2023-03-06'\n",
    "\n",
    "#// END_TODO [Author]\n",
    "\n",
    "AUTHOR_NAME, AUTHOR_ID_NR, AUTHOR_DATE"
   ]
  },
  {
   "cell_type": "code",
   "execution_count": 5,
   "metadata": {
    "ExecuteTime": {
     "end_time": "2023-06-21T11:31:10.908544900Z",
     "start_time": "2023-06-21T11:31:10.206793400Z"
    }
   },
   "outputs": [
    {
     "data": {
      "text/plain": [
       "(1577239, '5612 AZ Eindhoven')"
      ]
     },
     "execution_count": 5,
     "metadata": {},
     "output_type": "execute_result"
    }
   ],
   "source": [
    "#// BEGIN_TODO [badge_nr_address] Badge number and address, as strings\n",
    "\n",
    "AUTHOR_BADGE_NR, AUTHOR_ADDRESS = 1577239, '5612 AZ Eindhoven'\n",
    "\n",
    "#// END_TODO [badge_nr_address]\n",
    "\n",
    "AUTHOR_BADGE_NR, AUTHOR_ADDRESS"
   ]
  },
  {
   "cell_type": "code",
   "execution_count": 6,
   "metadata": {
    "ExecuteTime": {
     "end_time": "2023-06-21T11:31:13.400498400Z",
     "start_time": "2023-06-21T11:31:12.031525Z"
    }
   },
   "outputs": [
    {
     "data": {
      "text/plain": [
       "True"
      ]
     },
     "execution_count": 6,
     "metadata": {},
     "output_type": "execute_result"
    }
   ],
   "source": [
    "I_confirm: Optional[bool] = None\n",
    "\n",
    "#// BEGIN_TODO [Declaration] Confirm by assigning True to I_confirm\n",
    "\n",
    "I_confirm = True\n",
    "\n",
    "#// END_TODO [Declaration]\n",
    "\n",
    "I_confirm"
   ]
  },
  {
   "cell_type": "markdown",
   "metadata": {},
   "source": [
    "# Python Basics"
   ]
  },
  {
   "cell_type": "markdown",
   "metadata": {},
   "source": [
    "## Python Operators\n",
    "\n",
    "Here are some commonly used advanced operators in Python:\n",
    "\n",
    "1. Arithmetic Operators:\n",
    "   - Addition: `+`\n",
    "   - Subtraction: `-`\n",
    "   - Multiplication: `*`\n",
    "   - Division: `/`\n",
    "   - Modulus: `%`\n",
    "   - Exponentiation: `**`\n",
    "   - Floor Division: `//`\n",
    "\n",
    "2. Comparison Operators:\n",
    "   - Equal to: `==`\n",
    "   - Not equal to: `!=`\n",
    "   - Greater than: `>`\n",
    "   - Less than: `<`\n",
    "   - Greater than or equal to: `>=`\n",
    "   - Less than or equal to: `<=`\n",
    "\n",
    "3. Logical Operators:\n",
    "   - Logical AND: `and`\n",
    "   - Logical OR: `or`\n",
    "   - Logical NOT: `not`\n",
    "\n",
    "4. Bitwise Operators:\n",
    "   - Bitwise AND: `&`\n",
    "   - Bitwise OR: `|`\n",
    "   - Bitwise XOR: `^`\n",
    "   - Bitwise NOT: `~`\n",
    "   - Left Shift: `<<`\n",
    "   - Right Shift: `>>`\n",
    "\n",
    "5. Assignment Operators:\n",
    "   - Assign: `=`\n",
    "   - Add and assign: `+=`\n",
    "   - Subtract and assign: `-=`\n",
    "   - Multiply and assign: `*=`\n",
    "   - Divide and assign: `/=`\n",
    "   - Modulus and assign: `%=`\n",
    "   - Exponentiation and assign: `**=`\n",
    "   - Floor Division and assign: `//=`\n",
    "\n",
    "6. Identity Operators:\n",
    "   - `is`: Returns True if both variables are the same object\n",
    "   - `is not`: Returns True if both variables are not the same object\n",
    "\n",
    "7. Membership Operators:\n",
    "   - `in`: Returns True if a sequence with the specified value is present\n",
    "   - `not in`: Returns True if a sequence with the specified value is not present\n",
    "\n",
    "8. Ternary Operator:\n",
    "   - `value_if_true if condition else value_if_false`\n",
    "\n",
    "## List, Set, and Dict Methods\n",
    "\n",
    "Here are some commonly used methods for list, set, and dictionary objects in Python:\n",
    "\n",
    "### List Methods:\n",
    "- `append`: Adds an element to the end of the list.\n",
    "- `extend`: Extends the list by appending elements from an iterable.\n",
    "- `insert`: Inserts an element at a specific position in the list.\n",
    "- `remove`: Removes the first occurrence of a value from the list.\n",
    "- `pop`: Removes and returns the element at a specified position in the list.\n",
    "- `index`: Returns the index of the first occurrence of a value in the list.\n",
    "- `count`: Returns the number of occurrences of a value in the list.\n",
    "- `sort`: Sorts the elements of the list in ascending order.\n",
    "- `reverse`: Reverses the order of the elements in the list.\n",
    "- `clear`: Removes all elements from the list.\n",
    "\n",
    "### Set Methods:\n",
    "- `add`: Adds an element to the set.\n",
    "- `update`: Updates the set by adding elements from an iterable.\n",
    "- `remove`: Removes a specific element from the set.\n",
    "- `discard`: Removes a specific element from the set if it exists.\n",
    "- `pop`: Removes and returns an arbitrary element from the set.\n",
    "- `clear`: Removes all elements from the set.\n",
    "- `union`: Returns a new set containing the union of two or more sets.\n",
    "- `intersection`: Returns a new set containing the intersection of two or more sets.\n",
    "- `difference`: Returns a new set containing the difference between two sets.\n",
    "- `symmetric_difference`: Returns a new set containing the symmetric difference between two sets.\n",
    "- `issubset`: Returns True if all elements of a set are present in another set.\n",
    "- `issuperset`: Returns True if a set contains all elements of another set.\n",
    "\n",
    "### Dictionary Methods:\n",
    "- `keys`: Returns a list containing the dictionary's keys.\n",
    "- `values`: Returns a list containing the dictionary's values.\n",
    "- `items`: Returns a list of tuples containing the dictionary's key-value pairs.\n",
    "- `get`: Returns the value associated with a specified key.\n",
    "- `pop`: Removes and returns the value associated with a specified key.\n",
    "- `popitem`: Removes and returns an arbitrary key-value pair from the dictionary.\n",
    "- `update`: Updates the dictionary with the key-value pairs from another dictionary or an iterable.\n",
    "- `clear`: Removes all key-value pairs from the dictionary.\n",
    "\n",
    "\n",
    "### String Methods\n",
    "\n",
    "Here are some commonly used methods for string objects in Python:\n",
    "\n",
    "- `capitalize()`: Converts the first character of the string to uppercase and the rest to lowercase.\n",
    "- `casefold()`: Returns a casefolded version of the string, suitable for case-insensitive comparisons.\n",
    "- `lower()`: Converts all characters in the string to lowercase.\n",
    "- `upper()`: Converts all characters in the string to uppercase.\n",
    "- `swapcase()`: Swaps the case of each character in the string, converting lowercase to uppercase and vice versa.\n",
    "- `title()`: Converts the first character of each word in the string to uppercase and the rest to lowercase.\n",
    "- `strip()`: Removes leading and trailing whitespace from the string.\n",
    "- `lstrip()`: Removes leading whitespace from the string.\n",
    "- `rstrip()`: Removes trailing whitespace from the string.\n",
    "- `count(substring)`: Returns the number of non-overlapping occurrences of a substring in the string.\n",
    "- `find(substring)`: Returns the lowest index of the first occurrence of a substring in the string, or -1 if not found.\n",
    "- `index(substring)`: Returns the lowest index of the first occurrence of a substring in the string, or raises a ValueError if not found.\n",
    "- `replace(old, new)`: Returns a new string where all occurrences of the old substring are replaced with the new substring.\n",
    "- `split()`: Splits the string into a list of substrings based on whitespace.\n",
    "- `split(separator)`: Splits the string into a list of substrings based on the specified separator.\n",
    "- `join(iterable)`: Concatenates the elements of an iterable into a single string, using the string as a separator.\n",
    "- `startswith(prefix)`: Returns True if the string starts with the specified prefix, False otherwise.\n",
    "- `endswith(suffix)`: Returns True if the string ends with the specified suffix, False otherwise.\n",
    "- `isalpha()`: Returns True if all characters in the string are alphabetic, False otherwise.\n",
    "- `isdigit()`: Returns True if all characters in the string are digits, False otherwise.\n",
    "- `isalnum()`: Returns True if all characters in the string are alphanumeric, False otherwise.\n",
    "- `isspace()`: Returns True if all characters in the string are whitespace, False otherwise.\n",
    "- `islower()`: Returns True if all characters in the string are lowercase, False otherwise.\n",
    "- `isupper()`: Returns True if all characters in the string are uppercase, False otherwise.\n",
    "- `startswith(prefix, start, end)`: Returns True if the string starts with the specified prefix within the given range, False otherwise.\n",
    "- `endswith(suffix, start, end)`: Returns True if the string ends with the specified suffix within the given range, False otherwise.\n",
    "\n",
    "\n",
    "### f-string Methods\n",
    "\n",
    "Python f-strings are a convenient way to format strings by embedding expressions inside curly braces `{}`. Here are some commonly used features and methods related to f-strings:\n",
    "\n",
    "- Basic usage: To include the value of a variable or an expression inside an f-string, simply enclose it in curly braces. For example: `name = \"Alice\"; print(f\"Hello, {name}!\")` will output `Hello, Alice!`.\n",
    "\n",
    "- Formatting expressions: You can include formatting expressions inside f-strings to control the appearance of the output. For example: `number = 42; print(f\"The answer is {number:04d}.\")` will output `The answer is 0042.`. Here, `:04d` specifies that the value should be formatted as a zero-padded 4-digit\n",
    "\n",
    "- Left Alignment (<): To add spaces on the right side of a value in an f-string, you can use the < alignment specifier. It aligns the value to the left within the available space and adds spaces on the right if necessary. Example: name = \"Alice\"; age = 25; print(f\"Name: {name:<10} Age: {age}\") will output \"Name: Alice Age: 25\". Here, :<10 specifies left alignment within a field of width 10.\n",
    "\n",
    "- Right Alignment (>): To add spaces on the left side of a value in an f-string, you can use the > alignment specifier. It aligns the value to the right within the available space and adds spaces on the left if necessary. Example: name = \"Alice\"; age = 25; print(f\"Name: {name:>10} Age: {age}\") will output \"Name: Alice Age: 25\". Here, :>10 specifies right alignment within a field of width 10.\n",
    "\n",
    "- Center Alignment (\\^): To add spaces on both sides of a value in an f-string, you can use the \\^ alignment specifier. It centers the value within the available space and adds spaces on both sides if necessary. Example: name = \"Alice\"; age = 25; print(f\"Name: {name:\\^10} Age: {age}\") will output \"Name: Alice Age: 25\". Here, :\\^10 specifies center alignment within a field of width 10.\n",
    "\n",
    "These alignment specifiers can be combined with other formatting options, such as specifying the field width or formatting the value as a specific data type."
   ]
  },
  {
   "cell_type": "markdown",
   "metadata": {},
   "source": [
    "## Open a file"
   ]
  },
  {
   "cell_type": "code",
   "execution_count": 7,
   "metadata": {
    "ExecuteTime": {
     "end_time": "2023-06-19T13:33:53.326798300Z",
     "start_time": "2023-06-19T13:33:52.834153100Z"
    }
   },
   "outputs": [
    {
     "name": "stdout",
     "output_type": "stream",
     "text": [
      "nonsense\n",
      "\n",
      "wordle\n",
      "\n",
      "carp\n",
      "\n",
      "silly\n",
      "\n",
      "rodeo\n",
      "\n",
      "utopia\n",
      "\n"
     ]
    }
   ],
   "source": [
    "with open('data.txt', 'r') as f:\n",
    "    data = f.readlines()\n",
    "    for line in data:\n",
    "        print(line)"
   ]
  },
  {
   "cell_type": "markdown",
   "metadata": {},
   "source": [
    "## Modulus vs Floor Division"
   ]
  },
  {
   "cell_type": "code",
   "execution_count": 8,
   "metadata": {},
   "outputs": [
    {
     "name": "stdout",
     "output_type": "stream",
     "text": [
      "1\n",
      "2\n"
     ]
    }
   ],
   "source": [
    "print(5 % 2)  # remainder\n",
    "print(5 // 2) # quotient"
   ]
  },
  {
   "cell_type": "markdown",
   "metadata": {},
   "source": [
    "## Format text"
   ]
  },
  {
   "cell_type": "code",
   "execution_count": 9,
   "metadata": {
    "ExecuteTime": {
     "end_time": "2023-06-19T13:40:47.015269700Z",
     "start_time": "2023-06-19T13:40:46.508538800Z"
    }
   },
   "outputs": [
    {
     "name": "stdout",
     "output_type": "stream",
     "text": [
      "Name: Alice      Age: 25\n",
      "Name:      Alice Age: 25\n",
      "Name:   Alice    Age: 25\n"
     ]
    }
   ],
   "source": [
    "name = \"Alice\"\n",
    "age = 25\n",
    "# Left Alignment\n",
    "print(f\"Name: {name:<10} Age: {age}\")\n",
    "# Right Alignment\n",
    "print(f\"Name: {name:>10} Age: {age}\")\n",
    "# Center Alignment\n",
    "print(f\"Name: {name:^10} Age: {age}\")"
   ]
  },
  {
   "cell_type": "markdown",
   "metadata": {},
   "source": [
    "# Comprehensions"
   ]
  },
  {
   "cell_type": "markdown",
   "metadata": {},
   "source": [
    "\n",
    "### Comprehensions\n",
    "Comprehensions are a concise way to create new data structures, such as lists, sets, and dictionaries, based on existing iterables. Comprehensions allow you to specify an expression, followed by a `for` clause (and optionally an `if` clause) to define the elements of the new data structure.\n",
    "\n",
    "- Comprehensions eagerly generate the entire data structure in memory when evaluated.\n",
    "- Comprehensions are useful when you need to create a complete data structure upfront or when the size of the resulting data structure is relatively small.\n",
    "- Comprehensions are typically more readable and straightforward to use.\n",
    "\n",
    "Example:\n",
    "```python\n",
    "numbers = [1, 2, 3, 4, 5]\n",
    "squared = [num**2 for num in numbers if num % 2 == 0]\n",
    "```\n",
    "In this example, the list comprehension generates a new list (`squared`) containing the squares of even numbers from the `numbers` list.\n",
    "\n",
    "### Generators\n",
    "Generators are a way to create iterable sequences without eagerly generating the entire sequence in memory. Instead, generators produce elements on-the-fly as they are iterated over.\n",
    "\n",
    "- Generators are memory-efficient as they generate elements one at a time and don't store the entire sequence in memory.\n",
    "- Generators are suitable when dealing with large or infinite sequences or when memory usage is a concern.\n",
    "- Generators are created using generator functions or generator expressions.\n",
    "\n",
    "Example:\n",
    "```python\n",
    "numbers = [1, 2, 3, 4, 5]\n",
    "squared_gen = (num**2 for num in numbers if num % 2 == 0)\n",
    "```\n",
    "In this example, the generator expression creates a generator object (`squared_gen`) that yields the squares of even numbers from the `numbers` list.\n",
    "\n",
    "### Comparison\n",
    "- Memory Usage: Comprehensions create the entire data structure in memory, while generators produce elements on-the-fly without storing the entire sequence. Therefore, generators are more memory-efficient for large or infinite sequences.\n",
    "- Laziness: Comprehensions eagerly generate all elements upfront, whereas generators produce elements one at a time as they are iterated over. Generators provide a lazy evaluation, which can be beneficial when working with large or expensive-to-compute sequences.\n",
    "- Iteration: Both comprehensions and generators are iterable and can be used in `for` loops or with functions that consume iterables, such as `list()`, `sum()`, or `any()`.\n",
    "- Reusability: Comprehensions create a new data structure that can be reused multiple times, while generators need to be recreated each time you want to iterate over their elements.\n",
    "\n",
    "Choosing between generators and comprehensions depends on the specific use case, the size of the data, memory considerations, and the need for laziness in evaluation. Comprehensions are suitable for small or fixed-size data structures, while generators are more suitable for larger or dynamically generated sequences."
   ]
  },
  {
   "cell_type": "markdown",
   "metadata": {},
   "source": [
    "### List Comprehensions\n",
    "List comprehensions provide a concise way to create lists in Python. They consist of an expression followed by a `for` clause and can optionally include additional `for` or `if` clauses. The basic syntax of a list comprehension is as follows:\n",
    "\n",
    "```python\n",
    "new_list = [expression for item in iterable if condition]\n",
    "```\n",
    "\n",
    "- **Expression**: The expression specifies the value to be included in the new list. It can be a simple value or a more complex expression.\n",
    "- **Item**: The item represents each element in the iterable, such as a list, tuple, or range.\n",
    "- **Iterable**: The iterable is the source of elements used in the list comprehension.\n",
    "- **Condition (optional)**: The condition is an optional expression that filters the elements based on a specific condition. Only elements that satisfy the condition will be included in the new list.\n",
    "\n",
    "Example:\n",
    "```python\n",
    "numbers = [1, 2, 3, 4, 5]\n",
    "squared = [num**2 for num in numbers if num % 2 == 0]\n",
    "```\n",
    "In this example, `squared` is a new list that contains the squares of even numbers from the `numbers` list.\n",
    "\n",
    "#### Loops as comprehensions\n",
    "List comprehensions are a concise way to create lists in Python. They are similar to `for` loops, but with a more declarative syntax. The basic syntax of a list comprehension is as follows:\n",
    "\n",
    "```python\n",
    "new_list = [expression for item in iterable if condition]\n",
    "```\n",
    "**For the inner and outer loops, the syntax is as follows:**\n",
    "\n",
    "```python\n",
    "new_list = [expression for outer_item in outer_iterable for inner_item in inner_iterable if condition]\n",
    "```\n",
    "\n",
    "### Set Comprehensions\n",
    "Set comprehensions are similar to list comprehensions but create sets instead of lists. The syntax for set comprehensions is almost identical to list comprehensions, except that curly braces `{}` are used instead of square brackets `[]`.\n",
    "\n",
    "Example:\n",
    "```python\n",
    "numbers = [1, 2, 3, 4, 5]\n",
    "squares = {num**2 for num in numbers if num % 2 == 0}\n",
    "```\n",
    "In this example, `squares` is a new set that contains the squares of even numbers from the `numbers` list.\n",
    "\n",
    "### Dictionary Comprehensions\n",
    "Dictionary comprehensions allow you to create dictionaries in a concise manner. They follow a similar syntax to list comprehensions, but with a key-value pair expression.\n",
    "\n",
    "```python\n",
    "new_dict = {key_expression: value_expression for item in iterable if condition}\n",
    "```\n",
    "\n",
    "- **Key Expression**: The key expression specifies the key for each key-value pair in the new dictionary.\n",
    "- **Value Expression**: The value expression specifies the value for each key-value pair.\n",
    "- **Item**: The item represents each element in the iterable.\n",
    "- **Iterable**: The iterable is the source of elements used in the dictionary comprehension.\n",
    "- **Condition (optional)**: The condition is an optional expression that filters the elements based on a specific condition. Only elements that satisfy the condition will be included in the new dictionary.\n",
    "\n",
    "Example:\n",
    "```python\n",
    "numbers = [1, 2, 3, 4, 5]\n",
    "squared_dict = {num: num**2 for num in numbers if num % 2 == 0}\n",
    "```\n",
    "In this example, `squared_dict` is a new dictionary where the keys are even numbers from the `numbers` list, and the values are their squares.\n",
    "\n",
    "List, set, and dictionary comprehensions are powerful tools for creating new data structures in a concise and readable way. They can help simplify your code and make it more expressive."
   ]
  },
  {
   "cell_type": "code",
   "execution_count": 10,
   "metadata": {
    "ExecuteTime": {
     "end_time": "2023-06-21T11:43:51.213478Z",
     "start_time": "2023-06-21T11:43:50.678353500Z"
    }
   },
   "outputs": [],
   "source": [
    "def trail(obj: Any, pebble: str) -> Any:\n",
    "    \"\"\"Print pebble and return obj.\n",
    "    \"\"\"\n",
    "    print(pebble, end=\"\")\n",
    "    return obj"
   ]
  },
  {
   "cell_type": "code",
   "execution_count": 11,
   "metadata": {
    "ExecuteTime": {
     "end_time": "2023-06-21T11:46:17.425825Z",
     "start_time": "2023-06-21T11:46:16.939853600Z"
    }
   },
   "outputs": [
    {
     "name": "stdout",
     "output_type": "stream",
     "text": [
      "..........0\n",
      "1\n",
      "8\n",
      "27\n",
      "64\n",
      "125\n",
      "216\n",
      "343\n",
      "512\n",
      "729\n"
     ]
    }
   ],
   "source": [
    "for cube in [trail(n ** 3, '.') for n in range(10)]:\n",
    "    print(cube, end=\"\\n\")"
   ]
  },
  {
   "cell_type": "code",
   "execution_count": 12,
   "metadata": {
    "ExecuteTime": {
     "end_time": "2023-06-21T11:46:20.476556600Z",
     "start_time": "2023-06-21T11:46:19.203300Z"
    }
   },
   "outputs": [
    {
     "name": "stdout",
     "output_type": "stream",
     "text": [
      ".0\n",
      ".1\n",
      ".8\n",
      ".27\n",
      ".64\n",
      ".125\n",
      ".216\n",
      ".343\n",
      ".512\n",
      ".729\n"
     ]
    }
   ],
   "source": [
    "for cube in (trail(n ** 3, '.') for n in range(10)):\n",
    "    print(cube, end=\"\\n\")"
   ]
  },
  {
   "cell_type": "code",
   "execution_count": 13,
   "metadata": {
    "ExecuteTime": {
     "end_time": "2023-06-21T11:57:30.161297200Z",
     "start_time": "2023-06-21T11:57:29.634906700Z"
    }
   },
   "outputs": [],
   "source": [
    "def first(iterable: Iterable[Any]) -> Optional[Any]:\n",
    "    \"\"\"Return first item from iterable.\n",
    "    \"\"\"\n",
    "    for item in iterable:\n",
    "        return item # and ignore everything else"
   ]
  },
  {
   "cell_type": "code",
   "execution_count": 14,
   "metadata": {
    "ExecuteTime": {
     "end_time": "2023-06-21T11:57:57.070159100Z",
     "start_time": "2023-06-21T11:57:56.537360900Z"
    }
   },
   "outputs": [
    {
     "name": "stdout",
     "output_type": "stream",
     "text": [
      "..........0\n"
     ]
    }
   ],
   "source": [
    "print(first([trail(i ** 3, '.') for i in range(10)]))"
   ]
  },
  {
   "cell_type": "code",
   "execution_count": 15,
   "metadata": {
    "ExecuteTime": {
     "end_time": "2023-06-21T11:58:07.578052300Z",
     "start_time": "2023-06-21T11:58:07.046018500Z"
    }
   },
   "outputs": [
    {
     "name": "stdout",
     "output_type": "stream",
     "text": [
      ".0\n"
     ]
    }
   ],
   "source": [
    "print(first((trail(i ** 3, '.') for i in range(10))))"
   ]
  },
  {
   "cell_type": "markdown",
   "metadata": {},
   "source": [
    "`yield` is a keyword that is used like `return`, except the function will return a generator."
   ]
  },
  {
   "cell_type": "code",
   "execution_count": 16,
   "metadata": {
    "ExecuteTime": {
     "end_time": "2023-06-21T12:00:16.240268600Z",
     "start_time": "2023-06-21T12:00:15.107401500Z"
    }
   },
   "outputs": [],
   "source": [
    "def gen_cubes(n: int) -> Iterator[int]: # Generator[int, None, None]:\n",
    "    \"\"\"Yield cubes < n.\n",
    "    \"\"\"\n",
    "    i, cube = 0, 0 # cube == i ** 3\n",
    "    while cube < n:\n",
    "        yield cube\n",
    "        i += 1\n",
    "        cube = i ** 3"
   ]
  },
  {
   "cell_type": "code",
   "execution_count": 17,
   "metadata": {
    "ExecuteTime": {
     "end_time": "2023-06-21T12:00:26.402527800Z",
     "start_time": "2023-06-21T12:00:25.860574600Z"
    }
   },
   "outputs": [
    {
     "data": {
      "text/plain": [
       "generator"
      ]
     },
     "execution_count": 17,
     "metadata": {},
     "output_type": "execute_result"
    }
   ],
   "source": [
    "type(gen_cubes(10))"
   ]
  },
  {
   "cell_type": "code",
   "execution_count": 18,
   "metadata": {
    "ExecuteTime": {
     "end_time": "2023-06-21T12:00:33.874976800Z",
     "start_time": "2023-06-21T12:00:33.332375100Z"
    }
   },
   "outputs": [
    {
     "name": "stdout",
     "output_type": "stream",
     "text": [
      "0 1 8 "
     ]
    }
   ],
   "source": [
    "for cube in gen_cubes(10):\n",
    "    print(cube, end=\" \")"
   ]
  },
  {
   "cell_type": "markdown",
   "metadata": {},
   "source": [
    "# How does ITERATION work"
   ]
  },
  {
   "cell_type": "code",
   "execution_count": 19,
   "metadata": {
    "code_folding": []
   },
   "outputs": [
    {
     "name": "stdout",
     "output_type": "stream",
     "text": [
      "0\n",
      "1\n",
      "4\n",
      "9\n",
      "16\n",
      "25\n",
      "36\n",
      "49\n",
      "64\n",
      "81\n"
     ]
    }
   ],
   "source": [
    "# An iterable (here it is a generator which is already an iterator)\n",
    "numbers = (n**2 for n in range(10))\n",
    "# Create an iterator from the iterable using `iter`\n",
    "iterator = iter(numbers)\n",
    "\n",
    "# Conduct iteration\n",
    "while True:\n",
    "    try:\n",
    "        # Get the `next` value in the iterable lazily and print it\n",
    "        value = next(iterator)\n",
    "        print(value)\n",
    "\n",
    "    # When we exhause the iterable, break\n",
    "    except StopIteration:\n",
    "        break"
   ]
  },
  {
   "cell_type": "markdown",
   "metadata": {},
   "source": [
    "### Inverting a dictionary (defaultdict)"
   ]
  },
  {
   "cell_type": "code",
   "execution_count": 20,
   "metadata": {},
   "outputs": [
    {
     "data": {
      "text/plain": [
       "{1: {'k1', 'k3'}, 2: {'k2'}}"
      ]
     },
     "execution_count": 20,
     "metadata": {},
     "output_type": "execute_result"
    }
   ],
   "source": [
    "mapping = {'k1': 1, 'k2': 2, 'k3': 1}\n",
    "\n",
    "# Inefficient solution\n",
    "{value: {k for k, v in mapping.items() if v == value} for value in set(mapping.values())}"
   ]
  },
  {
   "cell_type": "markdown",
   "metadata": {},
   "source": [
    "for value in dictionary: \n",
    "    k = find all keys for which dictionary[key] = value\n",
    "    set.add(k)"
   ]
  },
  {
   "cell_type": "code",
   "execution_count": 21,
   "metadata": {},
   "outputs": [],
   "source": [
    "# Initial solution\n",
    "new_keys = defaultdict(set)\n",
    "for value in mapping.values():\n",
    "    for keys in mapping.keys():\n",
    "        if mapping[keys] == value:\n",
    "            new_keys[value].add(keys)        "
   ]
  },
  {
   "cell_type": "markdown",
   "metadata": {},
   "source": [
    "In this code, it is again inefficient to loop through both keys and values. All we need to do is \n",
    "* create a `defaultdict` of type `set` \n",
    "* loop through each k,v in the `items` \n",
    "* add each k to the v which is passed the key to our defaultdict."
   ]
  },
  {
   "cell_type": "code",
   "execution_count": 22,
   "metadata": {},
   "outputs": [],
   "source": [
    "def invert_dict(arg: Dict[str, int]) -> Dict[int, Set[str]]:\n",
    "    \"\"\"\n",
    "    Invert a dictionary\n",
    "    \n",
    "    :param arg:\n",
    "    :return: dict\n",
    "    \"\"\"\n",
    "    result = defaultdict(set)\n",
    "    for key, value in arg.items():\n",
    "        result[value].add(key)\n",
    "    return result"
   ]
  },
  {
   "cell_type": "code",
   "execution_count": 23,
   "metadata": {},
   "outputs": [
    {
     "data": {
      "text/plain": [
       "defaultdict(set, {1: {'k1', 'k3'}, 2: {'k2'}})"
      ]
     },
     "execution_count": 23,
     "metadata": {},
     "output_type": "execute_result"
    }
   ],
   "source": [
    "invert_dict(mapping)"
   ]
  },
  {
   "cell_type": "markdown",
   "metadata": {},
   "source": [
    "Use `defaultdict` in cases where you need to generate dictionary keys on the fly and `Counter` when you need to keep track of the occurrence of some value."
   ]
  }
 ],
 "metadata": {
  "kernelspec": {
   "display_name": "Python 3 (ipykernel)",
   "language": "python",
   "name": "python3"
  },
  "language_info": {
   "codemirror_mode": {
    "name": "ipython",
    "version": 3
   },
   "file_extension": ".py",
   "mimetype": "text/x-python",
   "name": "python",
   "nbconvert_exporter": "python",
   "pygments_lexer": "ipython3",
   "version": "3.9.13"
  },
  "toc": {
   "base_numbering": 1,
   "nav_menu": {
    "height": "480px",
    "width": "408px"
   },
   "number_sections": true,
   "sideBar": true,
   "skip_h1_title": false,
   "title_cell": "Table of Contents",
   "title_sidebar": "Contents",
   "toc_cell": false,
   "toc_position": {
    "height": "calc(100% - 180px)",
    "left": "10px",
    "top": "150px",
    "width": "240.875px"
   },
   "toc_section_display": true,
   "toc_window_display": true
  },
  "varInspector": {
   "cols": {
    "lenName": 16,
    "lenType": 16,
    "lenVar": 40
   },
   "kernels_config": {
    "python": {
     "delete_cmd_postfix": "",
     "delete_cmd_prefix": "del ",
     "library": "var_list.py",
     "varRefreshCmd": "print(var_dic_list())"
    },
    "r": {
     "delete_cmd_postfix": ") ",
     "delete_cmd_prefix": "rm(",
     "library": "var_list.r",
     "varRefreshCmd": "cat(var_dic_list()) "
    }
   },
   "position": {
    "height": "412.85px",
    "left": "706.4px",
    "right": "20px",
    "top": "216px",
    "width": "475.4px"
   },
   "types_to_exclude": [
    "module",
    "function",
    "builtin_function_or_method",
    "instance",
    "_Feature"
   ],
   "window_display": false
  }
 },
 "nbformat": 4,
 "nbformat_minor": 1
}
